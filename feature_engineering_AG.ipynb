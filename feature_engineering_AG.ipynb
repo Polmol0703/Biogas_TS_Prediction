{
 "cells": [
  {
   "cell_type": "code",
   "execution_count": 1,
   "metadata": {
    "collapsed": true
   },
   "outputs": [],
   "source": [
    "# import_notebooks is a custom python script\n",
    "# this line makes it possible to import functions from other IPython notebooks\n",
    "from import_notebooks import *"
   ]
  },
  {
   "cell_type": "code",
   "execution_count": 2,
   "metadata": {},
   "outputs": [
    {
     "name": "stdout",
     "output_type": "stream",
     "text": [
      "importing Jupyter notebook from Hainan_Data_Cleaning.ipynb\n",
      "importing Jupyter notebook from time_shift_dataframe.ipynb\n",
      "importing Jupyter notebook from Stratified_Split.ipynb\n",
      "importing Jupyter notebook from Cumulative.ipynb\n",
      "importing Jupyter notebook from Rollingsum.ipynb\n",
      "importing Jupyter notebook from LR_model.ipynb\n"
     ]
    },
    {
     "name": "stderr",
     "output_type": "stream",
     "text": [
      "C:\\Users\\Ashis\\Anaconda3\\envs\\data-x\\lib\\site-packages\\statsmodels\\compat\\pandas.py:56: FutureWarning: The pandas.core.datetools module is deprecated and will be removed in a future version. Please use the pandas.tseries module instead.\n",
      "  from pandas.core import datetools\n"
     ]
    },
    {
     "name": "stdout",
     "output_type": "stream",
     "text": [
      "importing Jupyter notebook from Classification_Functions.ipynb\n"
     ]
    },
    {
     "name": "stderr",
     "output_type": "stream",
     "text": [
      "C:\\Users\\Ashis\\Anaconda3\\envs\\data-x\\lib\\site-packages\\sklearn\\cross_validation.py:41: DeprecationWarning: This module was deprecated in version 0.18 in favor of the model_selection module into which all the refactored classes and functions are moved. Also note that the interface of the new CV iterators are different from that of this module. This module will be removed in 0.20.\n",
      "  \"This module will be removed in 0.20.\", DeprecationWarning)\n"
     ]
    },
    {
     "name": "stdout",
     "output_type": "stream",
     "text": [
      "importing Jupyter notebook from nn_model_keras.ipynb\n"
     ]
    },
    {
     "name": "stderr",
     "output_type": "stream",
     "text": [
      "Using TensorFlow backend.\n"
     ]
    },
    {
     "name": "stdout",
     "output_type": "stream",
     "text": [
      "importing Jupyter notebook from Utilities.ipynb\n"
     ]
    }
   ],
   "source": [
    "# Here we import all the functions (*) from these notebooks\n",
    "from Hainan_Data_Cleaning import *\n",
    "from time_shift_dataframe import *\n",
    "from Stratified_Split import *\n",
    "from Cumulative import *\n",
    "from Rollingsum import *\n",
    "from LR_model import *\n",
    "from Classification_Functions import *\n",
    "from nn_model_keras import *\n",
    "\n",
    "from Utilities import *"
   ]
  },
  {
   "cell_type": "code",
   "execution_count": 3,
   "metadata": {},
   "outputs": [
    {
     "name": "stdout",
     "output_type": "stream",
     "text": [
      "1393\n",
      "1393\n"
     ]
    }
   ],
   "source": [
    "# load_hainan_data() is from Hainan_Data_Cleaning and it loads hainan data\n",
    "df = load_hainan_data()\n",
    "df_ts = timeshift_df(df, 35)\n",
    "\n",
    "df_ts.columns.values\n",
    "df_ts_relfeatures = df_ts.drop(['Year', 'Month', 'Day','BioCNG', 'LiquidFertilizer',\n",
    "       'SolidFertilizer', 'WasteWater', 'SolidResidues','ProjectElectricity',\n",
    "       'OfficeElectricity', 'Water', 'Diesel'], axis=1)\n",
    "\n",
    "# FEATURE ENGINEERING - drop additional columns\n",
    "# drop 2ndary inputs\n",
    "# df_ts_relfeatures = df_ts_relfeatures.drop(['NaOH', 'FeCl2', 'PAM', 'Defoamer'], axis=1)\n",
    "\n",
    "print(df_ts_relfeatures.shape[0])\n",
    "df_ts_relfeatures = df_ts_relfeatures.apply(pd.to_numeric, errors='coerce')\n",
    "df_ts_relfeatures = df_ts_relfeatures.dropna()\n",
    "print(df_ts_relfeatures.shape[0])\n",
    "\n",
    "df_ts_relfeatures_roll = rollingsum(df_ts_relfeatures,37)\n",
    "\n"
   ]
  },
  {
   "cell_type": "code",
   "execution_count": 4,
   "metadata": {},
   "outputs": [
    {
     "data": {
      "text/html": [
       "<div>\n",
       "<style>\n",
       "    .dataframe thead tr:only-child th {\n",
       "        text-align: right;\n",
       "    }\n",
       "\n",
       "    .dataframe thead th {\n",
       "        text-align: left;\n",
       "    }\n",
       "\n",
       "    .dataframe tbody tr th {\n",
       "        vertical-align: top;\n",
       "    }\n",
       "</style>\n",
       "<table border=\"1\" class=\"dataframe\">\n",
       "  <thead>\n",
       "    <tr style=\"text-align: right;\">\n",
       "      <th></th>\n",
       "      <th>RawBiogas</th>\n",
       "      <th>PigManure</th>\n",
       "      <th>Cassava</th>\n",
       "      <th>FishWastewater</th>\n",
       "      <th>KitchenFoodWaste</th>\n",
       "      <th>MunicipalFecalWaste</th>\n",
       "      <th>TeaWaste</th>\n",
       "      <th>ChickenWaste</th>\n",
       "      <th>Bagasse</th>\n",
       "      <th>AlcoholWaste</th>\n",
       "      <th>ChineseMedicineWaste</th>\n",
       "      <th>EnergyGrass</th>\n",
       "      <th>BananaFruitShafts</th>\n",
       "      <th>LemonWaste</th>\n",
       "      <th>Percolate</th>\n",
       "      <th>Other</th>\n",
       "      <th>NaOH</th>\n",
       "      <th>FeCl2</th>\n",
       "      <th>PAM</th>\n",
       "      <th>Defoamer</th>\n",
       "    </tr>\n",
       "  </thead>\n",
       "  <tbody>\n",
       "    <tr>\n",
       "      <th>0</th>\n",
       "      <td>3310.0</td>\n",
       "      <td>0.0</td>\n",
       "      <td>0.0</td>\n",
       "      <td>0.0</td>\n",
       "      <td>0.0</td>\n",
       "      <td>0.0</td>\n",
       "      <td>0.0</td>\n",
       "      <td>0.0</td>\n",
       "      <td>0.0</td>\n",
       "      <td>0.0</td>\n",
       "      <td>0.0</td>\n",
       "      <td>0.0</td>\n",
       "      <td>0.0</td>\n",
       "      <td>0.0</td>\n",
       "      <td>0.0</td>\n",
       "      <td>0.0</td>\n",
       "      <td>0.0</td>\n",
       "      <td>0.0</td>\n",
       "      <td>0.0</td>\n",
       "      <td>0.0</td>\n",
       "    </tr>\n",
       "    <tr>\n",
       "      <th>1</th>\n",
       "      <td>2816.0</td>\n",
       "      <td>0.0</td>\n",
       "      <td>0.0</td>\n",
       "      <td>0.0</td>\n",
       "      <td>0.0</td>\n",
       "      <td>0.0</td>\n",
       "      <td>0.0</td>\n",
       "      <td>0.0</td>\n",
       "      <td>0.0</td>\n",
       "      <td>0.0</td>\n",
       "      <td>0.0</td>\n",
       "      <td>0.0</td>\n",
       "      <td>0.0</td>\n",
       "      <td>0.0</td>\n",
       "      <td>0.0</td>\n",
       "      <td>0.0</td>\n",
       "      <td>0.0</td>\n",
       "      <td>0.0</td>\n",
       "      <td>0.0</td>\n",
       "      <td>0.0</td>\n",
       "    </tr>\n",
       "    <tr>\n",
       "      <th>2</th>\n",
       "      <td>3227.0</td>\n",
       "      <td>0.0</td>\n",
       "      <td>0.0</td>\n",
       "      <td>0.0</td>\n",
       "      <td>0.0</td>\n",
       "      <td>0.0</td>\n",
       "      <td>0.0</td>\n",
       "      <td>0.0</td>\n",
       "      <td>0.0</td>\n",
       "      <td>0.0</td>\n",
       "      <td>0.0</td>\n",
       "      <td>0.0</td>\n",
       "      <td>0.0</td>\n",
       "      <td>0.0</td>\n",
       "      <td>0.0</td>\n",
       "      <td>0.0</td>\n",
       "      <td>0.0</td>\n",
       "      <td>0.0</td>\n",
       "      <td>0.0</td>\n",
       "      <td>0.0</td>\n",
       "    </tr>\n",
       "    <tr>\n",
       "      <th>3</th>\n",
       "      <td>3491.0</td>\n",
       "      <td>14.9</td>\n",
       "      <td>0.0</td>\n",
       "      <td>0.0</td>\n",
       "      <td>0.0</td>\n",
       "      <td>0.0</td>\n",
       "      <td>0.0</td>\n",
       "      <td>0.0</td>\n",
       "      <td>13.0</td>\n",
       "      <td>0.0</td>\n",
       "      <td>0.0</td>\n",
       "      <td>0.0</td>\n",
       "      <td>0.0</td>\n",
       "      <td>0.0</td>\n",
       "      <td>0.0</td>\n",
       "      <td>0.0</td>\n",
       "      <td>0.0</td>\n",
       "      <td>0.0</td>\n",
       "      <td>0.0</td>\n",
       "      <td>0.0</td>\n",
       "    </tr>\n",
       "    <tr>\n",
       "      <th>4</th>\n",
       "      <td>2828.0</td>\n",
       "      <td>0.0</td>\n",
       "      <td>0.0</td>\n",
       "      <td>0.0</td>\n",
       "      <td>0.0</td>\n",
       "      <td>0.0</td>\n",
       "      <td>0.0</td>\n",
       "      <td>0.0</td>\n",
       "      <td>16.0</td>\n",
       "      <td>0.0</td>\n",
       "      <td>0.0</td>\n",
       "      <td>0.0</td>\n",
       "      <td>0.0</td>\n",
       "      <td>0.0</td>\n",
       "      <td>0.0</td>\n",
       "      <td>0.0</td>\n",
       "      <td>0.0</td>\n",
       "      <td>0.0</td>\n",
       "      <td>0.0</td>\n",
       "      <td>0.0</td>\n",
       "    </tr>\n",
       "  </tbody>\n",
       "</table>\n",
       "</div>"
      ],
      "text/plain": [
       "   RawBiogas  PigManure  Cassava  FishWastewater  KitchenFoodWaste  \\\n",
       "0     3310.0        0.0      0.0             0.0               0.0   \n",
       "1     2816.0        0.0      0.0             0.0               0.0   \n",
       "2     3227.0        0.0      0.0             0.0               0.0   \n",
       "3     3491.0       14.9      0.0             0.0               0.0   \n",
       "4     2828.0        0.0      0.0             0.0               0.0   \n",
       "\n",
       "   MunicipalFecalWaste  TeaWaste  ChickenWaste  Bagasse  AlcoholWaste  \\\n",
       "0                  0.0       0.0           0.0      0.0           0.0   \n",
       "1                  0.0       0.0           0.0      0.0           0.0   \n",
       "2                  0.0       0.0           0.0      0.0           0.0   \n",
       "3                  0.0       0.0           0.0     13.0           0.0   \n",
       "4                  0.0       0.0           0.0     16.0           0.0   \n",
       "\n",
       "   ChineseMedicineWaste  EnergyGrass  BananaFruitShafts  LemonWaste  \\\n",
       "0                   0.0          0.0                0.0         0.0   \n",
       "1                   0.0          0.0                0.0         0.0   \n",
       "2                   0.0          0.0                0.0         0.0   \n",
       "3                   0.0          0.0                0.0         0.0   \n",
       "4                   0.0          0.0                0.0         0.0   \n",
       "\n",
       "   Percolate  Other  NaOH  FeCl2  PAM  Defoamer  \n",
       "0        0.0    0.0   0.0    0.0  0.0       0.0  \n",
       "1        0.0    0.0   0.0    0.0  0.0       0.0  \n",
       "2        0.0    0.0   0.0    0.0  0.0       0.0  \n",
       "3        0.0    0.0   0.0    0.0  0.0       0.0  \n",
       "4        0.0    0.0   0.0    0.0  0.0       0.0  "
      ]
     },
     "execution_count": 4,
     "metadata": {},
     "output_type": "execute_result"
    }
   ],
   "source": [
    "df = df_ts_relfeatures\n",
    "df.head()\n"
   ]
  },
  {
   "cell_type": "code",
   "execution_count": 5,
   "metadata": {},
   "outputs": [
    {
     "name": "stdout",
     "output_type": "stream",
     "text": [
      "(1356, 20)\n"
     ]
    },
    {
     "data": {
      "text/html": [
       "<div>\n",
       "<style>\n",
       "    .dataframe thead tr:only-child th {\n",
       "        text-align: right;\n",
       "    }\n",
       "\n",
       "    .dataframe thead th {\n",
       "        text-align: left;\n",
       "    }\n",
       "\n",
       "    .dataframe tbody tr th {\n",
       "        vertical-align: top;\n",
       "    }\n",
       "</style>\n",
       "<table border=\"1\" class=\"dataframe\">\n",
       "  <thead>\n",
       "    <tr style=\"text-align: right;\">\n",
       "      <th></th>\n",
       "      <th>RawBiogas</th>\n",
       "      <th>PigManure</th>\n",
       "      <th>Cassava</th>\n",
       "      <th>FishWastewater</th>\n",
       "      <th>KitchenFoodWaste</th>\n",
       "      <th>MunicipalFecalWaste</th>\n",
       "      <th>TeaWaste</th>\n",
       "      <th>ChickenWaste</th>\n",
       "      <th>Bagasse</th>\n",
       "      <th>AlcoholWaste</th>\n",
       "      <th>ChineseMedicineWaste</th>\n",
       "      <th>EnergyGrass</th>\n",
       "      <th>BananaFruitShafts</th>\n",
       "      <th>LemonWaste</th>\n",
       "      <th>Percolate</th>\n",
       "      <th>Other</th>\n",
       "      <th>NaOH</th>\n",
       "      <th>FeCl2</th>\n",
       "      <th>PAM</th>\n",
       "      <th>Defoamer</th>\n",
       "    </tr>\n",
       "  </thead>\n",
       "  <tbody>\n",
       "    <tr>\n",
       "      <th>0</th>\n",
       "      <td>92803.0</td>\n",
       "      <td>7029.93</td>\n",
       "      <td>0.0</td>\n",
       "      <td>0.0</td>\n",
       "      <td>0.0</td>\n",
       "      <td>0.0</td>\n",
       "      <td>0.0</td>\n",
       "      <td>0.0</td>\n",
       "      <td>291.07</td>\n",
       "      <td>0.0</td>\n",
       "      <td>0.0</td>\n",
       "      <td>0.0</td>\n",
       "      <td>0.0</td>\n",
       "      <td>0.0</td>\n",
       "      <td>0.0</td>\n",
       "      <td>267.78</td>\n",
       "      <td>5184.8</td>\n",
       "      <td>0.0</td>\n",
       "      <td>0.0</td>\n",
       "      <td>0.0</td>\n",
       "    </tr>\n",
       "    <tr>\n",
       "      <th>1</th>\n",
       "      <td>89493.0</td>\n",
       "      <td>7045.29</td>\n",
       "      <td>0.0</td>\n",
       "      <td>0.0</td>\n",
       "      <td>0.0</td>\n",
       "      <td>0.0</td>\n",
       "      <td>0.0</td>\n",
       "      <td>0.0</td>\n",
       "      <td>300.07</td>\n",
       "      <td>0.0</td>\n",
       "      <td>0.0</td>\n",
       "      <td>0.0</td>\n",
       "      <td>0.0</td>\n",
       "      <td>0.0</td>\n",
       "      <td>0.0</td>\n",
       "      <td>267.78</td>\n",
       "      <td>5184.8</td>\n",
       "      <td>0.0</td>\n",
       "      <td>0.0</td>\n",
       "      <td>0.0</td>\n",
       "    </tr>\n",
       "    <tr>\n",
       "      <th>2</th>\n",
       "      <td>87587.0</td>\n",
       "      <td>7051.59</td>\n",
       "      <td>0.0</td>\n",
       "      <td>0.0</td>\n",
       "      <td>0.0</td>\n",
       "      <td>0.0</td>\n",
       "      <td>0.0</td>\n",
       "      <td>0.0</td>\n",
       "      <td>315.07</td>\n",
       "      <td>0.0</td>\n",
       "      <td>0.0</td>\n",
       "      <td>0.0</td>\n",
       "      <td>0.0</td>\n",
       "      <td>0.0</td>\n",
       "      <td>0.0</td>\n",
       "      <td>267.78</td>\n",
       "      <td>5184.8</td>\n",
       "      <td>0.0</td>\n",
       "      <td>0.0</td>\n",
       "      <td>0.0</td>\n",
       "    </tr>\n",
       "    <tr>\n",
       "      <th>3</th>\n",
       "      <td>84360.0</td>\n",
       "      <td>7058.59</td>\n",
       "      <td>0.0</td>\n",
       "      <td>0.0</td>\n",
       "      <td>0.0</td>\n",
       "      <td>0.0</td>\n",
       "      <td>0.0</td>\n",
       "      <td>0.0</td>\n",
       "      <td>330.07</td>\n",
       "      <td>0.0</td>\n",
       "      <td>0.0</td>\n",
       "      <td>0.0</td>\n",
       "      <td>0.0</td>\n",
       "      <td>0.0</td>\n",
       "      <td>0.0</td>\n",
       "      <td>267.78</td>\n",
       "      <td>5184.8</td>\n",
       "      <td>0.0</td>\n",
       "      <td>0.0</td>\n",
       "      <td>0.0</td>\n",
       "    </tr>\n",
       "    <tr>\n",
       "      <th>4</th>\n",
       "      <td>83029.0</td>\n",
       "      <td>7047.54</td>\n",
       "      <td>0.0</td>\n",
       "      <td>0.0</td>\n",
       "      <td>0.0</td>\n",
       "      <td>0.0</td>\n",
       "      <td>0.0</td>\n",
       "      <td>0.0</td>\n",
       "      <td>321.57</td>\n",
       "      <td>0.0</td>\n",
       "      <td>0.0</td>\n",
       "      <td>0.0</td>\n",
       "      <td>0.0</td>\n",
       "      <td>0.0</td>\n",
       "      <td>0.0</td>\n",
       "      <td>267.78</td>\n",
       "      <td>5184.8</td>\n",
       "      <td>0.0</td>\n",
       "      <td>0.0</td>\n",
       "      <td>0.0</td>\n",
       "    </tr>\n",
       "  </tbody>\n",
       "</table>\n",
       "</div>"
      ],
      "text/plain": [
       "   RawBiogas  PigManure  Cassava  FishWastewater  KitchenFoodWaste  \\\n",
       "0    92803.0    7029.93      0.0             0.0               0.0   \n",
       "1    89493.0    7045.29      0.0             0.0               0.0   \n",
       "2    87587.0    7051.59      0.0             0.0               0.0   \n",
       "3    84360.0    7058.59      0.0             0.0               0.0   \n",
       "4    83029.0    7047.54      0.0             0.0               0.0   \n",
       "\n",
       "   MunicipalFecalWaste  TeaWaste  ChickenWaste  Bagasse  AlcoholWaste  \\\n",
       "0                  0.0       0.0           0.0   291.07           0.0   \n",
       "1                  0.0       0.0           0.0   300.07           0.0   \n",
       "2                  0.0       0.0           0.0   315.07           0.0   \n",
       "3                  0.0       0.0           0.0   330.07           0.0   \n",
       "4                  0.0       0.0           0.0   321.57           0.0   \n",
       "\n",
       "   ChineseMedicineWaste  EnergyGrass  BananaFruitShafts  LemonWaste  \\\n",
       "0                   0.0          0.0                0.0         0.0   \n",
       "1                   0.0          0.0                0.0         0.0   \n",
       "2                   0.0          0.0                0.0         0.0   \n",
       "3                   0.0          0.0                0.0         0.0   \n",
       "4                   0.0          0.0                0.0         0.0   \n",
       "\n",
       "   Percolate   Other    NaOH  FeCl2  PAM  Defoamer  \n",
       "0        0.0  267.78  5184.8    0.0  0.0       0.0  \n",
       "1        0.0  267.78  5184.8    0.0  0.0       0.0  \n",
       "2        0.0  267.78  5184.8    0.0  0.0       0.0  \n",
       "3        0.0  267.78  5184.8    0.0  0.0       0.0  \n",
       "4        0.0  267.78  5184.8    0.0  0.0       0.0  "
      ]
     },
     "execution_count": 5,
     "metadata": {},
     "output_type": "execute_result"
    }
   ],
   "source": [
    "df_final = df_ts_relfeatures_roll\n",
    "print(df_final.shape)\n",
    "df_final.head()"
   ]
  },
  {
   "cell_type": "code",
   "execution_count": 6,
   "metadata": {},
   "outputs": [
    {
     "name": "stdout",
     "output_type": "stream",
     "text": [
      "<class 'numpy.ndarray'> <class 'pandas.core.series.Series'>\n",
      "(1084, 19) (1084,) (272, 19) (272,)\n"
     ]
    }
   ],
   "source": [
    "x_train_r, y_train_r, x_test_r, y_test_r = test_train_for_regression(df_final)\n",
    "x_train_c, y_train_c, x_test_c, y_test_c, bins_c = test_train_for_classification(df_final, num_buckets = 7)\n",
    "print(type(x_train_c), type(y_test_c))\n",
    "np.savetxt(\"x_train_c.csv\", x_train_c, delimiter=\",\")\n",
    "np.savetxt(\"y_train_c.csv\", y_train_c, delimiter=\",\")\n",
    "np.savetxt(\"x_test_c.csv\", x_test_c, delimiter=\",\")\n",
    "np.savetxt(\"y_test_c.csv\", y_test_c, delimiter=\",\")\n",
    "\n",
    "x_train_c_1, y_train_c_1, x_test_c_1, y_test_c_1, bins_c_1 = test_train_for_classification(df_final, \\\n",
    "                                output_var=\"RawBiogas\", \\\n",
    "                                num_buckets = 7, one_hot=True)\n",
    "\n",
    "print(x_train_r.shape,  y_train_r.shape, x_test_r.shape, y_test_r.shape)\n",
    "# print(x_train_r.columns.values)"
   ]
  },
  {
   "cell_type": "code",
   "execution_count": 7,
   "metadata": {},
   "outputs": [
    {
     "name": "stdout",
     "output_type": "stream",
     "text": [
      "Starting linear regression model.\n",
      "                            OLS Regression Results                            \n",
      "==============================================================================\n",
      "Dep. Variable:              RawBiogas   R-squared:                       0.870\n",
      "Model:                            OLS   Adj. R-squared:                  0.867\n",
      "Method:                 Least Squares   F-statistic:                     373.3\n",
      "Date:                Fri, 20 Apr 2018   Prob (F-statistic):               0.00\n",
      "Time:                        18:30:36   Log-Likelihood:                -13678.\n",
      "No. Observations:                1084   AIC:                         2.740e+04\n",
      "Df Residuals:                    1064   BIC:                         2.750e+04\n",
      "Df Model:                          19                                         \n",
      "Covariance Type:            nonrobust                                         \n",
      "========================================================================================\n",
      "                           coef    std err          t      P>|t|      [0.025      0.975]\n",
      "----------------------------------------------------------------------------------------\n",
      "const                 2.293e+05   7605.794     30.149      0.000    2.14e+05    2.44e+05\n",
      "PigManure              -12.4096      2.649     -4.685      0.000     -17.607      -7.213\n",
      "Cassava                 74.2598      3.815     19.467      0.000      66.775      81.745\n",
      "FishWastewater        -107.0293     40.560     -2.639      0.008    -186.617     -27.442\n",
      "KitchenFoodWaste       544.1677     36.960     14.723      0.000     471.645     616.690\n",
      "MunicipalFecalWaste    -42.6165      6.938     -6.143      0.000     -56.230     -29.003\n",
      "TeaWaste              -208.5448    108.644     -1.920      0.055    -421.726       4.636\n",
      "ChickenWaste          -893.1399     64.696    -13.805      0.000   -1020.087    -766.193\n",
      "Bagasse                 55.2055      8.134      6.787      0.000      39.245      71.166\n",
      "AlcoholWaste          -265.8983     43.377     -6.130      0.000    -351.012    -180.784\n",
      "ChineseMedicineWaste  2059.0446    202.825     10.152      0.000    1661.062    2457.027\n",
      "EnergyGrass           -351.6530    289.457     -1.215      0.225    -919.625     216.319\n",
      "BananaFruitShafts     1004.7535     81.561     12.319      0.000     844.715    1164.792\n",
      "LemonWaste            1286.3453    249.612      5.153      0.000     796.557    1776.133\n",
      "Percolate                2.8823      2.686      1.073      0.283      -2.388       8.153\n",
      "Other                 -111.0943     14.243     -7.800      0.000    -139.041     -83.147\n",
      "NaOH                    -1.7939      0.300     -5.986      0.000      -2.382      -1.206\n",
      "FeCl2                   -2.4948      3.107     -0.803      0.422      -8.591       3.602\n",
      "PAM                    161.6423     28.768      5.619      0.000     105.194     218.090\n",
      "Defoamer              -869.0489   1404.661     -0.619      0.536   -3625.269    1887.171\n",
      "==============================================================================\n",
      "Omnibus:                       22.420   Durbin-Watson:                   2.030\n",
      "Prob(Omnibus):                  0.000   Jarque-Bera (JB):               23.516\n",
      "Skew:                           0.332   Prob(JB):                     7.83e-06\n",
      "Kurtosis:                       3.280   Cond. No.                     3.87e+04\n",
      "==============================================================================\n",
      "\n",
      "Warnings:\n",
      "[1] Standard Errors assume that the covariance matrix of the errors is correctly specified.\n",
      "[2] The condition number is large, 3.87e+04. This might indicate that there are\n",
      "strong multicollinearity or other numerical problems.\n",
      "The mean absolute error of linear regression on training set is:  57957.9692412\n",
      "The mean absolute error of linear regression test set is:  59196.9099592\n"
     ]
    }
   ],
   "source": [
    "# Linear Regression\n",
    "lr = run_lm(x_train_r, y_train_r, x_test_r, y_test_r)"
   ]
  },
  {
   "cell_type": "code",
   "execution_count": 8,
   "metadata": {
    "collapsed": true
   },
   "outputs": [
    {
     "name": "stdout",
     "output_type": "stream",
     "text": [
      "The mean absolute error of ridge regression on training set is:  70823.265243\n",
      "The mean absolute error of ridge regression test set is:  67863.7144257\n",
      "Starting keras model.\n",
      "19\n",
      "7\n",
      "Epoch 1/10\n",
      "1084/1084 [==============================] - 1s 1ms/step - loss: 1.1800 - mean_absolute_error: 0.1696 - categorical_accuracy: 0.5581\n",
      "Epoch 2/10\n",
      "1084/1084 [==============================] - 0s 312us/step - loss: 0.9998 - mean_absolute_error: 0.1423 - categorical_accuracy: 0.6162\n",
      "Epoch 3/10\n",
      "1084/1084 [==============================] - 0s 280us/step - loss: 0.9732 - mean_absolute_error: 0.1417 - categorical_accuracy: 0.6042\n",
      "Epoch 4/10\n",
      "1084/1084 [==============================] - 0s 307us/step - loss: 0.9911 - mean_absolute_error: 0.1456 - categorical_accuracy: 0.5775\n",
      "Epoch 5/10\n",
      "1084/1084 [==============================] - 0s 297us/step - loss: 0.9709 - mean_absolute_error: 0.1429 - categorical_accuracy: 0.5950\n",
      "Epoch 6/10\n",
      "1084/1084 [==============================] - 0s 285us/step - loss: 0.8893 - mean_absolute_error: 0.1353 - categorical_accuracy: 0.6411\n",
      "Epoch 7/10\n",
      "1084/1084 [==============================] - 0s 296us/step - loss: 1.0090 - mean_absolute_error: 0.1412 - categorical_accuracy: 0.6070\n",
      "Epoch 8/10\n",
      "1084/1084 [==============================] - 0s 299us/step - loss: 0.8810 - mean_absolute_error: 0.1346 - categorical_accuracy: 0.6347\n",
      "Epoch 9/10\n",
      "1084/1084 [==============================] - 0s 289us/step - loss: 0.8672 - mean_absolute_error: 0.1309 - categorical_accuracy: 0.6393\n",
      "Epoch 10/10\n",
      "1084/1084 [==============================] - 0s 305us/step - loss: 0.8712 - mean_absolute_error: 0.1277 - categorical_accuracy: 0.6375\n",
      "272/272 [==============================] - 0s 225us/step\n",
      "[1.0405765561496509, 0.13884440590353572, 0.61397058823529416]\n"
     ]
    }
   ],
   "source": [
    "rr = run_ridge(x_train_r, y_train_r, x_test_r, y_test_r, alpha = 0.5)\n",
    "\n",
    "# Classification\n",
    "lm = LogisticModel(x_train_c, y_train_c, x_test_c, y_test_c)\n",
    "\n",
    "dt = DecisionTree(x_train_c, y_train_c, x_test_c, y_test_c)\n",
    "\n",
    "rf = RandomForest(x_train_c, y_train_c, x_test_c, y_test_c)\n",
    "\n",
    "nb = NaiveBayes(x_train_c, y_train_c, x_test_c, y_test_c)\n",
    "\n",
    "\n",
    "# Neural Net \n",
    "l_and_m = run_keras_nn(x_train_c_1, y_train_c_1, x_test_c_1, y_test_c_1, \\\n",
    "             epochs=10, hidden_layers=6, layer_neurons = 300, \\\n",
    "             activation='tanh', learning_rate=0.01)"
   ]
  },
  {
   "cell_type": "code",
   "execution_count": 9,
   "metadata": {},
   "outputs": [
    {
     "name": "stdout",
     "output_type": "stream",
     "text": [
      "Linear Regression - Mean Absolute Error  train: 57957.9692412 test: 59196.9099592\n",
      "Ridge Regression - Mean Absolute Error  train: 57957.9692412 test: 59196.9099592\n",
      "Logistic Model - Accuracy: 0.794117647059\n",
      "Decision Tree - Accuracy: 0.930147058824\n",
      "Random Forest - Accuracy: 0.9375\n",
      "Naive Bayes - Accuracy: 0.5625\n",
      "Neural Net - Mean Absolute Error: 0.138844405904  Categorial Accuracy: 0.613970588235\n"
     ]
    },
    {
     "name": "stderr",
     "output_type": "stream",
     "text": [
      "C:\\Users\\Ashis\\Anaconda3\\envs\\data-x\\lib\\site-packages\\sklearn\\cross_validation.py:41: DeprecationWarning: This module was deprecated in version 0.18 in favor of the model_selection module into which all the refactored classes and functions are moved. Also note that the interface of the new CV iterators are different from that of this module. This module will be removed in 0.20.\n",
      "  \"This module will be removed in 0.20.\", DeprecationWarning)\n"
     ]
    },
    {
     "name": "stdout",
     "output_type": "stream",
     "text": [
      "XGBoost - Accuracy:  0.9375\n"
     ]
    }
   ],
   "source": [
    "print(\"Linear Regression - Mean Absolute Error \", \"train:\",lr[0], \"test:\",lr[1])\n",
    "print(\"Ridge Regression - Mean Absolute Error \", \"train:\",lr[0], \"test:\",lr[1])\n",
    "print(\"Logistic Model - Accuracy:\", lm[1])\n",
    "print(\"Decision Tree - Accuracy:\", dt[1])\n",
    "print(\"Random Forest - Accuracy:\", rf[1])\n",
    "print(\"Naive Bayes - Accuracy:\", nb[1])\n",
    "print(\"Neural Net - Mean Absolute Error:\", l_and_m[1], \" Categorial Accuracy:\", l_and_m[2])\n",
    "import xgboost as xgb\n",
    "\n",
    "gradboost = xgb.XGBClassifier(n_estimators=1000)\n",
    "gradboost.fit(x_train_c, y_train_c)\n",
    "acc = gradboost.score(x_test_c, y_test_c)\n",
    "print(\"XGBoost - Accuracy: \", acc)"
   ]
  },
  {
   "cell_type": "code",
   "execution_count": 10,
   "metadata": {},
   "outputs": [
    {
     "data": {
      "text/plain": [
       "['decision_tree_AG.pkl']"
      ]
     },
     "execution_count": 10,
     "metadata": {},
     "output_type": "execute_result"
    }
   ],
   "source": [
    "from sklearn.externals import joblib\n",
    "joblib.dump(dt, 'decision_tree_AG.pkl') "
   ]
  },
  {
   "cell_type": "code",
   "execution_count": 11,
   "metadata": {},
   "outputs": [],
   "source": [
    "import pickle\n",
    "pickle.dump( dt, open( \"dt_AG.p\", \"wb\" ) )"
   ]
  },
  {
   "cell_type": "code",
   "execution_count": 12,
   "metadata": {},
   "outputs": [],
   "source": [
    "pickle.dump(gradboost, open(\"xg_AG.p\", \"wb\"))"
   ]
  },
  {
   "cell_type": "code",
   "execution_count": null,
   "metadata": {
    "collapsed": true
   },
   "outputs": [],
   "source": []
  }
 ],
 "metadata": {
  "kernelspec": {
   "display_name": "Python 3",
   "language": "python",
   "name": "python3"
  },
  "language_info": {
   "codemirror_mode": {
    "name": "ipython",
    "version": 3
   },
   "file_extension": ".py",
   "mimetype": "text/x-python",
   "name": "python",
   "nbconvert_exporter": "python",
   "pygments_lexer": "ipython3",
   "version": "3.6.3"
  }
 },
 "nbformat": 4,
 "nbformat_minor": 2
}
