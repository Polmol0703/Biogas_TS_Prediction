{
 "cells": [
  {
   "cell_type": "code",
   "execution_count": 3,
   "metadata": {
    "collapsed": true
   },
   "outputs": [],
   "source": [
    "from sklearn.linear_model import LogisticRegression\n",
    "from sklearn.tree import DecisionTreeClassifier\n",
    "from sklearn.ensemble import RandomForestClassifier\n",
    "from sklearn.naive_bayes import GaussianNB\n",
    "import numpy as np\n",
    "import xgboost as xgb"
   ]
  },
  {
   "cell_type": "code",
   "execution_count": 4,
   "metadata": {
    "collapsed": true
   },
   "outputs": [],
   "source": [
    "def LogisticModel(x_train, y_train, x_test, y_test, C=1, penalty=\"l2\"):\n",
    "    np.random.seed(1337)\n",
    "    log_model = LogisticRegression(C=C, penalty=penalty) # specify model parameters\n",
    "    log_model.fit(x_train, y_train) # create model\n",
    "    accuracy = log_model.score(x_test, y_test) # get model score\n",
    "    return [log_model, accuracy]"
   ]
  },
  {
   "cell_type": "code",
   "execution_count": 5,
   "metadata": {
    "collapsed": true
   },
   "outputs": [],
   "source": [
    "def DecisionTree(x_train, y_train, x_test, y_test, max_depth=None, min_samples_split=2, min_samples_leaf=1, \n",
    "                 min_weight_fraction_leaf=0, max_leaf_nodes=None, max_features=\"auto\"):\n",
    "    # specify model parameters\n",
    "    np.random.seed(1337)\n",
    "    clf = DecisionTreeClassifier(max_depth=max_depth, min_samples_split=min_samples_split, min_samples_leaf=min_samples_leaf, \n",
    "                                min_weight_fraction_leaf=min_weight_fraction_leaf, max_leaf_nodes=max_leaf_nodes, \n",
    "                                 max_features=max_features)\n",
    "    clf.fit(x_train, y_train) # create model\n",
    "    accuracy = clf.score(x_test, y_test) # get model score\n",
    "    return [clf, accuracy]"
   ]
  },
  {
   "cell_type": "code",
   "execution_count": 6,
   "metadata": {
    "collapsed": true
   },
   "outputs": [],
   "source": [
    "def RandomForest(x_train, y_train, x_test, y_test, max_depth=None, min_samples_split=2, min_samples_leaf=1, \n",
    "                min_weight_fraction_leaf=0, max_leaf_nodes=None, max_features=\"auto\"):\n",
    "    # specify model parameters\n",
    "    np.random.seed(1337)\n",
    "    clf = RandomForestClassifier(max_depth=max_depth, min_samples_split=min_samples_split, min_samples_leaf=min_samples_leaf, \n",
    "                                min_weight_fraction_leaf=min_weight_fraction_leaf, max_leaf_nodes=max_leaf_nodes, \n",
    "                                 max_features=max_features)\n",
    "    clf.fit(x_train, y_train) # create model\n",
    "    accuracy = clf.score(x_test, y_test) # get model score\n",
    "    return [clf, accuracy]"
   ]
  },
  {
   "cell_type": "code",
   "execution_count": 7,
   "metadata": {
    "collapsed": true
   },
   "outputs": [],
   "source": [
    "def NaiveBayes(x_train, y_train, x_test, y_test, priors=None):\n",
    "    np.random.seed(1337)\n",
    "    clf = GaussianNB(priors=priors) # specify model parameters\n",
    "    clf.fit(x_train, y_train) # create model\n",
    "    accuracy = clf.score(x_test, y_test) # get model score\n",
    "    return [clf, accuracy]"
   ]
  },
  {
   "cell_type": "code",
   "execution_count": 8,
   "metadata": {
    "collapsed": true
   },
   "outputs": [],
   "source": [
    "def XGBoost(x_train, y_train, x_test, y_test, n_estimators=1000):\n",
    "    np.random.seed(1337)\n",
    "    gradboost = xgb.XGBClassifier(n_estimators=n_estimators)\n",
    "    gradboost.fit(x_train, y_train)\n",
    "    accuracy = gradboost.score(x_test, y_test)\n",
    "    return [gradboost, accuracy]"
   ]
  },
  {
   "cell_type": "code",
   "execution_count": null,
   "metadata": {
    "collapsed": true
   },
   "outputs": [],
   "source": []
  }
 ],
 "metadata": {
  "kernelspec": {
   "display_name": "Python 3",
   "language": "python",
   "name": "python3"
  },
  "language_info": {
   "codemirror_mode": {
    "name": "ipython",
    "version": 3
   },
   "file_extension": ".py",
   "mimetype": "text/x-python",
   "name": "python",
   "nbconvert_exporter": "python",
   "pygments_lexer": "ipython3",
   "version": "3.6.3"
  }
 },
 "nbformat": 4,
 "nbformat_minor": 2
}
