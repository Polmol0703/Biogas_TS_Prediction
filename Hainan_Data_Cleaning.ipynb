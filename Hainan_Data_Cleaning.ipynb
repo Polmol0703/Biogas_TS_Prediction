{
 "cells": [
  {
   "cell_type": "code",
   "execution_count": 1,
   "metadata": {},
   "outputs": [],
   "source": [
    "import pandas as pd\n",
    "import numpy as np"
   ]
  },
  {
   "cell_type": "code",
   "execution_count": 2,
   "metadata": {},
   "outputs": [],
   "source": [
    "def load_hainan_data():\n",
    "    df = pd.read_csv(\"Data/HainanClean_FINAL.csv\")\n",
    "\n",
    "    df = df.drop(\"Month #\", axis=1)\n",
    "    df = df.drop(\"Day #\", axis=1)\n",
    "    df = df.drop(\"BioCNG Sold (m3)\", axis=1)\n",
    "    df = df.drop(\"Vehicle use (m3)\", axis=1)\n",
    "    df.head()\n",
    "\n",
    "    # biogas production is in units of m3\n",
    "    df = df.rename(index=str, columns={\"Raw Biogas Produced (m3)\": \"RawBiogas\", \"BioCNG Produced (m3)\": \"BioCNG\"})\n",
    "\n",
    "    # fertilizer production is in units of t\n",
    "    df = df.rename(index=str, columns={\"Liquid Fertilizer Produced (t)\": \"LiquidFertilizer\", \"Solid fertilizer produced (t)\": \"SolidFertilizer\"})\n",
    "\n",
    "    # solid residues is in units of kg\n",
    "    df = df.rename(index=str, columns={\"Solid residues (kg)\": \"SolidResidues\"})\n",
    "\n",
    "    # all inputs are in units of t\n",
    "    df = df.rename(index=str, columns={\"Pig Manure (t)\": \"PigManure\", \"Cassava (t)\": \"Cassava\", \"Fish waste water (t)\": \"FishWastewater\", \n",
    "                                       \"Kitchen food waste (t)\": \"KitchenFoodWaste\", \"Municipal fecal residue (t)\": \"MunicipalFecalWaste\", \n",
    "                                       \"Tea waste (t)\": \"TeaWaste\", \"Chicken litter (t)\": \"ChickenWaste\", \"Bagasse feed (t)\": \"Bagasse\",\n",
    "                                      \"Alcohol waste (t)\": \"AlcoholWaste\", \"Chinese medicine waste (t)\": \"ChineseMedicineWaste\", \n",
    "                                       \"Energy grass (t)\": \"EnergyGrass\", \"Banana fruit shafts (t)\": \"BananaFruitShafts\", \"Lemon waste (t)\": \"LemonWaste\",\n",
    "                                      \"Percolate (t)\": \"Percolate\", \"Other waste (t)\": \"Other\"})\n",
    "\n",
    "    # all aux chemical inputs are in units of kg\n",
    "    df = df.rename(index=str, columns={\"50% NaOH/kg\": \"NaOH\", \"FeCl2/kg\": \"FeCl2\", \"PAM/kg\": \"PAM\", \"Defoamer/kg\": \"Defoamer\"})\n",
    "\n",
    "    # electricity outputs are in units of kWh\n",
    "    df = df.rename(index=str, columns={\"Project electricity use/kWh\": \"ProjectElectricity\", \"Office space electricity use/kWh\": \"OfficeElectricity\"})\n",
    "\n",
    "    # water is in units of m3 and diesel is in units of L\n",
    "    # Ashis added wastewater column name change - he doesn't know what the units were (not in heading)\n",
    "    df = df.rename(index=str, columns={\"Water/m3\": \"Water\", \"Diesel/L\": \"Diesel\", \"Wastewater flow to WWTP (unit?)\": \"WasteWater\"})\n",
    "    \n",
    "    # convert all strings to numbers\n",
    "    df.TeaWaste = pd.to_numeric(df.TeaWaste, errors=\"coerce\")\n",
    "    df.FeCl2 = pd.to_numeric(df.FeCl2, errors=\"coerce\")\n",
    "    df.Defoamer = pd.to_numeric(df.Defoamer, errors=\"coerce\")\n",
    "    df.ProjectElectricity = pd.to_numeric(df.ProjectElectricity, errors=\"coerce\")\n",
    "    df.Water = pd.to_numeric(df.Water, errors=\"coerce\")\n",
    "    \n",
    "    # fill nan values\n",
    "    df = df.fillna(0)\n",
    "    \n",
    "    df.head()\n",
    "    return df"
   ]
  },
  {
   "cell_type": "code",
   "execution_count": null,
   "metadata": {},
   "outputs": [],
   "source": []
  }
 ],
 "metadata": {
  "kernelspec": {
   "display_name": "Python 3",
   "language": "python",
   "name": "python3"
  },
  "language_info": {
   "codemirror_mode": {
    "name": "ipython",
    "version": 3
   },
   "file_extension": ".py",
   "mimetype": "text/x-python",
   "name": "python",
   "nbconvert_exporter": "python",
   "pygments_lexer": "ipython3",
   "version": "3.6.3"
  }
 },
 "nbformat": 4,
 "nbformat_minor": 2
}
