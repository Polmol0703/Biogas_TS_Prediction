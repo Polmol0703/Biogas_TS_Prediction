{
 "cells": [
  {
   "cell_type": "code",
   "execution_count": null,
   "metadata": {},
   "outputs": [],
   "source": [
    "# Cumulative features (a week of input to predict the next week of output): would eliminate some of the zeros\n",
    "# Buckets for input as well as output output (bucket inputs by type (contains lipids...))\n",
    "# Feature engineering (combine some inputs, make some new ones)\n",
    "# Test/train split\n",
    "# DO TIME SHIFT BEFORE\n",
    "# Keep things simple, work with one model when feature engineering\n",
    "# Increasing or decreasing return of scale?\n",
    "\n",
    "\n",
    "\n",
    "\n",
    "\n",
    "# Step 1: Create different csv files with time shifts and run it through 1 or many models to see which is better\n",
    "# Step 2: Use that time to combine input and output (cumulative feature)\n",
    "# Step 3: Think about test/train split and feature engineering (ask for Djavi's help on that)\n",
    "\n",
    "\n",
    "\n",
    "# Step 1: Create 2 different excel files: one with time shift by 18 days (for Biogas) and one with 30 days (for fertilizer)\n",
    "# Step 2: Try those different methods:\n",
    "                         #- cumulative features (use time shift to do cumulative sum)\n",
    "                         #-"
   ]
  }
 ],
 "metadata": {
  "kernelspec": {
   "display_name": "Python 3",
   "language": "python",
   "name": "python3"
  },
  "language_info": {
   "codemirror_mode": {
    "name": "ipython",
    "version": 3
   },
   "file_extension": ".py",
   "mimetype": "text/x-python",
   "name": "python",
   "nbconvert_exporter": "python",
   "pygments_lexer": "ipython3",
   "version": "3.6.3"
  }
 },
 "nbformat": 4,
 "nbformat_minor": 2
}
