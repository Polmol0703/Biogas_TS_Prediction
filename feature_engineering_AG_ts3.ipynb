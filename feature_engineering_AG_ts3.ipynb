{
 "cells": [
  {
   "cell_type": "code",
   "execution_count": 10,
   "metadata": {
    "collapsed": true
   },
   "outputs": [],
   "source": [
    "# import_notebooks is a custom python script\n",
    "# this line makes it possible to import functions from other IPython notebooks\n",
    "from import_notebooks import *"
   ]
  },
  {
   "cell_type": "code",
   "execution_count": 11,
   "metadata": {
    "collapsed": false
   },
   "outputs": [],
   "source": [
    "# Here we import all the functions (*) from these notebooks\n",
    "from Hainan_Data_Cleaning import *\n",
    "from time_shift_dataframe import *\n",
    "from Stratified_Split import *\n",
    "from Cumulative import *\n",
    "from Rollingsum import *\n",
    "from LR_model import *\n",
    "from Classification_Functions import *\n",
    "from nn_model_keras import *\n",
    "\n",
    "from Utilities import *"
   ]
  },
  {
   "cell_type": "code",
   "execution_count": 12,
   "metadata": {
    "collapsed": false
   },
   "outputs": [
    {
     "name": "stdout",
     "output_type": "stream",
     "text": [
      "1413\n",
      "1413\n"
     ]
    }
   ],
   "source": [
    "# load_hainan_data() is from Hainan_Data_Cleaning and it loads hainan data\n",
    "df = load_hainan_data()\n",
    "df_ts = timeshift_df(df, 15)\n",
    "\n",
    "df_ts.columns.values\n",
    "df_ts_relfeatures = df_ts.drop(['Year', 'Month', 'Day','BioCNG', 'LiquidFertilizer',\n",
    "       'SolidFertilizer', 'WasteWater', 'SolidResidues','ProjectElectricity',\n",
    "       'OfficeElectricity', 'Water', 'Diesel'], axis=1)\n",
    "\n",
    "print(df_ts_relfeatures.shape[0])\n",
    "df_ts_relfeatures = df_ts_relfeatures.apply(pd.to_numeric, errors='coerce')\n",
    "df_ts_relfeatures = df_ts_relfeatures.dropna()\n",
    "print(df_ts_relfeatures.shape[0])\n",
    "\n",
    "# df_ts_relfeatures_roll = rollingsum(df_ts_relfeatures,10)\n",
    "\n"
   ]
  },
  {
   "cell_type": "code",
   "execution_count": 13,
   "metadata": {},
   "outputs": [
    {
     "data": {
      "text/html": [
       "<div>\n",
       "<style>\n",
       "    .dataframe thead tr:only-child th {\n",
       "        text-align: right;\n",
       "    }\n",
       "\n",
       "    .dataframe thead th {\n",
       "        text-align: left;\n",
       "    }\n",
       "\n",
       "    .dataframe tbody tr th {\n",
       "        vertical-align: top;\n",
       "    }\n",
       "</style>\n",
       "<table border=\"1\" class=\"dataframe\">\n",
       "  <thead>\n",
       "    <tr style=\"text-align: right;\">\n",
       "      <th></th>\n",
       "      <th>RawBiogas</th>\n",
       "      <th>PigManure</th>\n",
       "      <th>Cassava</th>\n",
       "      <th>FishWastewater</th>\n",
       "      <th>KitchenFoodWaste</th>\n",
       "      <th>MunicipalFecalWaste</th>\n",
       "      <th>TeaWaste</th>\n",
       "      <th>ChickenWaste</th>\n",
       "      <th>Bagasse</th>\n",
       "      <th>AlcoholWaste</th>\n",
       "      <th>ChineseMedicineWaste</th>\n",
       "      <th>EnergyGrass</th>\n",
       "      <th>BananaFruitShafts</th>\n",
       "      <th>LemonWaste</th>\n",
       "      <th>Percolate</th>\n",
       "      <th>Other</th>\n",
       "      <th>NaOH</th>\n",
       "      <th>FeCl2</th>\n",
       "      <th>PAM</th>\n",
       "      <th>Defoamer</th>\n",
       "    </tr>\n",
       "  </thead>\n",
       "  <tbody>\n",
       "    <tr>\n",
       "      <th>0</th>\n",
       "      <td>0.0</td>\n",
       "      <td>0.0</td>\n",
       "      <td>0.0</td>\n",
       "      <td>0.0</td>\n",
       "      <td>0.0</td>\n",
       "      <td>0.0</td>\n",
       "      <td>0.0</td>\n",
       "      <td>0.0</td>\n",
       "      <td>0.0</td>\n",
       "      <td>0.0</td>\n",
       "      <td>0.0</td>\n",
       "      <td>0.0</td>\n",
       "      <td>0.0</td>\n",
       "      <td>0.0</td>\n",
       "      <td>0.0</td>\n",
       "      <td>0.0</td>\n",
       "      <td>0.0</td>\n",
       "      <td>0.0</td>\n",
       "      <td>0.0</td>\n",
       "      <td>0.0</td>\n",
       "    </tr>\n",
       "    <tr>\n",
       "      <th>1</th>\n",
       "      <td>0.0</td>\n",
       "      <td>0.0</td>\n",
       "      <td>0.0</td>\n",
       "      <td>0.0</td>\n",
       "      <td>0.0</td>\n",
       "      <td>0.0</td>\n",
       "      <td>0.0</td>\n",
       "      <td>0.0</td>\n",
       "      <td>0.0</td>\n",
       "      <td>0.0</td>\n",
       "      <td>0.0</td>\n",
       "      <td>0.0</td>\n",
       "      <td>0.0</td>\n",
       "      <td>0.0</td>\n",
       "      <td>0.0</td>\n",
       "      <td>0.0</td>\n",
       "      <td>0.0</td>\n",
       "      <td>0.0</td>\n",
       "      <td>0.0</td>\n",
       "      <td>0.0</td>\n",
       "    </tr>\n",
       "    <tr>\n",
       "      <th>2</th>\n",
       "      <td>0.0</td>\n",
       "      <td>0.0</td>\n",
       "      <td>0.0</td>\n",
       "      <td>0.0</td>\n",
       "      <td>0.0</td>\n",
       "      <td>0.0</td>\n",
       "      <td>0.0</td>\n",
       "      <td>0.0</td>\n",
       "      <td>0.0</td>\n",
       "      <td>0.0</td>\n",
       "      <td>0.0</td>\n",
       "      <td>0.0</td>\n",
       "      <td>0.0</td>\n",
       "      <td>0.0</td>\n",
       "      <td>0.0</td>\n",
       "      <td>0.0</td>\n",
       "      <td>0.0</td>\n",
       "      <td>0.0</td>\n",
       "      <td>0.0</td>\n",
       "      <td>0.0</td>\n",
       "    </tr>\n",
       "    <tr>\n",
       "      <th>3</th>\n",
       "      <td>0.0</td>\n",
       "      <td>14.9</td>\n",
       "      <td>0.0</td>\n",
       "      <td>0.0</td>\n",
       "      <td>0.0</td>\n",
       "      <td>0.0</td>\n",
       "      <td>0.0</td>\n",
       "      <td>0.0</td>\n",
       "      <td>13.0</td>\n",
       "      <td>0.0</td>\n",
       "      <td>0.0</td>\n",
       "      <td>0.0</td>\n",
       "      <td>0.0</td>\n",
       "      <td>0.0</td>\n",
       "      <td>0.0</td>\n",
       "      <td>0.0</td>\n",
       "      <td>0.0</td>\n",
       "      <td>0.0</td>\n",
       "      <td>0.0</td>\n",
       "      <td>0.0</td>\n",
       "    </tr>\n",
       "    <tr>\n",
       "      <th>4</th>\n",
       "      <td>0.0</td>\n",
       "      <td>0.0</td>\n",
       "      <td>0.0</td>\n",
       "      <td>0.0</td>\n",
       "      <td>0.0</td>\n",
       "      <td>0.0</td>\n",
       "      <td>0.0</td>\n",
       "      <td>0.0</td>\n",
       "      <td>16.0</td>\n",
       "      <td>0.0</td>\n",
       "      <td>0.0</td>\n",
       "      <td>0.0</td>\n",
       "      <td>0.0</td>\n",
       "      <td>0.0</td>\n",
       "      <td>0.0</td>\n",
       "      <td>0.0</td>\n",
       "      <td>0.0</td>\n",
       "      <td>0.0</td>\n",
       "      <td>0.0</td>\n",
       "      <td>0.0</td>\n",
       "    </tr>\n",
       "  </tbody>\n",
       "</table>\n",
       "</div>"
      ],
      "text/plain": [
       "   RawBiogas  PigManure  Cassava  FishWastewater  KitchenFoodWaste  \\\n",
       "0        0.0        0.0      0.0             0.0               0.0   \n",
       "1        0.0        0.0      0.0             0.0               0.0   \n",
       "2        0.0        0.0      0.0             0.0               0.0   \n",
       "3        0.0       14.9      0.0             0.0               0.0   \n",
       "4        0.0        0.0      0.0             0.0               0.0   \n",
       "\n",
       "   MunicipalFecalWaste  TeaWaste  ChickenWaste  Bagasse  AlcoholWaste  \\\n",
       "0                  0.0       0.0           0.0      0.0           0.0   \n",
       "1                  0.0       0.0           0.0      0.0           0.0   \n",
       "2                  0.0       0.0           0.0      0.0           0.0   \n",
       "3                  0.0       0.0           0.0     13.0           0.0   \n",
       "4                  0.0       0.0           0.0     16.0           0.0   \n",
       "\n",
       "   ChineseMedicineWaste  EnergyGrass  BananaFruitShafts  LemonWaste  \\\n",
       "0                   0.0          0.0                0.0         0.0   \n",
       "1                   0.0          0.0                0.0         0.0   \n",
       "2                   0.0          0.0                0.0         0.0   \n",
       "3                   0.0          0.0                0.0         0.0   \n",
       "4                   0.0          0.0                0.0         0.0   \n",
       "\n",
       "   Percolate  Other  NaOH  FeCl2  PAM  Defoamer  \n",
       "0        0.0    0.0   0.0    0.0  0.0       0.0  \n",
       "1        0.0    0.0   0.0    0.0  0.0       0.0  \n",
       "2        0.0    0.0   0.0    0.0  0.0       0.0  \n",
       "3        0.0    0.0   0.0    0.0  0.0       0.0  \n",
       "4        0.0    0.0   0.0    0.0  0.0       0.0  "
      ]
     },
     "execution_count": 13,
     "metadata": {},
     "output_type": "execute_result"
    }
   ],
   "source": [
    "df = df_ts_relfeatures\n",
    "df.head()\n"
   ]
  },
  {
   "cell_type": "code",
   "execution_count": 14,
   "metadata": {
    "collapsed": true
   },
   "outputs": [
    {
     "name": "stdout",
     "output_type": "stream",
     "text": [
      "['RawBiogas3', 'Bagasse3', 'PigManure3', 'RawBiogas', 'PigManure', 'Cassava', 'FishWastewater', 'KitchenFoodWaste', 'MunicipalFecalWaste', 'TeaWaste', 'ChickenWaste', 'Bagasse', 'AlcoholWaste', 'ChineseMedicineWaste', 'EnergyGrass', 'BananaFruitShafts', 'LemonWaste', 'Percolate', 'Other', 'NaOH', 'FeCl2', 'PAM', 'Defoamer']\n"
     ]
    }
   ],
   "source": [
    "# FEATURE ENGINEERING GOES HERE\n",
    "df_ts_relfeatures.head()\n",
    "df = df_ts_relfeatures.copy()\n",
    "df.head()\n",
    "\n",
    "columns = df.columns.tolist()\n",
    "df[\"RawBiogas3\"] = np.zeros(df.shape[0])\n",
    "df[\"Bagasse3\"] = np.zeros(df.shape[0])\n",
    "df[\"PigManure3\"] = np.zeros(df.shape[0])\n",
    "new_columns = list([\"RawBiogas3\", \"Bagasse3\", \"PigManure3\"])\n",
    "new_columns.extend(columns)\n",
    "print(new_columns)\n",
    "df = df[new_columns]\n",
    "df.head()\n",
    "\n",
    "\n",
    "for i in range(2,df[\"RawBiogas\"].shape[0]):\n",
    "    df[\"RawBiogas3\"][i] = sum([df[\"RawBiogas\"][i-j] for j in range(3)])\n",
    "    df[\"Bagasse3\"][i] = sum([df[\"Bagasse\"][i-j] for j in range(3)])\n",
    "    df[\"PigManure3\"][i] = sum([df[\"PigManure\"][i-j] for j in range(3)])\n",
    "\n",
    "df.head(10)\n",
    "df.drop(df.head(3).index,inplace=True)\n",
    "df.head(10)\n",
    "df.drop([\"RawBiogas\"], axis=1, inplace=True)\n",
    "df.head(10)\n",
    "\n",
    "df_final = df.copy()\n"
   ]
  },
  {
   "cell_type": "code",
   "execution_count": 15,
   "metadata": {
    "collapsed": false
   },
   "outputs": [
    {
     "name": "stdout",
     "output_type": "stream",
     "text": [
      "(1128, 21) (1128,) (282, 21) (282,)\n"
     ]
    }
   ],
   "source": [
    "x_train_r, y_train_r, x_test_r, y_test_r = test_train_for_regression(df_final, \"RawBiogas3\")\n",
    "x_train_c, y_train_c, x_test_c, y_test_c = test_train_for_classification(df_final, \"RawBiogas3\", num_buckets = 7)\n",
    "x_train_c_1, y_train_c_1, x_test_c_1, y_test_c_1 = test_train_for_classification(df_final, \\\n",
    "                                output_var=\"RawBiogas3\", \\\n",
    "                                num_buckets = 7, one_hot=True)\n",
    "\n",
    "print(x_train_r.shape,  y_train_r.shape, x_test_r.shape, y_test_r.shape)\n",
    "# print(x_train_r.columns.values)"
   ]
  },
  {
   "cell_type": "code",
   "execution_count": 16,
   "metadata": {
    "collapsed": false
   },
   "outputs": [
    {
     "name": "stdout",
     "output_type": "stream",
     "text": [
      "Starting linear regression model.\n",
      "                            OLS Regression Results                            \n",
      "==============================================================================\n",
      "Dep. Variable:             RawBiogas3   R-squared:                       0.653\n",
      "Model:                            OLS   Adj. R-squared:                  0.646\n",
      "Method:                 Least Squares   F-statistic:                     99.09\n",
      "Date:                Mon, 16 Apr 2018   Prob (F-statistic):          1.33e-236\n",
      "Time:                        03:53:23   Log-Likelihood:                -12048.\n",
      "No. Observations:                1128   AIC:                         2.414e+04\n",
      "Df Residuals:                    1106   BIC:                         2.425e+04\n",
      "Df Model:                          21                                         \n",
      "Covariance Type:            nonrobust                                         \n",
      "========================================================================================\n",
      "                           coef    std err          t      P>|t|      [0.025      0.975]\n",
      "----------------------------------------------------------------------------------------\n",
      "const                  1.57e+04    586.058     26.783      0.000    1.45e+04    1.68e+04\n",
      "Bagasse3                27.8929     18.894      1.476      0.140      -9.180      64.966\n",
      "PigManure3              -1.2010      1.111     -1.081      0.280      -3.380       0.978\n",
      "PigManure               -0.0573      1.912     -0.030      0.976      -3.809       3.694\n",
      "Cassava                188.1031     13.608     13.823      0.000     161.403     214.803\n",
      "FishWastewater         -33.9128     64.829     -0.523      0.601    -161.114      93.289\n",
      "KitchenFoodWaste       243.3979     32.866      7.406      0.000     178.911     307.885\n",
      "MunicipalFecalWaste     70.7034     13.288      5.321      0.000      44.630      96.777\n",
      "TeaWaste               118.6881    119.700      0.992      0.322    -116.177     353.553\n",
      "ChickenWaste           107.7172     52.368      2.057      0.040       4.965     210.470\n",
      "Bagasse                 83.4702     51.706      1.614      0.107     -17.982     184.922\n",
      "AlcoholWaste            39.6747     89.984      0.441      0.659    -136.883     216.233\n",
      "ChineseMedicineWaste  1646.9813    335.946      4.903      0.000     987.818    2306.145\n",
      "EnergyGrass             17.8990    228.225      0.078      0.938    -429.904     465.702\n",
      "BananaFruitShafts      230.6491     96.445      2.392      0.017      41.413     419.885\n",
      "LemonWaste            -251.7109    285.403     -0.882      0.378    -811.703     308.281\n",
      "Percolate               26.9487      3.838      7.022      0.000      19.418      34.479\n",
      "Other                  -50.4534     32.184     -1.568      0.117    -113.603      12.696\n",
      "NaOH                    -2.5973      0.807     -3.219      0.001      -4.181      -1.014\n",
      "FeCl2                   -5.1977      3.276     -1.587      0.113     -11.626       1.230\n",
      "PAM                    317.8795     53.723      5.917      0.000     212.469     423.290\n",
      "Defoamer             -2933.1216   2918.358     -1.005      0.315   -8659.265    2793.022\n",
      "==============================================================================\n",
      "Omnibus:                       51.829   Durbin-Watson:                   2.115\n",
      "Prob(Omnibus):                  0.000   Jarque-Bera (JB):              163.023\n",
      "Skew:                           0.055   Prob(JB):                     3.98e-36\n",
      "Kurtosis:                       4.859   Cond. No.                     4.09e+03\n",
      "==============================================================================\n",
      "\n",
      "Warnings:\n",
      "[1] Standard Errors assume that the covariance matrix of the errors is correctly specified.\n",
      "[2] The condition number is large, 4.09e+03. This might indicate that there are\n",
      "strong multicollinearity or other numerical problems.\n",
      "The mean absolute error of linear regression on training set is:  7874.99261695\n",
      "The mean absolute error of linear regression test set is:  8166.41564612\n"
     ]
    }
   ],
   "source": [
    "# Linear Regression\n",
    "lr = run_lm(x_train_r, y_train_r, x_test_r, y_test_r)"
   ]
  },
  {
   "cell_type": "code",
   "execution_count": 17,
   "metadata": {
    "collapsed": true
   },
   "outputs": [
    {
     "name": "stdout",
     "output_type": "stream",
     "text": [
      "The mean absolute error of ridge regression on training set is:  8491.02790171\n",
      "The mean absolute error of ridge regression test set is:  8776.59020581\n",
      "Starting keras model.\n",
      "21\n",
      "7\n",
      "Epoch 1/10\n",
      "1128/1128 [==============================] - 1s 978us/step - loss: 1.6137 - mean_absolute_error: 0.2100 - categorical_accuracy: 0.3404\n",
      "Epoch 2/10\n",
      "1128/1128 [==============================] - 0s 337us/step - loss: 1.4677 - mean_absolute_error: 0.1991 - categorical_accuracy: 0.3989\n",
      "Epoch 3/10\n",
      "1128/1128 [==============================] - 0s 314us/step - loss: 1.4516 - mean_absolute_error: 0.1971 - categorical_accuracy: 0.4034\n",
      "Epoch 4/10\n",
      "1128/1128 [==============================] - 0s 364us/step - loss: 1.3995 - mean_absolute_error: 0.1957 - categorical_accuracy: 0.4105\n",
      "Epoch 5/10\n",
      "1128/1128 [==============================] - 0s 319us/step - loss: 1.3990 - mean_absolute_error: 0.1945 - categorical_accuracy: 0.4220\n",
      "Epoch 6/10\n",
      "1128/1128 [==============================] - 0s 336us/step - loss: 1.4251 - mean_absolute_error: 0.1937 - categorical_accuracy: 0.4105\n",
      "Epoch 7/10\n",
      "1128/1128 [==============================] - 0s 325us/step - loss: 1.3983 - mean_absolute_error: 0.1960 - categorical_accuracy: 0.4176\n",
      "Epoch 8/10\n",
      "1128/1128 [==============================] - 0s 334us/step - loss: 1.3485 - mean_absolute_error: 0.1902 - categorical_accuracy: 0.4397\n",
      "Epoch 9/10\n",
      "1128/1128 [==============================] - 0s 334us/step - loss: 1.3813 - mean_absolute_error: 0.1943 - categorical_accuracy: 0.3963\n",
      "Epoch 10/10\n",
      "1128/1128 [==============================] - 0s 317us/step - loss: 1.3673 - mean_absolute_error: 0.1915 - categorical_accuracy: 0.4202\n",
      "282/282 [==============================] - 0s 280us/step\n",
      "[1.439343015352885, 0.19379746438340939, 0.40425531999439213]\n"
     ]
    }
   ],
   "source": [
    "rr = run_ridge(x_train_r, y_train_r, x_test_r, y_test_r, alpha = 0.5)\n",
    "\n",
    "# Classification\n",
    "lm = LogisticModel(x_train_c, y_train_c, x_test_c, y_test_c)\n",
    "\n",
    "dt = DecisionTree(x_train_c, y_train_c, x_test_c, y_test_c)\n",
    "\n",
    "rf = RandomForest(x_train_c, y_train_c, x_test_c, y_test_c)\n",
    "\n",
    "nb = NaiveBayes(x_train_c, y_train_c, x_test_c, y_test_c)\n",
    "\n",
    "\n",
    "# Neural Net \n",
    "l_and_m = run_keras_nn(x_train_c_1, y_train_c_1, x_test_c_1, y_test_c_1, \\\n",
    "             epochs=10, hidden_layers=6, layer_neurons = 300, \\\n",
    "             activation='tanh', learning_rate=0.01)"
   ]
  },
  {
   "cell_type": "code",
   "execution_count": 18,
   "metadata": {
    "collapsed": false
   },
   "outputs": [
    {
     "name": "stdout",
     "output_type": "stream",
     "text": [
      "Linear Regression - Mean Absolute Error  train: 7874.99261695 test: 8166.41564612\n",
      "Ridge Regression - Mean Absolute Error  train: 7874.99261695 test: 8166.41564612\n",
      "Logistic Model - Accuracy: 0.439716312057\n",
      "Decision Tree - Accuracy: 0.382978723404\n",
      "Random Forest - Accuracy: 0.429078014184\n",
      "Naive Bayes - Accuracy: 0.27304964539\n",
      "Neural Net - Mean Absolute Error: 0.193797464383  Categorial Accuracy: 0.404255319994\n"
     ]
    }
   ],
   "source": [
    "print(\"Linear Regression - Mean Absolute Error \", \"train:\",lr[0], \"test:\",lr[1])\n",
    "print(\"Ridge Regression - Mean Absolute Error \", \"train:\",lr[0], \"test:\",lr[1])\n",
    "print(\"Logistic Model - Accuracy:\", lm[1])\n",
    "print(\"Decision Tree - Accuracy:\", dt[1])\n",
    "print(\"Random Forest - Accuracy:\", rf[1])\n",
    "print(\"Naive Bayes - Accuracy:\", nb[1])\n",
    "print(\"Neural Net - Mean Absolute Error:\", l_and_m[1], \" Categorial Accuracy:\", l_and_m[2])"
   ]
  }
 ],
 "metadata": {
  "kernelspec": {
   "display_name": "Python 3",
   "language": "python",
   "name": "python3"
  },
  "language_info": {
   "codemirror_mode": {
    "name": "ipython",
    "version": 3
   },
   "file_extension": ".py",
   "mimetype": "text/x-python",
   "name": "python",
   "nbconvert_exporter": "python",
   "pygments_lexer": "ipython3",
   "version": "3.6.3"
  }
 },
 "nbformat": 4,
 "nbformat_minor": 2
}
