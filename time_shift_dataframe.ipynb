{
 "cells": [
  {
   "cell_type": "code",
   "execution_count": 1,
   "metadata": {
    "collapsed": true
   },
   "outputs": [],
   "source": [
    "import pandas as pd\n",
    "import numpy as np"
   ]
  },
  {
   "cell_type": "code",
   "execution_count": 2,
   "metadata": {
    "collapsed": true
   },
   "outputs": [],
   "source": [
    "def timeshift_df(df, time_shift=15, index=9):\n",
    "    df.head().iloc[:,0:index] \n",
    "    df.head().iloc[:,index+1:]\n",
    "\n",
    "    # Create df_ts which will be a timeshifted dataframe\n",
    "    df_ts = df.copy()\n",
    "\n",
    "    #time shift the output dataframe columns and save in place to df_ts. \n",
    "    # The cells that went up past the initial row are automatically deleted.\n",
    "    df_ts.iloc[:,0:index] = df_ts.iloc[:,0:index].shift(-time_shift)\n",
    "\n",
    "    # Drop the rows at the bottom\n",
    "    df_ts.drop(df_ts.tail(time_shift).index,inplace=True)\n",
    "\n",
    "    return df_ts"
   ]
  },
  {
   "cell_type": "code",
   "execution_count": 1,
   "metadata": {
    "collapsed": true
   },
   "outputs": [],
   "source": [
    "def timeshift_df2(df, time_shift=15, index=9):\n",
    "    df.head().iloc[:,0:index] \n",
    "    df.head().iloc[:,index+1:]\n",
    "\n",
    "    # Create df_ts which will be a timeshifted dataframe\n",
    "    df_ts = df.copy()\n",
    "\n",
    "    #time shift the output dataframe columns and save in place to df_ts. \n",
    "    # The cells that went up past the initial row are automatically deleted.\n",
    "    df_ts.iloc[:,0:index] = df_ts.iloc[:,0:index].shift(time_shift)\n",
    "\n",
    "    # Drop the rows at the bottom\n",
    "    # df_ts.drop(df_ts.tail(time_shift).index,inplace=True)\n",
    "\n",
    "    return df_ts"
   ]
  }
 ],
 "metadata": {
  "kernelspec": {
   "display_name": "Python 3",
   "language": "python",
   "name": "python3"
  },
  "language_info": {
   "codemirror_mode": {
    "name": "ipython",
    "version": 3
   },
   "file_extension": ".py",
   "mimetype": "text/x-python",
   "name": "python",
   "nbconvert_exporter": "python",
   "pygments_lexer": "ipython3",
   "version": "3.6.2"
  }
 },
 "nbformat": 4,
 "nbformat_minor": 2
}
