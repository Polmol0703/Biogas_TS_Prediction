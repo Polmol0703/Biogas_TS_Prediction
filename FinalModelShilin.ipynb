{
 "cells": [
  {
   "cell_type": "code",
   "execution_count": null,
   "metadata": {},
   "outputs": [],
   "source": [
    "# import_notebooks is a custom python script\n",
    "# this line makes it possible to import functions from other IPython notebooks\n",
    "from import_notebooks import *"
   ]
  },
  {
   "cell_type": "code",
   "execution_count": 2,
   "metadata": {},
   "outputs": [
    {
     "name": "stdout",
     "output_type": "stream",
     "text": [
      "importing Jupyter notebook from Hainan_Data_Cleaning.ipynb\n",
      "importing Jupyter notebook from time_shift_dataframe.ipynb\n",
      "importing Jupyter notebook from Stratified_Split.ipynb\n",
      "importing Jupyter notebook from Cumulative.ipynb\n",
      "importing Jupyter notebook from Rollingsum.ipynb\n",
      "importing Jupyter notebook from LR_model.ipynb\n"
     ]
    },
    {
     "name": "stderr",
     "output_type": "stream",
     "text": [
      "C:\\Users\\molin\\Anaconda3\\lib\\site-packages\\statsmodels\\compat\\pandas.py:56: FutureWarning: The pandas.core.datetools module is deprecated and will be removed in a future version. Please use the pandas.tseries module instead.\n",
      "  from pandas.core import datetools\n"
     ]
    },
    {
     "name": "stdout",
     "output_type": "stream",
     "text": [
      "importing Jupyter notebook from Classification_Functions.ipynb\n",
      "importing Jupyter notebook from nn_model_keras.ipynb\n"
     ]
    },
    {
     "name": "stderr",
     "output_type": "stream",
     "text": [
      "C:\\Users\\molin\\Anaconda3\\lib\\site-packages\\sklearn\\cross_validation.py:41: DeprecationWarning: This module was deprecated in version 0.18 in favor of the model_selection module into which all the refactored classes and functions are moved. Also note that the interface of the new CV iterators are different from that of this module. This module will be removed in 0.20.\n",
      "  \"This module will be removed in 0.20.\", DeprecationWarning)\n",
      "Using TensorFlow backend.\n"
     ]
    },
    {
     "name": "stdout",
     "output_type": "stream",
     "text": [
      "importing Jupyter notebook from Rollingsum_Timeshift_Loop.ipynb\n",
      "importing Jupyter notebook from Utilities.ipynb\n"
     ]
    }
   ],
   "source": [
    "# Here we import all the functions (*) from these notebooks\n",
    "from Hainan_Data_Cleaning import *\n",
    "from time_shift_dataframe import *\n",
    "from Stratified_Split import *\n",
    "from Cumulative import *\n",
    "from Rollingsum import *\n",
    "from LR_model import *\n",
    "from Classification_Functions import *\n",
    "from nn_model_keras import *\n",
    "from Rollingsum_Timeshift_Loop import *\n",
    "\n",
    "from Utilities import *"
   ]
  },
  {
   "cell_type": "code",
   "execution_count": 3,
   "metadata": {},
   "outputs": [],
   "source": [
    "df = load_hainan_data()"
   ]
  },
  {
   "cell_type": "code",
   "execution_count": 4,
   "metadata": {},
   "outputs": [],
   "source": [
    "df['Carbohydrate']=df['Cassava']+df['TeaWaste']+df['Bagasse']+df['ChineseMedicineWaste']+df['EnergyGrass']+df['BananaFruitShafts']+df['LemonWaste']\n",
    "df['Protein']=df['MunicipalFecalWaste']+df['PigManure']+df['ChickenWaste']+df['FishWastewater']\n",
    "df['Lipid']=df['KitchenFoodWaste']\n",
    "df['Others']=df['AlcoholWaste']+df['Percolate']+df['Other']+df['NaOH']+df['FeCl2']+df['PAM']+df['Defoamer']"
   ]
  },
  {
   "cell_type": "code",
   "execution_count": 5,
   "metadata": {},
   "outputs": [],
   "source": [
    "df_shilin= df.drop(['PigManure', 'Cassava', 'FishWastewater','KitchenFoodWaste', 'KitchenFoodWaste',\n",
    "       'MunicipalFecalWaste', 'TeaWaste', 'ChickenWaste','Bagasse',\n",
    "       'AlcoholWaste', 'ChineseMedicineWaste', 'EnergyGrass','BananaFruitShafts','LemonWaste','Percolate','Other','NaOH','FeCl2','PAM','Defoamer'], axis=1)"
   ]
  },
  {
   "cell_type": "code",
   "execution_count": 6,
   "metadata": {},
   "outputs": [],
   "source": [
    "df_shilin_relfeatures = df_shilin.drop(['Year', 'Month', 'Day','BioCNG', 'LiquidFertilizer',\n",
    "       'SolidFertilizer', 'WasteWater', 'SolidResidues','ProjectElectricity',\n",
    "       'OfficeElectricity', 'Water', 'Diesel'], axis=1)\n",
    "df_shilin_relfeatures = df_shilin_relfeatures.apply(pd.to_numeric, errors='coerce')\n",
    "df_shilin_relfeatures = df_shilin_relfeatures.dropna()"
   ]
  },
  {
   "cell_type": "code",
   "execution_count": 7,
   "metadata": {},
   "outputs": [
    {
     "data": {
      "text/html": [
       "<div>\n",
       "<style>\n",
       "    .dataframe thead tr:only-child th {\n",
       "        text-align: right;\n",
       "    }\n",
       "\n",
       "    .dataframe thead th {\n",
       "        text-align: left;\n",
       "    }\n",
       "\n",
       "    .dataframe tbody tr th {\n",
       "        vertical-align: top;\n",
       "    }\n",
       "</style>\n",
       "<table border=\"1\" class=\"dataframe\">\n",
       "  <thead>\n",
       "    <tr style=\"text-align: right;\">\n",
       "      <th></th>\n",
       "      <th>RawBiogas</th>\n",
       "      <th>Carbohydrate</th>\n",
       "      <th>Protein</th>\n",
       "      <th>Lipid</th>\n",
       "      <th>Others</th>\n",
       "    </tr>\n",
       "  </thead>\n",
       "  <tbody>\n",
       "    <tr>\n",
       "      <th>0</th>\n",
       "      <td>5154.0</td>\n",
       "      <td>0.0</td>\n",
       "      <td>0.0</td>\n",
       "      <td>0.0</td>\n",
       "      <td>0.0</td>\n",
       "    </tr>\n",
       "    <tr>\n",
       "      <th>1</th>\n",
       "      <td>3426.0</td>\n",
       "      <td>0.0</td>\n",
       "      <td>0.0</td>\n",
       "      <td>0.0</td>\n",
       "      <td>0.0</td>\n",
       "    </tr>\n",
       "    <tr>\n",
       "      <th>2</th>\n",
       "      <td>5885.0</td>\n",
       "      <td>0.0</td>\n",
       "      <td>0.0</td>\n",
       "      <td>0.0</td>\n",
       "      <td>0.0</td>\n",
       "    </tr>\n",
       "    <tr>\n",
       "      <th>3</th>\n",
       "      <td>3727.0</td>\n",
       "      <td>13.0</td>\n",
       "      <td>14.9</td>\n",
       "      <td>0.0</td>\n",
       "      <td>0.0</td>\n",
       "    </tr>\n",
       "    <tr>\n",
       "      <th>4</th>\n",
       "      <td>4072.0</td>\n",
       "      <td>16.0</td>\n",
       "      <td>0.0</td>\n",
       "      <td>0.0</td>\n",
       "      <td>0.0</td>\n",
       "    </tr>\n",
       "  </tbody>\n",
       "</table>\n",
       "</div>"
      ],
      "text/plain": [
       "   RawBiogas  Carbohydrate  Protein  Lipid  Others\n",
       "0     5154.0           0.0      0.0    0.0     0.0\n",
       "1     3426.0           0.0      0.0    0.0     0.0\n",
       "2     5885.0           0.0      0.0    0.0     0.0\n",
       "3     3727.0          13.0     14.9    0.0     0.0\n",
       "4     4072.0          16.0      0.0    0.0     0.0"
      ]
     },
     "execution_count": 7,
     "metadata": {},
     "output_type": "execute_result"
    }
   ],
   "source": [
    "df_shilin_relfeatures.head()"
   ]
  },
  {
   "cell_type": "code",
   "execution_count": 10,
   "metadata": {},
   "outputs": [
    {
     "name": "stdout",
     "output_type": "stream",
     "text": [
      "Code Running for time shift 15 please wait...\n",
      "Code Running for time shift 16 please wait...\n",
      "Code Running for time shift 17 please wait...\n",
      "Code Running for time shift 18 please wait...\n",
      "Code Running for time shift 19 please wait...\n",
      "Code Running for time shift 20 please wait...\n",
      "Code Running for time shift 21 please wait...\n",
      "Code Running for time shift 22 please wait...\n",
      "Code Running for time shift 23 please wait...\n",
      "Code Running for time shift 24 please wait...\n",
      "Code Running for time shift 25 please wait...\n",
      "Code Running for time shift 26 please wait...\n",
      "Code Running for time shift 27 please wait...\n",
      "Code Running for time shift 28 please wait...\n",
      "Code Running for time shift 29 please wait...\n",
      "Code Running for time shift 30 please wait...\n",
      "Code Running for time shift 31 please wait...\n",
      "Code Running for time shift 32 please wait...\n",
      "Code Running for time shift 33 please wait...\n",
      "Code Running for time shift 34 please wait...\n",
      "Code Running for time shift 35 please wait...\n",
      "Code Running for time shift 36 please wait...\n",
      "Code Running for time shift 37 please wait...\n",
      "Code Running for time shift 38 please wait...\n",
      "Code Running for time shift 39 please wait...\n",
      "Code Running for time shift 40 please wait...\n",
      "\n",
      "\n",
      "\n",
      "\n",
      "The Maximum Accuracy for Decision Tree at time shift 15 is 0.927536231884 at a rolling sum bucket of 33\n",
      "The Maximum Accuracy for Decision Tree at time shift 16 is 0.942238267148 at a rolling sum bucket of 30\n",
      "The Maximum Accuracy for Decision Tree at time shift 17 is 0.920289855072 at a rolling sum bucket of 32\n",
      "The Maximum Accuracy for Decision Tree at time shift 18 is 0.93115942029 at a rolling sum bucket of 31\n",
      "The Maximum Accuracy for Decision Tree at time shift 19 is 0.930656934307 at a rolling sum bucket of 40\n",
      "The Maximum Accuracy for Decision Tree at time shift 20 is 0.930909090909 at a rolling sum bucket of 33\n",
      "The Maximum Accuracy for Decision Tree at time shift 21 is 0.930656934307 at a rolling sum bucket of 39\n",
      "The Maximum Accuracy for Decision Tree at time shift 22 is 0.941818181818 at a rolling sum bucket of 31\n",
      "The Maximum Accuracy for Decision Tree at time shift 23 is 0.934306569343 at a rolling sum bucket of 38\n",
      "The Maximum Accuracy for Decision Tree at time shift 24 is 0.941818181818 at a rolling sum bucket of 31\n",
      "The Maximum Accuracy for Decision Tree at time shift 25 is 0.930909090909 at a rolling sum bucket of 31\n",
      "The Maximum Accuracy for Decision Tree at time shift 26 is 0.949090909091 at a rolling sum bucket of 31\n",
      "The Maximum Accuracy for Decision Tree at time shift 27 is 0.941605839416 at a rolling sum bucket of 31\n",
      "The Maximum Accuracy for Decision Tree at time shift 28 is 0.930656934307 at a rolling sum bucket of 32\n",
      "The Maximum Accuracy for Decision Tree at time shift 29 is 0.937728937729 at a rolling sum bucket of 38\n",
      "The Maximum Accuracy for Decision Tree at time shift 30 is 0.952380952381 at a rolling sum bucket of 34\n",
      "The Maximum Accuracy for Decision Tree at time shift 31 is 0.937728937729 at a rolling sum bucket of 32\n",
      "The Maximum Accuracy for Decision Tree at time shift 32 is 0.934306569343 at a rolling sum bucket of 28\n",
      "The Maximum Accuracy for Decision Tree at time shift 33 is 0.948905109489 at a rolling sum bucket of 28\n",
      "The Maximum Accuracy for Decision Tree at time shift 34 is 0.93795620438 at a rolling sum bucket of 26\n",
      "The Maximum Accuracy for Decision Tree at time shift 35 is 0.930402930403 at a rolling sum bucket of 29\n",
      "The Maximum Accuracy for Decision Tree at time shift 36 is 0.934065934066 at a rolling sum bucket of 31\n",
      "The Maximum Accuracy for Decision Tree at time shift 37 is 0.926470588235 at a rolling sum bucket of 32\n",
      "The Maximum Accuracy for Decision Tree at time shift 38 is 0.930147058824 at a rolling sum bucket of 34\n",
      "The Maximum Accuracy for Decision Tree at time shift 39 is 0.937269372694 at a rolling sum bucket of 35\n",
      "The Maximum Accuracy for Decision Tree at time shift 40 is 0.940740740741 at a rolling sum bucket of 38\n",
      "The Maximum Accuracy for Decision Tree is 95.2380952381 % at time shift 30 at a rolling sum bucket of 34\n",
      "\n",
      "\n",
      "\n",
      "\n",
      "The Maximum Accuracy for XG Boost at time shift 15 is 0.967272727273 at a rolling sum bucket of 38\n",
      "The Maximum Accuracy for XG Boost at time shift 16 is 0.967272727273 at a rolling sum bucket of 38\n",
      "The Maximum Accuracy for XG Boost at time shift 17 is 0.96 at a rolling sum bucket of 38\n",
      "The Maximum Accuracy for XG Boost at time shift 18 is 0.949090909091 at a rolling sum bucket of 39\n",
      "The Maximum Accuracy for XG Boost at time shift 19 is 0.956204379562 at a rolling sum bucket of 39\n",
      "The Maximum Accuracy for XG Boost at time shift 20 is 0.952554744526 at a rolling sum bucket of 38\n",
      "The Maximum Accuracy for XG Boost at time shift 21 is 0.956204379562 at a rolling sum bucket of 37\n",
      "The Maximum Accuracy for XG Boost at time shift 22 is 0.96 at a rolling sum bucket of 31\n",
      "The Maximum Accuracy for XG Boost at time shift 23 is 0.959854014599 at a rolling sum bucket of 36\n",
      "The Maximum Accuracy for XG Boost at time shift 24 is 0.963636363636 at a rolling sum bucket of 31\n",
      "The Maximum Accuracy for XG Boost at time shift 25 is 0.952727272727 at a rolling sum bucket of 31\n",
      "The Maximum Accuracy for XG Boost at time shift 26 is 0.96 at a rolling sum bucket of 31\n",
      "The Maximum Accuracy for XG Boost at time shift 27 is 0.963503649635 at a rolling sum bucket of 35\n",
      "The Maximum Accuracy for XG Boost at time shift 28 is 0.956043956044 at a rolling sum bucket of 35\n",
      "The Maximum Accuracy for XG Boost at time shift 29 is 0.952554744526 at a rolling sum bucket of 30\n",
      "The Maximum Accuracy for XG Boost at time shift 30 is 0.956043956044 at a rolling sum bucket of 33\n",
      "The Maximum Accuracy for XG Boost at time shift 31 is 0.959558823529 at a rolling sum bucket of 38\n",
      "The Maximum Accuracy for XG Boost at time shift 32 is 0.959854014599 at a rolling sum bucket of 30\n",
      "The Maximum Accuracy for XG Boost at time shift 33 is 0.967032967033 at a rolling sum bucket of 30\n",
      "The Maximum Accuracy for XG Boost at time shift 34 is 0.959706959707 at a rolling sum bucket of 31\n",
      "The Maximum Accuracy for XG Boost at time shift 35 is 0.959409594096 at a rolling sum bucket of 40\n",
      "The Maximum Accuracy for XG Boost at time shift 36 is 0.974264705882 at a rolling sum bucket of 36\n",
      "The Maximum Accuracy for XG Boost at time shift 37 is 0.974264705882 at a rolling sum bucket of 35\n",
      "The Maximum Accuracy for XG Boost at time shift 38 is 0.966789667897 at a rolling sum bucket of 36\n",
      "The Maximum Accuracy for XG Boost at time shift 39 is 0.959409594096 at a rolling sum bucket of 36\n",
      "The Maximum Accuracy for XG Boost at time shift 40 is 0.959409594096 at a rolling sum bucket of 35\n",
      "The Maximum Accuracy for Random forest is 97.4264705882 % at time shift 36 at a rolling sum bucket of 36\n",
      "\n",
      "\n"
     ]
    },
    {
     "data": {
      "text/plain": [
       "[          15        16        17        18        19        20        21  \\\n",
       " 1   0.409894  0.434629  0.390071  0.457447  0.429078  0.421986  0.436170   \n",
       " 2   0.508834  0.514184  0.496454  0.507092  0.510638  0.521277  0.480427   \n",
       " 3   0.570922  0.535461  0.570922  0.549645  0.549645  0.548043  0.562278   \n",
       " 4   0.578014  0.602837  0.574468  0.609929  0.647687  0.604982  0.569395   \n",
       " 5   0.631206  0.652482  0.648936  0.637011  0.608541  0.622776  0.622776   \n",
       " 6   0.641844  0.684397  0.676157  0.640569  0.669039  0.676157  0.665480   \n",
       " 7   0.656028  0.679715  0.629893  0.637011  0.686833  0.640569  0.671429   \n",
       " 8   0.693950  0.711744  0.718861  0.715302  0.683274  0.675000  0.707143   \n",
       " 9   0.765125  0.708185  0.733096  0.722420  0.771429  0.746429  0.764286   \n",
       " 10  0.715302  0.747331  0.754448  0.760714  0.739286  0.757143  0.771429   \n",
       " 11  0.758007  0.782918  0.814286  0.785714  0.750000  0.775000  0.792857   \n",
       " 12  0.754448  0.810714  0.778571  0.746429  0.814286  0.807143  0.810036   \n",
       " 13  0.810714  0.835714  0.814286  0.821429  0.800000  0.810036  0.824373   \n",
       " 14  0.810714  0.807143  0.817857  0.810714  0.806452  0.827957  0.820789   \n",
       " 15  0.853571  0.846429  0.825000  0.820789  0.824373  0.838710  0.817204   \n",
       " 16  0.807143  0.850000  0.860215  0.853047  0.845878  0.867384  0.845878   \n",
       " 17  0.860714  0.863799  0.878136  0.867384  0.881720  0.903226  0.856115   \n",
       " 18  0.885305  0.853047  0.863799  0.860215  0.838710  0.848921  0.856115   \n",
       " 19  0.863799  0.842294  0.874552  0.878136  0.852518  0.859712  0.848921   \n",
       " 20  0.863799  0.910394  0.903226  0.877698  0.910072  0.884892  0.874101   \n",
       " 21  0.863799  0.881720  0.895683  0.906475  0.888489  0.895683  0.874101   \n",
       " 22  0.921147  0.892086  0.874101  0.859712  0.866906  0.877698  0.880866   \n",
       " 23  0.881295  0.906475  0.884892  0.902878  0.866906  0.884477  0.891697   \n",
       " 24  0.899281  0.888489  0.902878  0.884892  0.888087  0.891697  0.859206   \n",
       " 25  0.895683  0.888489  0.902878  0.884477  0.884477  0.920578  0.880866   \n",
       " 26  0.888489  0.888489  0.888087  0.862816  0.895307  0.924188  0.909747   \n",
       " 27  0.881295  0.866426  0.888087  0.895307  0.920578  0.870036  0.880435   \n",
       " 28  0.898917  0.902527  0.906137  0.906137  0.877256  0.920290  0.887681   \n",
       " 29  0.913357  0.902527  0.873646  0.898917  0.898551  0.923913  0.898551   \n",
       " 30  0.913357  0.942238  0.877256  0.898551  0.913043  0.927536  0.898551   \n",
       " 31  0.898917  0.902527  0.905797  0.931159  0.902174  0.913043  0.898551   \n",
       " 32  0.895307  0.934783  0.920290  0.916667  0.927536  0.898551  0.923636   \n",
       " 33  0.927536  0.916667  0.909420  0.923913  0.905797  0.930909  0.923636   \n",
       " 34  0.913043  0.873188  0.909420  0.884058  0.927273  0.923636  0.898182   \n",
       " 35  0.913043  0.927536  0.894928  0.901818  0.905455  0.890909  0.883636   \n",
       " 36  0.920290  0.920290  0.912727  0.912727  0.909091  0.901818  0.916364   \n",
       " 37  0.909420  0.927273  0.909091  0.909091  0.898182  0.909091  0.927007   \n",
       " 38  0.927273  0.938182  0.916364  0.880000  0.920000  0.916058  0.923358   \n",
       " 39  0.923636  0.927273  0.905455  0.909091  0.890511  0.923358  0.930657   \n",
       " 40  0.923636  0.890909  0.920000  0.897810  0.930657  0.916058  0.923358   \n",
       " \n",
       "           22        23        24    ...           31        32        33  \\\n",
       " 1   0.419929  0.430605  0.430605    ...     0.407143  0.455197  0.426523   \n",
       " 2   0.441281  0.466192  0.555160    ...     0.476703  0.501792  0.523297   \n",
       " 3   0.562278  0.519573  0.530249    ...     0.541219  0.541219  0.512545   \n",
       " 4   0.633452  0.572954  0.564286    ...     0.605735  0.587814  0.641577   \n",
       " 5   0.597865  0.607143  0.592857    ...     0.609319  0.663082  0.679856   \n",
       " 6   0.625000  0.632143  0.653571    ...     0.652330  0.679856  0.669065   \n",
       " 7   0.660714  0.653571  0.660714    ...     0.705036  0.687050  0.730216   \n",
       " 8   0.692857  0.775000  0.757143    ...     0.748201  0.708633  0.741007   \n",
       " 9   0.739286  0.767857  0.749104    ...     0.766187  0.723022  0.712230   \n",
       " 10  0.732143  0.799283  0.774194    ...     0.787770  0.762590  0.750903   \n",
       " 11  0.792115  0.781362  0.817204    ...     0.762590  0.754513  0.783394   \n",
       " 12  0.827957  0.788530  0.820789    ...     0.819495  0.797834  0.812274   \n",
       " 13  0.813620  0.810036  0.792115    ...     0.823105  0.808664  0.844765   \n",
       " 14  0.806452  0.845878  0.794964    ...     0.808664  0.794224  0.848375   \n",
       " 15  0.827957  0.830935  0.830935    ...     0.801444  0.855596  0.847826   \n",
       " 16  0.892086  0.834532  0.874101    ...     0.848375  0.865942  0.865942   \n",
       " 17  0.877698  0.856115  0.866906    ...     0.855072  0.865942  0.873188   \n",
       " 18  0.870504  0.830935  0.863309    ...     0.811594  0.826087  0.822464   \n",
       " 19  0.859712  0.863309  0.851986    ...     0.847826  0.869565  0.891304   \n",
       " 20  0.899281  0.859206  0.870036    ...     0.858696  0.884058  0.865455   \n",
       " 21  0.884477  0.848375  0.888087    ...     0.898551  0.894545  0.887273   \n",
       " 22  0.880866  0.855596  0.848375    ...     0.890909  0.858182  0.847273   \n",
       " 23  0.916968  0.870036  0.895307    ...     0.905455  0.916364  0.901818   \n",
       " 24  0.848375  0.884477  0.884058    ...     0.898182  0.890909  0.894545   \n",
       " 25  0.906137  0.891304  0.884058    ...     0.869091  0.890909  0.919708   \n",
       " 26  0.884058  0.916667  0.927536    ...     0.909091  0.905109  0.916058   \n",
       " 27  0.909420  0.876812  0.894928    ...     0.912409  0.905109  0.908759   \n",
       " 28  0.902174  0.916667  0.934783    ...     0.934307  0.934307  0.948905   \n",
       " 29  0.913043  0.927536  0.909091    ...     0.912409  0.927007  0.930657   \n",
       " 30  0.898551  0.901818  0.916364    ...     0.916058  0.901460  0.919414   \n",
       " 31  0.941818  0.916364  0.941818    ...     0.908759  0.926740  0.882784   \n",
       " 32  0.916364  0.920000  0.898182    ...     0.937729  0.893773  0.915751   \n",
       " 33  0.916364  0.927273  0.920000    ...     0.915751  0.904762  0.904762   \n",
       " 34  0.930909  0.920000  0.901460    ...     0.930403  0.904762  0.919414   \n",
       " 35  0.909091  0.890511  0.897810    ...     0.904762  0.893773  0.922794   \n",
       " 36  0.916058  0.930657  0.919708    ...     0.904762  0.900735  0.900735   \n",
       " 37  0.923358  0.923358  0.908759    ...     0.922794  0.911765  0.886029   \n",
       " 38  0.897810  0.934307  0.912409    ...     0.930147  0.911765  0.922794   \n",
       " 39  0.927007  0.919708  0.908425    ...     0.900735  0.900735  0.919118   \n",
       " 40  0.901460  0.904762  0.897436    ...     0.893382  0.919118  0.926199   \n",
       " \n",
       "           34        35        36        37        38        39        40  \n",
       " 1   0.397849  0.412186  0.394265  0.395683  0.395683  0.392086  0.413669  \n",
       " 2   0.541219  0.491039  0.557554  0.539568  0.489209  0.514388  0.492806  \n",
       " 3   0.551971  0.535971  0.607914  0.589928  0.553957  0.607914  0.570397  \n",
       " 4   0.615108  0.600719  0.661871  0.647482  0.604317  0.592058  0.624549  \n",
       " 5   0.705036  0.665468  0.647482  0.647482  0.635379  0.631769  0.620939  \n",
       " 6   0.636691  0.658273  0.705036  0.628159  0.667870  0.667870  0.660650  \n",
       " 7   0.712230  0.669065  0.682310  0.700361  0.700361  0.693141  0.682310  \n",
       " 8   0.690647  0.678700  0.722022  0.743682  0.722022  0.732852  0.721014  \n",
       " 9   0.747292  0.703971  0.772563  0.765343  0.758123  0.739130  0.782609  \n",
       " 10  0.761733  0.776173  0.732852  0.768953  0.775362  0.764493  0.782609  \n",
       " 11  0.808664  0.855596  0.787004  0.789855  0.789855  0.786232  0.797101  \n",
       " 12  0.830325  0.797834  0.829710  0.800725  0.764493  0.833333  0.797101  \n",
       " 13  0.812274  0.826087  0.840580  0.851449  0.807971  0.804348  0.814545  \n",
       " 14  0.865942  0.847826  0.804348  0.855072  0.840580  0.836364  0.847273  \n",
       " 15  0.836957  0.847826  0.844203  0.847826  0.858182  0.832727  0.865455  \n",
       " 16  0.862319  0.844203  0.836957  0.847273  0.854545  0.854545  0.843636  \n",
       " 17  0.880435  0.862319  0.869091  0.861818  0.821818  0.840000  0.847273  \n",
       " 18  0.862319  0.858182  0.872727  0.814545  0.901818  0.825455  0.864964  \n",
       " 19  0.865455  0.850909  0.890909  0.894545  0.854545  0.854015  0.868613  \n",
       " 20  0.854545  0.876364  0.847273  0.894545  0.854015  0.850365  0.846715  \n",
       " 21  0.850909  0.890909  0.872727  0.875912  0.850365  0.883212  0.864964  \n",
       " 22  0.869091  0.880000  0.894161  0.872263  0.868613  0.875912  0.879562  \n",
       " 23  0.880000  0.875912  0.875912  0.872263  0.879562  0.897810  0.908425  \n",
       " 24  0.861314  0.886861  0.879562  0.890511  0.857664  0.897436  0.875458  \n",
       " 25  0.901460  0.868613  0.912409  0.879562  0.890110  0.864469  0.915751  \n",
       " 26  0.937956  0.897810  0.905109  0.904762  0.882784  0.934066  0.901099  \n",
       " 27  0.905109  0.875912  0.919414  0.923077  0.908425  0.879121  0.893773  \n",
       " 28  0.927007  0.912088  0.886447  0.923077  0.897436  0.930403  0.904412  \n",
       " 29  0.915751  0.930403  0.908425  0.919414  0.915751  0.919118  0.911765  \n",
       " 30  0.901099  0.901099  0.930403  0.923077  0.900735  0.926471  0.911765  \n",
       " 31  0.912088  0.904762  0.934066  0.919118  0.922794  0.919118  0.900735  \n",
       " 32  0.901099  0.901099  0.878676  0.926471  0.922794  0.915441  0.937500  \n",
       " 33  0.919414  0.897059  0.908088  0.915441  0.915441  0.915441  0.907749  \n",
       " 34  0.919118  0.911765  0.900735  0.897059  0.930147  0.918819  0.929889  \n",
       " 35  0.922794  0.915441  0.922794  0.919118  0.929889  0.937269  0.896679  \n",
       " 36  0.886029  0.904412  0.930147  0.918819  0.918819  0.911439  0.892989  \n",
       " 37  0.893382  0.908088  0.900369  0.870849  0.922509  0.929889  0.937269  \n",
       " 38  0.900735  0.896679  0.900369  0.907749  0.929889  0.926199  0.940741  \n",
       " 39  0.907749  0.926199  0.922509  0.911439  0.918819  0.903704  0.903704  \n",
       " 40  0.885609  0.922509  0.889299  0.907749  0.900000  0.885185  0.903704  \n",
       " \n",
       " [40 rows x 26 columns]]"
      ]
     },
     "execution_count": 10,
     "metadata": {},
     "output_type": "execute_result"
    }
   ],
   "source": [
    "loop(df_shilin_relfeatures,time_shift_min=15, time_shift_max=40, time_bucket_min=1, time_bucket_max=40, run_dt = 1, run_xgb = 1)"
   ]
  },
  {
   "cell_type": "code",
   "execution_count": 26,
   "metadata": {},
   "outputs": [
    {
     "data": {
      "text/plain": [
       "array(['RawBiogas', 'Carbohydrate', 'Protein', 'Lipid', 'Others'], dtype=object)"
      ]
     },
     "execution_count": 26,
     "metadata": {},
     "output_type": "execute_result"
    }
   ],
   "source": [
    "df_shilin_relfeatures.columns.values"
   ]
  },
  {
   "cell_type": "code",
   "execution_count": null,
   "metadata": {},
   "outputs": [],
   "source": []
  }
 ],
 "metadata": {
  "kernelspec": {
   "display_name": "Python 3",
   "language": "python",
   "name": "python3"
  },
  "language_info": {
   "codemirror_mode": {
    "name": "ipython",
    "version": 3
   },
   "file_extension": ".py",
   "mimetype": "text/x-python",
   "name": "python",
   "nbconvert_exporter": "python",
   "pygments_lexer": "ipython3",
   "version": "3.6.3"
  }
 },
 "nbformat": 4,
 "nbformat_minor": 2
}
