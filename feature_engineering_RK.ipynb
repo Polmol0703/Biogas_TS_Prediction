{
 "cells": [
  {
   "cell_type": "code",
   "execution_count": 1,
   "metadata": {
    "collapsed": true
   },
   "outputs": [],
   "source": [
    "# import_notebooks is a custom python script\n",
    "# this line makes it possible to import functions from other IPython notebooks\n",
    "from import_notebooks import *"
   ]
  },
  {
   "cell_type": "code",
   "execution_count": 2,
   "metadata": {},
   "outputs": [
    {
     "name": "stdout",
     "output_type": "stream",
     "text": [
      "importing Jupyter notebook from Hainan_Data_Cleaning.ipynb\n",
      "importing Jupyter notebook from time_shift_dataframe.ipynb\n",
      "importing Jupyter notebook from Stratified_Split.ipynb\n",
      "importing Jupyter notebook from Cumulative.ipynb\n",
      "importing Jupyter notebook from Rollingsum.ipynb\n",
      "importing Jupyter notebook from LR_model.ipynb\n"
     ]
    },
    {
     "name": "stderr",
     "output_type": "stream",
     "text": [
      "C:\\Users\\Rohan\\.conda\\envs\\Data-X\\lib\\site-packages\\statsmodels\\compat\\pandas.py:56: FutureWarning: The pandas.core.datetools module is deprecated and will be removed in a future version. Please use the pandas.tseries module instead.\n",
      "  from pandas.core import datetools\n"
     ]
    },
    {
     "name": "stdout",
     "output_type": "stream",
     "text": [
      "importing Jupyter notebook from Classification_Functions.ipynb\n",
      "importing Jupyter notebook from Utilities.ipynb\n"
     ]
    }
   ],
   "source": [
    "# Here we import all the functions (*) from these notebooks\n",
    "from Hainan_Data_Cleaning import *\n",
    "from time_shift_dataframe import *\n",
    "from Stratified_Split import *\n",
    "from Cumulative import *\n",
    "from Rollingsum import *\n",
    "from LR_model import *\n",
    "from Classification_Functions import *\n",
    "# from nn_model_keras import *\n",
    "\n",
    "from Utilities import *"
   ]
  },
  {
   "cell_type": "code",
   "execution_count": 3,
   "metadata": {
    "collapsed": true
   },
   "outputs": [],
   "source": [
    "from sklearn import tree"
   ]
  },
  {
   "cell_type": "code",
   "execution_count": 16,
   "metadata": {},
   "outputs": [
    {
     "name": "stdout",
     "output_type": "stream",
     "text": [
      "1399\n",
      "1399\n",
      "1359\n"
     ]
    },
    {
     "data": {
      "text/html": [
       "<div>\n",
       "<style scoped>\n",
       "    .dataframe tbody tr th:only-of-type {\n",
       "        vertical-align: middle;\n",
       "    }\n",
       "\n",
       "    .dataframe tbody tr th {\n",
       "        vertical-align: top;\n",
       "    }\n",
       "\n",
       "    .dataframe thead th {\n",
       "        text-align: right;\n",
       "    }\n",
       "</style>\n",
       "<table border=\"1\" class=\"dataframe\">\n",
       "  <thead>\n",
       "    <tr style=\"text-align: right;\">\n",
       "      <th></th>\n",
       "      <th>RawBiogas</th>\n",
       "      <th>PigManure</th>\n",
       "      <th>Cassava</th>\n",
       "      <th>FishWastewater</th>\n",
       "      <th>KitchenFoodWaste</th>\n",
       "      <th>MunicipalFecalWaste</th>\n",
       "      <th>TeaWaste</th>\n",
       "      <th>ChickenWaste</th>\n",
       "      <th>Bagasse</th>\n",
       "      <th>AlcoholWaste</th>\n",
       "      <th>ChineseMedicineWaste</th>\n",
       "      <th>EnergyGrass</th>\n",
       "      <th>BananaFruitShafts</th>\n",
       "      <th>LemonWaste</th>\n",
       "      <th>Percolate</th>\n",
       "      <th>Other</th>\n",
       "      <th>NaOH</th>\n",
       "      <th>FeCl2</th>\n",
       "      <th>PAM</th>\n",
       "      <th>Defoamer</th>\n",
       "    </tr>\n",
       "  </thead>\n",
       "  <tbody>\n",
       "    <tr>\n",
       "      <th>0</th>\n",
       "      <td>5820.0</td>\n",
       "      <td>0.0</td>\n",
       "      <td>0.0</td>\n",
       "      <td>0.0</td>\n",
       "      <td>0.0</td>\n",
       "      <td>0.0</td>\n",
       "      <td>0.0</td>\n",
       "      <td>0.0</td>\n",
       "      <td>0.0</td>\n",
       "      <td>0.0</td>\n",
       "      <td>0.0</td>\n",
       "      <td>0.0</td>\n",
       "      <td>0.0</td>\n",
       "      <td>0.0</td>\n",
       "      <td>0.0</td>\n",
       "      <td>0.0</td>\n",
       "      <td>0.0</td>\n",
       "      <td>0.0</td>\n",
       "      <td>0.0</td>\n",
       "      <td>0.0</td>\n",
       "    </tr>\n",
       "    <tr>\n",
       "      <th>1</th>\n",
       "      <td>7027.0</td>\n",
       "      <td>0.0</td>\n",
       "      <td>0.0</td>\n",
       "      <td>0.0</td>\n",
       "      <td>0.0</td>\n",
       "      <td>0.0</td>\n",
       "      <td>0.0</td>\n",
       "      <td>0.0</td>\n",
       "      <td>0.0</td>\n",
       "      <td>0.0</td>\n",
       "      <td>0.0</td>\n",
       "      <td>0.0</td>\n",
       "      <td>0.0</td>\n",
       "      <td>0.0</td>\n",
       "      <td>0.0</td>\n",
       "      <td>0.0</td>\n",
       "      <td>0.0</td>\n",
       "      <td>0.0</td>\n",
       "      <td>0.0</td>\n",
       "      <td>0.0</td>\n",
       "    </tr>\n",
       "    <tr>\n",
       "      <th>2</th>\n",
       "      <td>6674.0</td>\n",
       "      <td>0.0</td>\n",
       "      <td>0.0</td>\n",
       "      <td>0.0</td>\n",
       "      <td>0.0</td>\n",
       "      <td>0.0</td>\n",
       "      <td>0.0</td>\n",
       "      <td>0.0</td>\n",
       "      <td>0.0</td>\n",
       "      <td>0.0</td>\n",
       "      <td>0.0</td>\n",
       "      <td>0.0</td>\n",
       "      <td>0.0</td>\n",
       "      <td>0.0</td>\n",
       "      <td>0.0</td>\n",
       "      <td>0.0</td>\n",
       "      <td>0.0</td>\n",
       "      <td>0.0</td>\n",
       "      <td>0.0</td>\n",
       "      <td>0.0</td>\n",
       "    </tr>\n",
       "    <tr>\n",
       "      <th>3</th>\n",
       "      <td>7687.0</td>\n",
       "      <td>14.9</td>\n",
       "      <td>0.0</td>\n",
       "      <td>0.0</td>\n",
       "      <td>0.0</td>\n",
       "      <td>0.0</td>\n",
       "      <td>0.0</td>\n",
       "      <td>0.0</td>\n",
       "      <td>13.0</td>\n",
       "      <td>0.0</td>\n",
       "      <td>0.0</td>\n",
       "      <td>0.0</td>\n",
       "      <td>0.0</td>\n",
       "      <td>0.0</td>\n",
       "      <td>0.0</td>\n",
       "      <td>0.0</td>\n",
       "      <td>0.0</td>\n",
       "      <td>0.0</td>\n",
       "      <td>0.0</td>\n",
       "      <td>0.0</td>\n",
       "    </tr>\n",
       "    <tr>\n",
       "      <th>4</th>\n",
       "      <td>7145.0</td>\n",
       "      <td>0.0</td>\n",
       "      <td>0.0</td>\n",
       "      <td>0.0</td>\n",
       "      <td>0.0</td>\n",
       "      <td>0.0</td>\n",
       "      <td>0.0</td>\n",
       "      <td>0.0</td>\n",
       "      <td>16.0</td>\n",
       "      <td>0.0</td>\n",
       "      <td>0.0</td>\n",
       "      <td>0.0</td>\n",
       "      <td>0.0</td>\n",
       "      <td>0.0</td>\n",
       "      <td>0.0</td>\n",
       "      <td>0.0</td>\n",
       "      <td>0.0</td>\n",
       "      <td>0.0</td>\n",
       "      <td>0.0</td>\n",
       "      <td>0.0</td>\n",
       "    </tr>\n",
       "  </tbody>\n",
       "</table>\n",
       "</div>"
      ],
      "text/plain": [
       "   RawBiogas  PigManure  Cassava  FishWastewater  KitchenFoodWaste  \\\n",
       "0     5820.0        0.0      0.0             0.0               0.0   \n",
       "1     7027.0        0.0      0.0             0.0               0.0   \n",
       "2     6674.0        0.0      0.0             0.0               0.0   \n",
       "3     7687.0       14.9      0.0             0.0               0.0   \n",
       "4     7145.0        0.0      0.0             0.0               0.0   \n",
       "\n",
       "   MunicipalFecalWaste  TeaWaste  ChickenWaste  Bagasse  AlcoholWaste  \\\n",
       "0                  0.0       0.0           0.0      0.0           0.0   \n",
       "1                  0.0       0.0           0.0      0.0           0.0   \n",
       "2                  0.0       0.0           0.0      0.0           0.0   \n",
       "3                  0.0       0.0           0.0     13.0           0.0   \n",
       "4                  0.0       0.0           0.0     16.0           0.0   \n",
       "\n",
       "   ChineseMedicineWaste  EnergyGrass  BananaFruitShafts  LemonWaste  \\\n",
       "0                   0.0          0.0                0.0         0.0   \n",
       "1                   0.0          0.0                0.0         0.0   \n",
       "2                   0.0          0.0                0.0         0.0   \n",
       "3                   0.0          0.0                0.0         0.0   \n",
       "4                   0.0          0.0                0.0         0.0   \n",
       "\n",
       "   Percolate  Other  NaOH  FeCl2  PAM  Defoamer  \n",
       "0        0.0    0.0   0.0    0.0  0.0       0.0  \n",
       "1        0.0    0.0   0.0    0.0  0.0       0.0  \n",
       "2        0.0    0.0   0.0    0.0  0.0       0.0  \n",
       "3        0.0    0.0   0.0    0.0  0.0       0.0  \n",
       "4        0.0    0.0   0.0    0.0  0.0       0.0  "
      ]
     },
     "execution_count": 16,
     "metadata": {},
     "output_type": "execute_result"
    }
   ],
   "source": [
    "# load_hainan_data() is from Hainan_Data_Cleaning and it loads hainan data\n",
    "df = load_hainan_data()\n",
    "shift= 29\n",
    "df_ts = timeshift_df(df, shift)\n",
    "\n",
    "df_ts.columns.values\n",
    "df_ts_relfeatures = df_ts.drop(['Year', 'Month', 'Day','BioCNG', 'LiquidFertilizer',\n",
    "       'SolidFertilizer', 'WasteWater', 'SolidResidues','ProjectElectricity',\n",
    "       'OfficeElectricity', 'Water', 'Diesel'], axis=1)\n",
    "\n",
    "print(df_ts_relfeatures.shape[0])\n",
    "df_ts_relfeatures = df_ts_relfeatures.apply(pd.to_numeric, errors='coerce')\n",
    "df_ts_relfeatures = df_ts_relfeatures.dropna()\n",
    "print(df_ts_relfeatures.shape[0])\n",
    "\n",
    "roll = 40\n",
    "roll_df = rollingsum(df_ts_relfeatures, roll)\n",
    "print(roll_df.shape[0])\n",
    "df_ts_relfeatures.head()"
   ]
  },
  {
   "cell_type": "code",
   "execution_count": 17,
   "metadata": {},
   "outputs": [
    {
     "name": "stdout",
     "output_type": "stream",
     "text": [
      "Pig Manure Sum: 936045.5500000016\n",
      "Cassava Sum: 502930.3999999996\n",
      "Fish Wastewater Sum: 112602.13999999975\n",
      "Kitchen Food Waste Sum: 716414.5800000008\n",
      "Municipal Fecal Waste Sum: 1332865.7200000004\n",
      "Tea Waste Sum: 43285.279999999904\n",
      "Chicken Waste Sum: 285335.83999999985\n",
      "Bagasse Sum: 670575.2999999957\n",
      "Alcohol Waste Sum: 36714.400000000045\n",
      "Chinese Medicine Waste Sum: 11691.600000000008\n",
      "Energy Grass Sum: 3726.3999999999924\n",
      "Banana Fruit Shafts Sum: 26808.000000000007\n",
      "Lemon Waste Sum: 15676.939999999991\n",
      "Percolate Sum: 4116120.0000000075\n",
      "Other Sum: 150124.5799999996\n",
      "NaOH Sum: 7435332.253999993\n",
      "FeCl2 Sum: 939600.0\n",
      "PAM Sum: 84000.0\n",
      "Defoamer Sum: 860.0\n"
     ]
    }
   ],
   "source": [
    "# FEATURE ENGINEERING GOES HERE\n",
    "\n",
    "# roll_df.head()\n",
    "\n",
    "pigsum = sum(roll_df.PigManure)\n",
    "print(\"Pig Manure Sum:\", pigsum)\n",
    "cassavasum = sum(roll_df.Cassava)\n",
    "print(\"Cassava Sum:\", cassavasum)\n",
    "fishsum = sum(roll_df.FishWastewater)\n",
    "print(\"Fish Wastewater Sum:\", fishsum)\n",
    "kitchensum = sum(roll_df.KitchenFoodWaste)\n",
    "print(\"Kitchen Food Waste Sum:\", kitchensum)\n",
    "mfwsum = sum(roll_df.MunicipalFecalWaste)\n",
    "print(\"Municipal Fecal Waste Sum:\", mfwsum)\n",
    "teasum = sum(roll_df.TeaWaste)\n",
    "print(\"Tea Waste Sum:\", teasum)\n",
    "chickensum = sum(roll_df.ChickenWaste)\n",
    "print(\"Chicken Waste Sum:\", chickensum)\n",
    "bagsum = sum(roll_df.Bagasse)\n",
    "print(\"Bagasse Sum:\", bagsum)\n",
    "alcsum = sum(roll_df.AlcoholWaste)\n",
    "print(\"Alcohol Waste Sum:\", alcsum)\n",
    "cmwsum = sum(roll_df.ChineseMedicineWaste)\n",
    "print(\"Chinese Medicine Waste Sum:\", cmwsum)\n",
    "grasssum = sum(roll_df.EnergyGrass)\n",
    "print(\"Energy Grass Sum:\", grasssum)\n",
    "bfssum = sum(roll_df.BananaFruitShafts)\n",
    "print(\"Banana Fruit Shafts Sum:\", bfssum)\n",
    "lwsum = sum(roll_df.LemonWaste)\n",
    "print(\"Lemon Waste Sum:\", lwsum)\n",
    "percsum = sum(roll_df.Percolate)\n",
    "print(\"Percolate Sum:\", percsum)\n",
    "othersum = sum(roll_df.Other)\n",
    "print(\"Other Sum:\", othersum)\n",
    "naohsum = sum(roll_df.NaOH)\n",
    "print(\"NaOH Sum:\", naohsum)\n",
    "fecl2sum = sum(roll_df.FeCl2)\n",
    "print(\"FeCl2 Sum:\", fecl2sum)\n",
    "pamsum = sum(roll_df.PAM)\n",
    "print(\"PAM Sum:\", pamsum)\n",
    "defoamersum = sum(roll_df.Defoamer)\n",
    "print(\"Defoamer Sum:\", defoamersum)"
   ]
  },
  {
   "cell_type": "code",
   "execution_count": 18,
   "metadata": {},
   "outputs": [
    {
     "name": "stdout",
     "output_type": "stream",
     "text": [
      "Pig Manure Max: 7069.96\n",
      "Cassava max: 3455.3099999999995\n",
      "Fish Wastewater max: 362.58000000000004\n",
      "Kitchen Food Waste max: 3638.6800000000007\n",
      "Municipal Fecal Waste max: 6808.09\n",
      "Tea Waste max: 235.87999999999997\n",
      "Chicken Waste max: 1653.55\n",
      "Bagasse max: 1781.23\n",
      "Alcohol Waste max: 335.64\n",
      "Chinese Medicine Waste max: 136.58\n",
      "Energy Grass max: 45.4\n",
      "Banana Fruit Shafts max: 582.88\n",
      "Lemon Waste max: 208.29999999999995\n",
      "Percolate max: 16454.0\n",
      "Other max: 1245.84\n",
      "NaOH max: 42485.6\n",
      "FeCl2 max: 6500.0\n",
      "PAM max: 550.0\n",
      "Defoamer max: 14.5\n"
     ]
    }
   ],
   "source": [
    "pigmax = max(roll_df.PigManure)\n",
    "print(\"Pig Manure Max:\", pigmax)\n",
    "cassavamax = max(roll_df.Cassava)\n",
    "print(\"Cassava max:\", cassavamax)\n",
    "fishmax = max(roll_df.FishWastewater)\n",
    "print(\"Fish Wastewater max:\", fishmax)\n",
    "kitchenmax = max(roll_df.KitchenFoodWaste)\n",
    "print(\"Kitchen Food Waste max:\", kitchenmax)\n",
    "mfwmax = max(roll_df.MunicipalFecalWaste)\n",
    "print(\"Municipal Fecal Waste max:\", mfwmax)\n",
    "teamax = max(roll_df.TeaWaste)\n",
    "print(\"Tea Waste max:\", teamax)\n",
    "chickenmax = max(roll_df.ChickenWaste)\n",
    "print(\"Chicken Waste max:\", chickenmax)\n",
    "bagmax = max(roll_df.Bagasse)\n",
    "print(\"Bagasse max:\", bagmax)\n",
    "alcmax = max(roll_df.AlcoholWaste)\n",
    "print(\"Alcohol Waste max:\", alcmax)\n",
    "cmwmax = max(roll_df.ChineseMedicineWaste)\n",
    "print(\"Chinese Medicine Waste max:\", cmwmax)\n",
    "grassmax = max(roll_df.EnergyGrass)\n",
    "print(\"Energy Grass max:\", grassmax)\n",
    "bfsmax = max(roll_df.BananaFruitShafts)\n",
    "print(\"Banana Fruit Shafts max:\", bfsmax)\n",
    "lwmax = max(roll_df.LemonWaste)\n",
    "print(\"Lemon Waste max:\", lwmax)\n",
    "percmax = max(roll_df.Percolate)\n",
    "print(\"Percolate max:\", percmax)\n",
    "othermax = max(roll_df.Other)\n",
    "print(\"Other max:\", othermax)\n",
    "naohmax = max(roll_df.NaOH)\n",
    "print(\"NaOH max:\", naohmax)\n",
    "fecl2max = max(roll_df.FeCl2)\n",
    "print(\"FeCl2 max:\", fecl2max)\n",
    "pammax = max(roll_df.PAM)\n",
    "print(\"PAM max:\", pammax)\n",
    "defoamermax = max(roll_df.Defoamer)\n",
    "print(\"Defoamer max:\", defoamermax)"
   ]
  },
  {
   "cell_type": "code",
   "execution_count": 19,
   "metadata": {},
   "outputs": [
    {
     "data": {
      "text/html": [
       "<div>\n",
       "<style scoped>\n",
       "    .dataframe tbody tr th:only-of-type {\n",
       "        vertical-align: middle;\n",
       "    }\n",
       "\n",
       "    .dataframe tbody tr th {\n",
       "        vertical-align: top;\n",
       "    }\n",
       "\n",
       "    .dataframe thead th {\n",
       "        text-align: right;\n",
       "    }\n",
       "</style>\n",
       "<table border=\"1\" class=\"dataframe\">\n",
       "  <thead>\n",
       "    <tr style=\"text-align: right;\">\n",
       "      <th></th>\n",
       "      <th>RawBiogas</th>\n",
       "      <th>PigManure</th>\n",
       "      <th>Cassava</th>\n",
       "      <th>FishWastewater</th>\n",
       "      <th>KitchenFoodWaste</th>\n",
       "      <th>MunicipalFecalWaste</th>\n",
       "      <th>TeaWaste</th>\n",
       "      <th>ChickenWaste</th>\n",
       "      <th>Bagasse</th>\n",
       "      <th>AlcoholWaste</th>\n",
       "      <th>...</th>\n",
       "      <th>LemonWaste</th>\n",
       "      <th>Percolate</th>\n",
       "      <th>Other</th>\n",
       "      <th>NaOH</th>\n",
       "      <th>FeCl2</th>\n",
       "      <th>PAM</th>\n",
       "      <th>Defoamer</th>\n",
       "      <th>Sum1</th>\n",
       "      <th>Sum2</th>\n",
       "      <th>Sum3</th>\n",
       "    </tr>\n",
       "  </thead>\n",
       "  <tbody>\n",
       "    <tr>\n",
       "      <th>0</th>\n",
       "      <td>132440.0</td>\n",
       "      <td>7058.59</td>\n",
       "      <td>0.0</td>\n",
       "      <td>0.0</td>\n",
       "      <td>0.0</td>\n",
       "      <td>0.0</td>\n",
       "      <td>0.0</td>\n",
       "      <td>0.0</td>\n",
       "      <td>330.07</td>\n",
       "      <td>0.0</td>\n",
       "      <td>...</td>\n",
       "      <td>0.0</td>\n",
       "      <td>0.0</td>\n",
       "      <td>267.78</td>\n",
       "      <td>5184.8</td>\n",
       "      <td>0.0</td>\n",
       "      <td>0.0</td>\n",
       "      <td>0.0</td>\n",
       "      <td>0.0</td>\n",
       "      <td>0.0</td>\n",
       "      <td>267.78</td>\n",
       "    </tr>\n",
       "    <tr>\n",
       "      <th>1</th>\n",
       "      <td>128360.0</td>\n",
       "      <td>7062.44</td>\n",
       "      <td>0.0</td>\n",
       "      <td>0.0</td>\n",
       "      <td>0.0</td>\n",
       "      <td>0.0</td>\n",
       "      <td>0.0</td>\n",
       "      <td>0.0</td>\n",
       "      <td>334.57</td>\n",
       "      <td>0.0</td>\n",
       "      <td>...</td>\n",
       "      <td>0.0</td>\n",
       "      <td>0.0</td>\n",
       "      <td>267.78</td>\n",
       "      <td>5184.8</td>\n",
       "      <td>0.0</td>\n",
       "      <td>0.0</td>\n",
       "      <td>0.0</td>\n",
       "      <td>0.0</td>\n",
       "      <td>0.0</td>\n",
       "      <td>267.78</td>\n",
       "    </tr>\n",
       "    <tr>\n",
       "      <th>2</th>\n",
       "      <td>121333.0</td>\n",
       "      <td>7069.96</td>\n",
       "      <td>0.0</td>\n",
       "      <td>0.0</td>\n",
       "      <td>0.0</td>\n",
       "      <td>0.0</td>\n",
       "      <td>0.0</td>\n",
       "      <td>0.0</td>\n",
       "      <td>339.57</td>\n",
       "      <td>0.0</td>\n",
       "      <td>...</td>\n",
       "      <td>0.0</td>\n",
       "      <td>0.0</td>\n",
       "      <td>267.78</td>\n",
       "      <td>5184.8</td>\n",
       "      <td>0.0</td>\n",
       "      <td>0.0</td>\n",
       "      <td>0.0</td>\n",
       "      <td>0.0</td>\n",
       "      <td>0.0</td>\n",
       "      <td>267.78</td>\n",
       "    </tr>\n",
       "    <tr>\n",
       "      <th>3</th>\n",
       "      <td>114659.0</td>\n",
       "      <td>7069.96</td>\n",
       "      <td>0.0</td>\n",
       "      <td>0.0</td>\n",
       "      <td>0.0</td>\n",
       "      <td>0.0</td>\n",
       "      <td>0.0</td>\n",
       "      <td>0.0</td>\n",
       "      <td>357.07</td>\n",
       "      <td>0.0</td>\n",
       "      <td>...</td>\n",
       "      <td>0.0</td>\n",
       "      <td>0.0</td>\n",
       "      <td>267.78</td>\n",
       "      <td>5184.8</td>\n",
       "      <td>0.0</td>\n",
       "      <td>0.0</td>\n",
       "      <td>0.0</td>\n",
       "      <td>0.0</td>\n",
       "      <td>0.0</td>\n",
       "      <td>267.78</td>\n",
       "    </tr>\n",
       "    <tr>\n",
       "      <th>4</th>\n",
       "      <td>106972.0</td>\n",
       "      <td>7061.28</td>\n",
       "      <td>0.0</td>\n",
       "      <td>0.0</td>\n",
       "      <td>0.0</td>\n",
       "      <td>0.0</td>\n",
       "      <td>0.0</td>\n",
       "      <td>0.0</td>\n",
       "      <td>364.07</td>\n",
       "      <td>0.0</td>\n",
       "      <td>...</td>\n",
       "      <td>0.0</td>\n",
       "      <td>0.0</td>\n",
       "      <td>267.78</td>\n",
       "      <td>5184.8</td>\n",
       "      <td>0.0</td>\n",
       "      <td>0.0</td>\n",
       "      <td>0.0</td>\n",
       "      <td>0.0</td>\n",
       "      <td>0.0</td>\n",
       "      <td>267.78</td>\n",
       "    </tr>\n",
       "  </tbody>\n",
       "</table>\n",
       "<p>5 rows × 23 columns</p>\n",
       "</div>"
      ],
      "text/plain": [
       "   RawBiogas  PigManure  Cassava  FishWastewater  KitchenFoodWaste  \\\n",
       "0   132440.0    7058.59      0.0             0.0               0.0   \n",
       "1   128360.0    7062.44      0.0             0.0               0.0   \n",
       "2   121333.0    7069.96      0.0             0.0               0.0   \n",
       "3   114659.0    7069.96      0.0             0.0               0.0   \n",
       "4   106972.0    7061.28      0.0             0.0               0.0   \n",
       "\n",
       "   MunicipalFecalWaste  TeaWaste  ChickenWaste  Bagasse  AlcoholWaste   ...    \\\n",
       "0                  0.0       0.0           0.0   330.07           0.0   ...     \n",
       "1                  0.0       0.0           0.0   334.57           0.0   ...     \n",
       "2                  0.0       0.0           0.0   339.57           0.0   ...     \n",
       "3                  0.0       0.0           0.0   357.07           0.0   ...     \n",
       "4                  0.0       0.0           0.0   364.07           0.0   ...     \n",
       "\n",
       "   LemonWaste  Percolate   Other    NaOH  FeCl2  PAM  Defoamer  Sum1  Sum2  \\\n",
       "0         0.0        0.0  267.78  5184.8    0.0  0.0       0.0   0.0   0.0   \n",
       "1         0.0        0.0  267.78  5184.8    0.0  0.0       0.0   0.0   0.0   \n",
       "2         0.0        0.0  267.78  5184.8    0.0  0.0       0.0   0.0   0.0   \n",
       "3         0.0        0.0  267.78  5184.8    0.0  0.0       0.0   0.0   0.0   \n",
       "4         0.0        0.0  267.78  5184.8    0.0  0.0       0.0   0.0   0.0   \n",
       "\n",
       "     Sum3  \n",
       "0  267.78  \n",
       "1  267.78  \n",
       "2  267.78  \n",
       "3  267.78  \n",
       "4  267.78  \n",
       "\n",
       "[5 rows x 23 columns]"
      ]
     },
     "execution_count": 19,
     "metadata": {},
     "output_type": "execute_result"
    }
   ],
   "source": [
    "roll_df['Sum1'] = roll_df.ChineseMedicineWaste + roll_df.AlcoholWaste + roll_df.EnergyGrass + roll_df.BananaFruitShafts + roll_df.LemonWaste\n",
    "roll_df['Sum2'] = roll_df.FishWastewater + roll_df.TeaWaste + roll_df.ChickenWaste\n",
    "roll_df['Sum3'] = roll_df.PAM + roll_df.Defoamer + roll_df.Other\n",
    "\n",
    "roll_df.head()"
   ]
  },
  {
   "cell_type": "code",
   "execution_count": 20,
   "metadata": {
    "collapsed": true
   },
   "outputs": [],
   "source": [
    "df_final = roll_df.drop(['ChineseMedicineWaste', 'AlcoholWaste', 'EnergyGrass','BananaFruitShafts', 'LemonWaste',\n",
    "       'FishWastewater', 'TeaWaste', 'ChickenWaste','PAM',\n",
    "       'Defoamer', 'Other'], axis=1)"
   ]
  },
  {
   "cell_type": "code",
   "execution_count": 21,
   "metadata": {},
   "outputs": [
    {
     "data": {
      "text/html": [
       "<div>\n",
       "<style scoped>\n",
       "    .dataframe tbody tr th:only-of-type {\n",
       "        vertical-align: middle;\n",
       "    }\n",
       "\n",
       "    .dataframe tbody tr th {\n",
       "        vertical-align: top;\n",
       "    }\n",
       "\n",
       "    .dataframe thead th {\n",
       "        text-align: right;\n",
       "    }\n",
       "</style>\n",
       "<table border=\"1\" class=\"dataframe\">\n",
       "  <thead>\n",
       "    <tr style=\"text-align: right;\">\n",
       "      <th></th>\n",
       "      <th>RawBiogas</th>\n",
       "      <th>PigManure</th>\n",
       "      <th>Cassava</th>\n",
       "      <th>KitchenFoodWaste</th>\n",
       "      <th>MunicipalFecalWaste</th>\n",
       "      <th>Bagasse</th>\n",
       "      <th>Percolate</th>\n",
       "      <th>NaOH</th>\n",
       "      <th>FeCl2</th>\n",
       "      <th>Sum1</th>\n",
       "      <th>Sum2</th>\n",
       "      <th>Sum3</th>\n",
       "    </tr>\n",
       "  </thead>\n",
       "  <tbody>\n",
       "    <tr>\n",
       "      <th>0</th>\n",
       "      <td>132440.0</td>\n",
       "      <td>7058.59</td>\n",
       "      <td>0.0</td>\n",
       "      <td>0.0</td>\n",
       "      <td>0.0</td>\n",
       "      <td>330.07</td>\n",
       "      <td>0.0</td>\n",
       "      <td>5184.8</td>\n",
       "      <td>0.0</td>\n",
       "      <td>0.0</td>\n",
       "      <td>0.0</td>\n",
       "      <td>267.78</td>\n",
       "    </tr>\n",
       "    <tr>\n",
       "      <th>1</th>\n",
       "      <td>128360.0</td>\n",
       "      <td>7062.44</td>\n",
       "      <td>0.0</td>\n",
       "      <td>0.0</td>\n",
       "      <td>0.0</td>\n",
       "      <td>334.57</td>\n",
       "      <td>0.0</td>\n",
       "      <td>5184.8</td>\n",
       "      <td>0.0</td>\n",
       "      <td>0.0</td>\n",
       "      <td>0.0</td>\n",
       "      <td>267.78</td>\n",
       "    </tr>\n",
       "    <tr>\n",
       "      <th>2</th>\n",
       "      <td>121333.0</td>\n",
       "      <td>7069.96</td>\n",
       "      <td>0.0</td>\n",
       "      <td>0.0</td>\n",
       "      <td>0.0</td>\n",
       "      <td>339.57</td>\n",
       "      <td>0.0</td>\n",
       "      <td>5184.8</td>\n",
       "      <td>0.0</td>\n",
       "      <td>0.0</td>\n",
       "      <td>0.0</td>\n",
       "      <td>267.78</td>\n",
       "    </tr>\n",
       "    <tr>\n",
       "      <th>3</th>\n",
       "      <td>114659.0</td>\n",
       "      <td>7069.96</td>\n",
       "      <td>0.0</td>\n",
       "      <td>0.0</td>\n",
       "      <td>0.0</td>\n",
       "      <td>357.07</td>\n",
       "      <td>0.0</td>\n",
       "      <td>5184.8</td>\n",
       "      <td>0.0</td>\n",
       "      <td>0.0</td>\n",
       "      <td>0.0</td>\n",
       "      <td>267.78</td>\n",
       "    </tr>\n",
       "    <tr>\n",
       "      <th>4</th>\n",
       "      <td>106972.0</td>\n",
       "      <td>7061.28</td>\n",
       "      <td>0.0</td>\n",
       "      <td>0.0</td>\n",
       "      <td>0.0</td>\n",
       "      <td>364.07</td>\n",
       "      <td>0.0</td>\n",
       "      <td>5184.8</td>\n",
       "      <td>0.0</td>\n",
       "      <td>0.0</td>\n",
       "      <td>0.0</td>\n",
       "      <td>267.78</td>\n",
       "    </tr>\n",
       "  </tbody>\n",
       "</table>\n",
       "</div>"
      ],
      "text/plain": [
       "   RawBiogas  PigManure  Cassava  KitchenFoodWaste  MunicipalFecalWaste  \\\n",
       "0   132440.0    7058.59      0.0               0.0                  0.0   \n",
       "1   128360.0    7062.44      0.0               0.0                  0.0   \n",
       "2   121333.0    7069.96      0.0               0.0                  0.0   \n",
       "3   114659.0    7069.96      0.0               0.0                  0.0   \n",
       "4   106972.0    7061.28      0.0               0.0                  0.0   \n",
       "\n",
       "   Bagasse  Percolate    NaOH  FeCl2  Sum1  Sum2    Sum3  \n",
       "0   330.07        0.0  5184.8    0.0   0.0   0.0  267.78  \n",
       "1   334.57        0.0  5184.8    0.0   0.0   0.0  267.78  \n",
       "2   339.57        0.0  5184.8    0.0   0.0   0.0  267.78  \n",
       "3   357.07        0.0  5184.8    0.0   0.0   0.0  267.78  \n",
       "4   364.07        0.0  5184.8    0.0   0.0   0.0  267.78  "
      ]
     },
     "execution_count": 21,
     "metadata": {},
     "output_type": "execute_result"
    }
   ],
   "source": [
    "df_final.head()"
   ]
  },
  {
   "cell_type": "code",
   "execution_count": 22,
   "metadata": {},
   "outputs": [
    {
     "name": "stdout",
     "output_type": "stream",
     "text": [
      "(1087, 11) (1087,) (272, 11) (272,)\n"
     ]
    }
   ],
   "source": [
    "x_train_r, y_train_r, x_test_r, y_test_r = test_train_for_regression(df_final)\n",
    "x_train_c, y_train_c, x_test_c, y_test_c, bins_c = test_train_for_classification(df_final, num_buckets = 7)\n",
    "x_train_c_1, y_train_c_1, x_test_c_1, y_test_c_1, bins_c_1 = test_train_for_classification(df_final, \\\n",
    "                                output_var=\"RawBiogas\", \\\n",
    "                                num_buckets = 7, one_hot=True)\n",
    "\n",
    "print(x_train_r.shape,  y_train_r.shape, x_test_r.shape, y_test_r.shape)\n",
    "# print(x_train_r.columns.values)"
   ]
  },
  {
   "cell_type": "code",
   "execution_count": 23,
   "metadata": {
    "collapsed": true
   },
   "outputs": [],
   "source": [
    "# np.savetxt(\"x_train_c_RK.csv\", x_train_c, delimiter=\",\")\n",
    "# np.savetxt(\"y_train_c_RK.csv\", y_train_c, delimiter=\",\")\n",
    "# np.savetxt(\"x_test_c_RK.csv\", x_test_c, delimiter=\",\")\n",
    "# np.savetxt(\"y_test_c_RK.csv\", y_test_c, delimiter=\",\")\n",
    "np.savetxt(\"x_train_r_biogas_RK.csv\", x_train_r, delimiter=\",\")\n",
    "np.savetxt(\"y_train_r_biogas_RK.csv\", y_train_r, delimiter=\",\")\n",
    "np.savetxt(\"x_test_r_biogas_RK.csv\", x_test_r, delimiter=\",\")\n",
    "np.savetxt(\"y_test_r_biogas_RK.csv\", y_test_r, delimiter=\",\")"
   ]
  },
  {
   "cell_type": "code",
   "execution_count": 11,
   "metadata": {},
   "outputs": [
    {
     "name": "stdout",
     "output_type": "stream",
     "text": [
      "[  2102.1025641    3609.7032967    4837.65934066   6468.55311355\n",
      "   8871.42857143  12888.69230769  16982.69230769  20568.76923077]\n"
     ]
    }
   ],
   "source": [
    "flat_bins = bins_c/roll\n",
    "print(flat_bins)\n",
    "bin1 = (flat_bins[0] + flat_bins[1])/2\n",
    "bin2 = (flat_bins[1] + flat_bins[2])/2\n",
    "bin3 = (flat_bins[2] + flat_bins[3])/2\n",
    "bin4 = (flat_bins[3] + flat_bins[4])/2\n",
    "bin5 = (flat_bins[4] + flat_bins[5])/2\n",
    "bin6 = (flat_bins[5] + flat_bins[6])/2\n",
    "bin7 = (flat_bins[6] + flat_bins[7])/2"
   ]
  },
  {
   "cell_type": "code",
   "execution_count": 12,
   "metadata": {},
   "outputs": [
    {
     "name": "stdout",
     "output_type": "stream",
     "text": [
      "2855.9029304\n",
      "4223.68131868\n",
      "5653.10622711\n",
      "7669.99084249\n",
      "10880.0604396\n",
      "14935.6923077\n",
      "18775.7307692\n"
     ]
    }
   ],
   "source": [
    "print(bin1)\n",
    "print(bin2)\n",
    "print(bin3)\n",
    "print(bin4)\n",
    "print(bin5)\n",
    "print(bin6)\n",
    "print(bin7)"
   ]
  },
  {
   "cell_type": "code",
   "execution_count": 13,
   "metadata": {},
   "outputs": [
    {
     "name": "stdout",
     "output_type": "stream",
     "text": [
      "Starting linear regression model.\n",
      "                            OLS Regression Results                            \n",
      "==============================================================================\n",
      "Dep. Variable:              RawBiogas   R-squared:                       0.918\n",
      "Model:                            OLS   Adj. R-squared:                  0.917\n",
      "Method:                 Least Squares   F-statistic:                     1108.\n",
      "Date:                Sat, 28 Apr 2018   Prob (F-statistic):               0.00\n",
      "Time:                        15:19:21   Log-Likelihood:                -13659.\n",
      "No. Observations:                1099   AIC:                         2.734e+04\n",
      "Df Residuals:                    1087   BIC:                         2.740e+04\n",
      "Df Model:                          11                                         \n",
      "Covariance Type:            nonrobust                                         \n",
      "=======================================================================================\n",
      "                          coef    std err          t      P>|t|      [0.025      0.975]\n",
      "---------------------------------------------------------------------------------------\n",
      "const                1.296e+05   4982.713     26.000      0.000     1.2e+05    1.39e+05\n",
      "PigManure              -4.0666      1.975     -2.059      0.040      -7.942      -0.191\n",
      "Cassava               112.5640      2.932     38.386      0.000     106.810     118.318\n",
      "KitchenFoodWaste      108.0642     14.384      7.513      0.000      79.840     136.288\n",
      "MunicipalFecalWaste    -3.3951      4.385     -0.774      0.439     -11.999       5.209\n",
      "Bagasse               118.1802      5.698     20.741      0.000     107.000     129.360\n",
      "Percolate              23.7845      0.736     32.305      0.000      22.340      25.229\n",
      "NaOH                   -1.0832      0.216     -5.011      0.000      -1.507      -0.659\n",
      "FeCl2                   0.1036      1.892      0.055      0.956      -3.608       3.815\n",
      "Sum1                  -26.7413     24.858     -1.076      0.282     -75.515      22.033\n",
      "Sum2                   29.3304     21.093      1.391      0.165     -12.056      70.717\n",
      "Sum3                   25.5243      9.416      2.711      0.007       7.048      44.001\n",
      "==============================================================================\n",
      "Omnibus:                       23.022   Durbin-Watson:                   1.947\n",
      "Prob(Omnibus):                  0.000   Jarque-Bera (JB):               29.447\n",
      "Skew:                           0.252   Prob(JB):                     4.03e-07\n",
      "Kurtosis:                       3.624   Cond. No.                     3.20e+04\n",
      "==============================================================================\n",
      "\n",
      "Warnings:\n",
      "[1] Standard Errors assume that the covariance matrix of the errors is correctly specified.\n",
      "[2] The condition number is large, 3.2e+04. This might indicate that there are\n",
      "strong multicollinearity or other numerical problems.\n",
      "The mean absolute error of linear regression on training set is:  44848.8733916\n",
      "The mean absolute error of linear regression test set is:  49953.5879773\n"
     ]
    }
   ],
   "source": [
    "# Linear Regression\n",
    "lr = run_lm(x_train_r, y_train_r, x_test_r, y_test_r)"
   ]
  },
  {
   "cell_type": "code",
   "execution_count": 16,
   "metadata": {
    "collapsed": true
   },
   "outputs": [],
   "source": [
    "# df_final2 = df_final.drop(['Sum2', 'Sum3'], axis=1)\n",
    "\n",
    "# x_train_r2, y_train_r2, x_test_r2, y_test_r2 = test_train_for_regression(df_final2)\n",
    "# # Linear Regression 2\n",
    "# lr2 = run_lm(x_train_r2, y_train_r2, x_test_r2, y_test_r2)"
   ]
  },
  {
   "cell_type": "code",
   "execution_count": 17,
   "metadata": {
    "collapsed": true
   },
   "outputs": [],
   "source": [
    "# rr = run_ridge(x_train_r, y_train_r, x_test_r, y_test_r, alpha = 0.5)\n",
    "\n",
    "# x_train_c, y_train_c, x_test_c, y_test_c = test_train_for_classification(df_final, num_buckets = 7)\n"
   ]
  },
  {
   "cell_type": "code",
   "execution_count": 14,
   "metadata": {
    "collapsed": true
   },
   "outputs": [],
   "source": [
    "# Classification\n",
    "lm = LogisticModel(x_train_c, y_train_c, x_test_c, y_test_c)\n",
    "\n",
    "dt = DecisionTree(x_train_c, y_train_c, x_test_c, y_test_c)\n",
    "\n",
    "rf = RandomForest(x_train_c, y_train_c, x_test_c, y_test_c)\n",
    "\n",
    "nb = NaiveBayes(x_train_c, y_train_c, x_test_c, y_test_c)\n"
   ]
  },
  {
   "cell_type": "code",
   "execution_count": 15,
   "metadata": {},
   "outputs": [
    {
     "ename": "InvocationException",
     "evalue": "GraphViz's executables not found",
     "output_type": "error",
     "traceback": [
      "\u001b[1;31m---------------------------------------------------------------------------\u001b[0m",
      "\u001b[1;31mInvocationException\u001b[0m                       Traceback (most recent call last)",
      "\u001b[1;32m<ipython-input-15-324e84223f69>\u001b[0m in \u001b[0;36m<module>\u001b[1;34m()\u001b[0m\n\u001b[0;32m     10\u001b[0m                 special_characters=True)\n\u001b[0;32m     11\u001b[0m \u001b[0mgraph\u001b[0m \u001b[1;33m=\u001b[0m \u001b[0mpydotplus\u001b[0m\u001b[1;33m.\u001b[0m\u001b[0mgraph_from_dot_data\u001b[0m\u001b[1;33m(\u001b[0m\u001b[0mdot_data\u001b[0m\u001b[1;33m.\u001b[0m\u001b[0mgetvalue\u001b[0m\u001b[1;33m(\u001b[0m\u001b[1;33m)\u001b[0m\u001b[1;33m)\u001b[0m\u001b[1;33m\u001b[0m\u001b[0m\n\u001b[1;32m---> 12\u001b[1;33m \u001b[0mImage\u001b[0m\u001b[1;33m(\u001b[0m\u001b[0mgraph\u001b[0m\u001b[1;33m.\u001b[0m\u001b[0mcreate_png\u001b[0m\u001b[1;33m(\u001b[0m\u001b[1;33m)\u001b[0m\u001b[1;33m)\u001b[0m\u001b[1;33m\u001b[0m\u001b[0m\n\u001b[0m",
      "\u001b[1;32m~\\.conda\\envs\\Data-X\\lib\\site-packages\\pydotplus\\graphviz.py\u001b[0m in \u001b[0;36m<lambda>\u001b[1;34m(f, prog)\u001b[0m\n\u001b[0;32m   1795\u001b[0m             self.__setattr__(\n\u001b[0;32m   1796\u001b[0m                 \u001b[1;34m'create_'\u001b[0m \u001b[1;33m+\u001b[0m \u001b[0mfrmt\u001b[0m\u001b[1;33m,\u001b[0m\u001b[1;33m\u001b[0m\u001b[0m\n\u001b[1;32m-> 1797\u001b[1;33m                 \u001b[1;32mlambda\u001b[0m \u001b[0mf\u001b[0m\u001b[1;33m=\u001b[0m\u001b[0mfrmt\u001b[0m\u001b[1;33m,\u001b[0m \u001b[0mprog\u001b[0m\u001b[1;33m=\u001b[0m\u001b[0mself\u001b[0m\u001b[1;33m.\u001b[0m\u001b[0mprog\u001b[0m\u001b[1;33m:\u001b[0m \u001b[0mself\u001b[0m\u001b[1;33m.\u001b[0m\u001b[0mcreate\u001b[0m\u001b[1;33m(\u001b[0m\u001b[0mformat\u001b[0m\u001b[1;33m=\u001b[0m\u001b[0mf\u001b[0m\u001b[1;33m,\u001b[0m \u001b[0mprog\u001b[0m\u001b[1;33m=\u001b[0m\u001b[0mprog\u001b[0m\u001b[1;33m)\u001b[0m\u001b[1;33m\u001b[0m\u001b[0m\n\u001b[0m\u001b[0;32m   1798\u001b[0m             )\n\u001b[0;32m   1799\u001b[0m             \u001b[0mf\u001b[0m \u001b[1;33m=\u001b[0m \u001b[0mself\u001b[0m\u001b[1;33m.\u001b[0m\u001b[0m__dict__\u001b[0m\u001b[1;33m[\u001b[0m\u001b[1;34m'create_'\u001b[0m \u001b[1;33m+\u001b[0m \u001b[0mfrmt\u001b[0m\u001b[1;33m]\u001b[0m\u001b[1;33m\u001b[0m\u001b[0m\n",
      "\u001b[1;32m~\\.conda\\envs\\Data-X\\lib\\site-packages\\pydotplus\\graphviz.py\u001b[0m in \u001b[0;36mcreate\u001b[1;34m(self, prog, format)\u001b[0m\n\u001b[0;32m   1958\u001b[0m             \u001b[1;32mif\u001b[0m \u001b[0mself\u001b[0m\u001b[1;33m.\u001b[0m\u001b[0mprogs\u001b[0m \u001b[1;32mis\u001b[0m \u001b[1;32mNone\u001b[0m\u001b[1;33m:\u001b[0m\u001b[1;33m\u001b[0m\u001b[0m\n\u001b[0;32m   1959\u001b[0m                 raise InvocationException(\n\u001b[1;32m-> 1960\u001b[1;33m                     'GraphViz\\'s executables not found')\n\u001b[0m\u001b[0;32m   1961\u001b[0m \u001b[1;33m\u001b[0m\u001b[0m\n\u001b[0;32m   1962\u001b[0m         \u001b[1;32mif\u001b[0m \u001b[0mprog\u001b[0m \u001b[1;32mnot\u001b[0m \u001b[1;32min\u001b[0m \u001b[0mself\u001b[0m\u001b[1;33m.\u001b[0m\u001b[0mprogs\u001b[0m\u001b[1;33m:\u001b[0m\u001b[1;33m\u001b[0m\u001b[0m\n",
      "\u001b[1;31mInvocationException\u001b[0m: GraphViz's executables not found"
     ]
    }
   ],
   "source": [
    "dtree = dt[0]\n",
    "\n",
    "from sklearn.externals.six import StringIO  \n",
    "from IPython.display import Image  \n",
    "from sklearn.tree import export_graphviz\n",
    "import pydotplus\n",
    "dot_data = StringIO()\n",
    "export_graphviz(dtree, out_file=dot_data,  \n",
    "                filled=True, rounded=True,\n",
    "                special_characters=True)\n",
    "graph = pydotplus.graph_from_dot_data(dot_data.getvalue())  \n",
    "Image(graph.create_png())"
   ]
  },
  {
   "cell_type": "code",
   "execution_count": 19,
   "metadata": {},
   "outputs": [
    {
     "data": {
      "text/plain": [
       "18775.7307692"
      ]
     },
     "execution_count": 19,
     "metadata": {},
     "output_type": "execute_result"
    }
   ],
   "source": [
    "output_var = \"RawBiogas\"\n",
    "x_final = df_final.drop([output_var], axis=1)\n",
    "y_final = df_final[output_var]/roll\n",
    "\n",
    "rf_predictions = rf[0].predict(x_final)\n",
    "\n",
    "#bin means\n",
    "2855.9029304\n",
    "4223.68131868\n",
    "5653.10622711\n",
    "7669.99084249\n",
    "10880.0604396\n",
    "14935.6923077\n",
    "18775.7307692"
   ]
  },
  {
   "cell_type": "code",
   "execution_count": 20,
   "metadata": {
    "collapsed": true
   },
   "outputs": [],
   "source": [
    "for i in np.arange(0, len(rf_predictions)):\n",
    "    if rf_predictions[i] == 0:\n",
    "        rf_predictions[i] = 2855.9\n",
    "    elif rf_predictions[i] == 1:\n",
    "        rf_predictions[i] = 4223.7\n",
    "    elif rf_predictions[i] == 2:\n",
    "        rf_predictions[i] = 5653.1\n",
    "    elif rf_predictions[i] == 3:\n",
    "        rf_predictions[i] = 7667.0\n",
    "    elif rf_predictions[i] == 4:\n",
    "        rf_predictions[i] = 10880.1\n",
    "    elif rf_predictions[i] == 5:\n",
    "        rf_predictions[i] = 14935.7\n",
    "    elif rf_predictions[i] == 6:\n",
    "        rf_predictions[i] = 18775.7\n",
    "\n"
   ]
  },
  {
   "cell_type": "code",
   "execution_count": 21,
   "metadata": {},
   "outputs": [
    {
     "data": {
      "text/plain": [
       "[<matplotlib.lines.Line2D at 0x21acb44ccc0>]"
      ]
     },
     "execution_count": 21,
     "metadata": {},
     "output_type": "execute_result"
    },
    {
     "data": {
      "image/png": "[encoded data removed]",
      "text/plain": [
       "<matplotlib.figure.Figure at 0x21ac1805a58>"
      ]
     },
     "metadata": {},
     "output_type": "display_data"
    }
   ],
   "source": [
    "import matplotlib.pyplot as plt\n",
    "%matplotlib inline\n",
    "\n",
    "plt.plot(df_ts_relfeatures['RawBiogas'])\n",
    "plt.plot(rf_predictions)"
   ]
  },
  {
   "cell_type": "code",
   "execution_count": 24,
   "metadata": {
    "collapsed": true
   },
   "outputs": [],
   "source": [
    "rf = RandomForest(x_train_c, y_train_c, x_test_c, y_test_c, min_samples_split=2, min_samples_leaf=1,\n",
    "                                     max_depth=10, max_leaf_nodes=10, max_features=3)"
   ]
  },
  {
   "cell_type": "code",
   "execution_count": 25,
   "metadata": {
    "collapsed": true
   },
   "outputs": [],
   "source": [
    "best_score = 0\n",
    "best_model = rf\n",
    "#tune_dict = {\"min_samples_split\": 2, \"min_samples_leaf\": 1, \"max_depth\": 0, \"max_leaf_nodes\": 0, \"max_features\": 0}"
   ]
  },
  {
   "cell_type": "code",
   "execution_count": 16,
   "metadata": {},
   "outputs": [
    {
     "name": "stdout",
     "output_type": "stream",
     "text": [
      "a = 2 \n",
      "\n",
      "0.942028985507\n",
      "0.945652173913\n",
      "0.952898550725\n",
      "a = 3 \n",
      "\n",
      "0.95652173913\n",
      "0.960144927536\n",
      "a = 4 \n",
      "\n",
      "a = 5 \n",
      "\n"
     ]
    }
   ],
   "source": [
    "best_score = 0\n",
    "best_model = rf\n",
    "for a in np.arange(2, 6):\n",
    "    print(\"a =\", a, \"\\n\")\n",
    "    for b in np.arange(1, 6):\n",
    "        for c in np.arange(10, 21):\n",
    "                for e in np.arange(3, 12):\n",
    "                    # print(\"e =\", e, \"\\n\")\n",
    "                    rf = RandomForest(x_train_c, y_train_c, x_test_c, y_test_c, min_samples_split=a, min_samples_leaf=b,\n",
    "                                     max_depth=c, max_features=e, n_estimators = 10)\n",
    "                    if rf[1] > best_score:\n",
    "                        best_model = rf[0]\n",
    "                        best_score = rf[1]\n",
    "                        print(best_score)"
   ]
  },
  {
   "cell_type": "code",
   "execution_count": 26,
   "metadata": {},
   "outputs": [
    {
     "name": "stdout",
     "output_type": "stream",
     "text": [
      "a = 2 \n",
      "\n",
      "0.868613138686\n",
      "0.897810218978\n",
      "0.905109489051\n",
      "0.908759124088\n",
      "0.912408759124\n",
      "0.941605839416\n",
      "0.959854014599\n",
      "a = 3 \n",
      "\n",
      "0.963503649635\n",
      "a = 4 \n",
      "\n",
      "a = 5 \n",
      "\n"
     ]
    }
   ],
   "source": [
    "best_score = 0\n",
    "best_model_dt = dt\n",
    "for a in np.arange(2, 6):\n",
    "    print(\"a =\", a, \"\\n\")\n",
    "    for b in np.arange(1, 6):\n",
    "        for c in np.arange(10, 21):\n",
    "                for e in np.arange(3, 12):\n",
    "                    # print(\"e =\", e, \"\\n\")\n",
    "                    dt = DecisionTree(x_train_c, y_train_c, x_test_c, y_test_c, min_samples_split=a, min_samples_leaf=b,\n",
    "                                     max_depth=c, max_features=e)\n",
    "                    if dt[1] > best_score:\n",
    "                        best_model_dt = dt[0]\n",
    "                        best_score = dt[1]\n",
    "                        print(best_score)"
   ]
  },
  {
   "cell_type": "code",
   "execution_count": 24,
   "metadata": {},
   "outputs": [
    {
     "name": "stdout",
     "output_type": "stream",
     "text": [
      "DecisionTreeClassifier(class_weight=None, criterion='gini', max_depth=17,\n",
      "            max_features=6, max_leaf_nodes=None, min_impurity_split=1e-07,\n",
      "            min_samples_leaf=1, min_samples_split=3,\n",
      "            min_weight_fraction_leaf=0, presort=False, random_state=None,\n",
      "            splitter='best')\n"
     ]
    }
   ],
   "source": [
    "print(best_model_dt)"
   ]
  },
  {
   "cell_type": "code",
   "execution_count": 19,
   "metadata": {},
   "outputs": [
    {
     "name": "stdout",
     "output_type": "stream",
     "text": [
      "RandomForestClassifier(bootstrap=True, class_weight=None, criterion='gini',\n",
      "            max_depth=12, max_features=4, max_leaf_nodes=None,\n",
      "            min_impurity_split=1e-07, min_samples_leaf=2,\n",
      "            min_samples_split=3, min_weight_fraction_leaf=0,\n",
      "            n_estimators=10, n_jobs=1, oob_score=False, random_state=None,\n",
      "            verbose=0, warm_start=False)\n"
     ]
    }
   ],
   "source": [
    "print(best_model)"
   ]
  },
  {
   "cell_type": "code",
   "execution_count": 27,
   "metadata": {},
   "outputs": [
    {
     "name": "stdout",
     "output_type": "stream",
     "text": [
      "Linear Regression - Mean Absolute Error  train: 49547.8079602 test: 48798.0169392\n",
      "Linear Regression - Mean Absolute Error  train: 50534.1447957 test: 46072.9772456\n",
      "Ridge Regression - Mean Absolute Error  train: 61934.5294936 test: 59616.665799\n",
      "Logistic Model - Accuracy: 0.641304347826\n",
      "Decision Tree - Accuracy: 0.945652173913\n",
      "Random Forest - Accuracy: 0.942028985507\n",
      "Naive Bayes - Accuracy: 0.557971014493\n"
     ]
    }
   ],
   "source": [
    "print(\"Linear Regression - Mean Absolute Error \", \"train:\",lr[0], \"test:\",lr[1])\n",
    "print(\"Linear Regression - Mean Absolute Error \", \"train:\",lr2[0], \"test:\",lr2[1])\n",
    "print(\"Ridge Regression - Mean Absolute Error \", \"train:\",rr[0], \"test:\",rr[1])\n",
    "print(\"Logistic Model - Accuracy:\", lm[1])\n",
    "print(\"Decision Tree - Accuracy:\", dt[1])\n",
    "print(\"Random Forest - Accuracy:\", rf[1])\n",
    "print(\"Naive Bayes - Accuracy:\", nb[1])"
   ]
  },
  {
   "cell_type": "code",
   "execution_count": 16,
   "metadata": {
    "collapsed": true
   },
   "outputs": [],
   "source": [
    "with open(\"biogas_classifier.txt\", \"w\") as f:\n",
    "    f = tree.export_graphviz(dt[0], out_file=f)"
   ]
  },
  {
   "cell_type": "code",
   "execution_count": 27,
   "metadata": {
    "collapsed": true
   },
   "outputs": [],
   "source": [
    "tree.export_graphviz(best_model_dt, out_file='tree.dot')"
   ]
  },
  {
   "cell_type": "code",
   "execution_count": 28,
   "metadata": {},
   "outputs": [
    {
     "ename": "ModuleNotFoundError",
     "evalue": "No module named 'pydotplus'",
     "output_type": "error",
     "traceback": [
      "\u001b[0;31m---------------------------------------------------------------------------\u001b[0m",
      "\u001b[0;31mModuleNotFoundError\u001b[0m                       Traceback (most recent call last)",
      "\u001b[0;32m<ipython-input-28-2472d6b5c783>\u001b[0m in \u001b[0;36m<module>\u001b[0;34m()\u001b[0m\n\u001b[1;32m      2\u001b[0m \u001b[1;32mfrom\u001b[0m \u001b[0mIPython\u001b[0m\u001b[1;33m.\u001b[0m\u001b[0mdisplay\u001b[0m \u001b[1;32mimport\u001b[0m \u001b[0mImage\u001b[0m\u001b[1;33m\u001b[0m\u001b[0m\n\u001b[1;32m      3\u001b[0m \u001b[1;32mfrom\u001b[0m \u001b[0msklearn\u001b[0m\u001b[1;33m.\u001b[0m\u001b[0mtree\u001b[0m \u001b[1;32mimport\u001b[0m \u001b[0mexport_graphviz\u001b[0m\u001b[1;33m\u001b[0m\u001b[0m\n\u001b[0;32m----> 4\u001b[0;31m \u001b[1;32mimport\u001b[0m \u001b[0mpydotplus\u001b[0m\u001b[1;33m\u001b[0m\u001b[0m\n\u001b[0m\u001b[1;32m      5\u001b[0m \u001b[1;33m\u001b[0m\u001b[0m\n\u001b[1;32m      6\u001b[0m \u001b[0mdot_data\u001b[0m \u001b[1;33m=\u001b[0m \u001b[0mStringIO\u001b[0m\u001b[1;33m(\u001b[0m\u001b[1;33m)\u001b[0m\u001b[1;33m\u001b[0m\u001b[0m\n",
      "\u001b[0;31mModuleNotFoundError\u001b[0m: No module named 'pydotplus'"
     ]
    }
   ],
   "source": [
    "from sklearn.externals.six import StringIO  \n",
    "from IPython.display import Image  \n",
    "from sklearn.tree import export_graphviz\n",
    "import pydotplus\n",
    "\n",
    "dot_data = StringIO()\n",
    "export_graphviz(best_model_dt, out_file=dot_data,  \n",
    "                filled=True, rounded=True,\n",
    "                special_characters=True)\n",
    "graph = pydotplus.graph_from_dot_data(dot_data.getvalue())  \n",
    "Image(graph.create_png())"
   ]
  },
  {
   "cell_type": "code",
   "execution_count": null,
   "metadata": {
    "collapsed": true
   },
   "outputs": [],
   "source": []
  }
 ],
 "metadata": {
  "kernelspec": {
   "display_name": "Python 3",
   "language": "python",
   "name": "python3"
  },
  "language_info": {
   "codemirror_mode": {
    "name": "ipython",
    "version": 3
   },
   "file_extension": ".py",
   "mimetype": "text/x-python",
   "name": "python",
   "nbconvert_exporter": "python",
   "pygments_lexer": "ipython3",
   "version": "3.6.3"
  }
 },
 "nbformat": 4,
 "nbformat_minor": 2
}
