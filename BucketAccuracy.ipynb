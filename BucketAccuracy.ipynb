{
 "cells": [
  {
   "cell_type": "code",
   "execution_count": 2,
   "metadata": {
    "collapsed": true
   },
   "outputs": [],
   "source": [
    "# import_notebooks is a custom python script\n",
    "# this line makes it possible to import functions from other IPython notebooks\n",
    "from import_notebooks import *"
   ]
  },
  {
   "cell_type": "code",
   "execution_count": 3,
   "metadata": {},
   "outputs": [
    {
     "name": "stdout",
     "output_type": "stream",
     "text": [
      "importing Jupyter notebook from Hainan_Data_Cleaning.ipynb\n",
      "importing Jupyter notebook from time_shift_dataframe.ipynb\n",
      "importing Jupyter notebook from Stratified_Split.ipynb\n",
      "importing Jupyter notebook from Cumulative.ipynb\n",
      "importing Jupyter notebook from Rollingsum.ipynb\n",
      "importing Jupyter notebook from LR_model.ipynb\n"
     ]
    },
    {
     "name": "stderr",
     "output_type": "stream",
     "text": [
      "C:\\Program Files (x86)\\Microsoft Visual Studio\\Shared\\Anaconda3_64\\lib\\site-packages\\statsmodels\\compat\\pandas.py:56: FutureWarning: The pandas.core.datetools module is deprecated and will be removed in a future version. Please use the pandas.tseries module instead.\n",
      "  from pandas.core import datetools\n"
     ]
    },
    {
     "name": "stdout",
     "output_type": "stream",
     "text": [
      "importing Jupyter notebook from Classification_Functions.ipynb\n",
      "importing Jupyter notebook from Utilities.ipynb\n"
     ]
    }
   ],
   "source": [
    "# Here we import all the functions (*) from these notebooks\n",
    "from Hainan_Data_Cleaning import *\n",
    "from time_shift_dataframe import *\n",
    "from Stratified_Split import *\n",
    "from Cumulative import *\n",
    "from Rollingsum import *\n",
    "from LR_model import *\n",
    "from Classification_Functions import *\n",
    "# from nn_model_keras import *\n",
    "\n",
    "from Utilities import *"
   ]
  },
  {
   "cell_type": "code",
   "execution_count": 4,
   "metadata": {},
   "outputs": [
    {
     "name": "stdout",
     "output_type": "stream",
     "text": [
      "1413\n",
      "1413\n",
      "1374\n"
     ]
    },
    {
     "data": {
      "text/html": [
       "<div>\n",
       "<style>\n",
       "    .dataframe thead tr:only-child th {\n",
       "        text-align: right;\n",
       "    }\n",
       "\n",
       "    .dataframe thead th {\n",
       "        text-align: left;\n",
       "    }\n",
       "\n",
       "    .dataframe tbody tr th {\n",
       "        vertical-align: top;\n",
       "    }\n",
       "</style>\n",
       "<table border=\"1\" class=\"dataframe\">\n",
       "  <thead>\n",
       "    <tr style=\"text-align: right;\">\n",
       "      <th></th>\n",
       "      <th>RawBiogas</th>\n",
       "      <th>PigManure</th>\n",
       "      <th>Cassava</th>\n",
       "      <th>FishWastewater</th>\n",
       "      <th>KitchenFoodWaste</th>\n",
       "      <th>MunicipalFecalWaste</th>\n",
       "      <th>TeaWaste</th>\n",
       "      <th>ChickenWaste</th>\n",
       "      <th>Bagasse</th>\n",
       "      <th>AlcoholWaste</th>\n",
       "      <th>ChineseMedicineWaste</th>\n",
       "      <th>EnergyGrass</th>\n",
       "      <th>BananaFruitShafts</th>\n",
       "      <th>LemonWaste</th>\n",
       "      <th>Percolate</th>\n",
       "      <th>Other</th>\n",
       "      <th>NaOH</th>\n",
       "      <th>FeCl2</th>\n",
       "      <th>PAM</th>\n",
       "      <th>Defoamer</th>\n",
       "    </tr>\n",
       "  </thead>\n",
       "  <tbody>\n",
       "    <tr>\n",
       "      <th>0</th>\n",
       "      <td>0.0</td>\n",
       "      <td>0.0</td>\n",
       "      <td>0.0</td>\n",
       "      <td>0.0</td>\n",
       "      <td>0.0</td>\n",
       "      <td>0.0</td>\n",
       "      <td>0.0</td>\n",
       "      <td>0.0</td>\n",
       "      <td>0.0</td>\n",
       "      <td>0.0</td>\n",
       "      <td>0.0</td>\n",
       "      <td>0.0</td>\n",
       "      <td>0.0</td>\n",
       "      <td>0.0</td>\n",
       "      <td>0.0</td>\n",
       "      <td>0.0</td>\n",
       "      <td>0.0</td>\n",
       "      <td>0.0</td>\n",
       "      <td>0.0</td>\n",
       "      <td>0.0</td>\n",
       "    </tr>\n",
       "    <tr>\n",
       "      <th>1</th>\n",
       "      <td>0.0</td>\n",
       "      <td>0.0</td>\n",
       "      <td>0.0</td>\n",
       "      <td>0.0</td>\n",
       "      <td>0.0</td>\n",
       "      <td>0.0</td>\n",
       "      <td>0.0</td>\n",
       "      <td>0.0</td>\n",
       "      <td>0.0</td>\n",
       "      <td>0.0</td>\n",
       "      <td>0.0</td>\n",
       "      <td>0.0</td>\n",
       "      <td>0.0</td>\n",
       "      <td>0.0</td>\n",
       "      <td>0.0</td>\n",
       "      <td>0.0</td>\n",
       "      <td>0.0</td>\n",
       "      <td>0.0</td>\n",
       "      <td>0.0</td>\n",
       "      <td>0.0</td>\n",
       "    </tr>\n",
       "    <tr>\n",
       "      <th>2</th>\n",
       "      <td>0.0</td>\n",
       "      <td>0.0</td>\n",
       "      <td>0.0</td>\n",
       "      <td>0.0</td>\n",
       "      <td>0.0</td>\n",
       "      <td>0.0</td>\n",
       "      <td>0.0</td>\n",
       "      <td>0.0</td>\n",
       "      <td>0.0</td>\n",
       "      <td>0.0</td>\n",
       "      <td>0.0</td>\n",
       "      <td>0.0</td>\n",
       "      <td>0.0</td>\n",
       "      <td>0.0</td>\n",
       "      <td>0.0</td>\n",
       "      <td>0.0</td>\n",
       "      <td>0.0</td>\n",
       "      <td>0.0</td>\n",
       "      <td>0.0</td>\n",
       "      <td>0.0</td>\n",
       "    </tr>\n",
       "    <tr>\n",
       "      <th>3</th>\n",
       "      <td>0.0</td>\n",
       "      <td>14.9</td>\n",
       "      <td>0.0</td>\n",
       "      <td>0.0</td>\n",
       "      <td>0.0</td>\n",
       "      <td>0.0</td>\n",
       "      <td>0.0</td>\n",
       "      <td>0.0</td>\n",
       "      <td>13.0</td>\n",
       "      <td>0.0</td>\n",
       "      <td>0.0</td>\n",
       "      <td>0.0</td>\n",
       "      <td>0.0</td>\n",
       "      <td>0.0</td>\n",
       "      <td>0.0</td>\n",
       "      <td>0.0</td>\n",
       "      <td>0.0</td>\n",
       "      <td>0.0</td>\n",
       "      <td>0.0</td>\n",
       "      <td>0.0</td>\n",
       "    </tr>\n",
       "    <tr>\n",
       "      <th>4</th>\n",
       "      <td>0.0</td>\n",
       "      <td>0.0</td>\n",
       "      <td>0.0</td>\n",
       "      <td>0.0</td>\n",
       "      <td>0.0</td>\n",
       "      <td>0.0</td>\n",
       "      <td>0.0</td>\n",
       "      <td>0.0</td>\n",
       "      <td>16.0</td>\n",
       "      <td>0.0</td>\n",
       "      <td>0.0</td>\n",
       "      <td>0.0</td>\n",
       "      <td>0.0</td>\n",
       "      <td>0.0</td>\n",
       "      <td>0.0</td>\n",
       "      <td>0.0</td>\n",
       "      <td>0.0</td>\n",
       "      <td>0.0</td>\n",
       "      <td>0.0</td>\n",
       "      <td>0.0</td>\n",
       "    </tr>\n",
       "  </tbody>\n",
       "</table>\n",
       "</div>"
      ],
      "text/plain": [
       "   RawBiogas  PigManure  Cassava  FishWastewater  KitchenFoodWaste  \\\n",
       "0        0.0        0.0      0.0             0.0               0.0   \n",
       "1        0.0        0.0      0.0             0.0               0.0   \n",
       "2        0.0        0.0      0.0             0.0               0.0   \n",
       "3        0.0       14.9      0.0             0.0               0.0   \n",
       "4        0.0        0.0      0.0             0.0               0.0   \n",
       "\n",
       "   MunicipalFecalWaste  TeaWaste  ChickenWaste  Bagasse  AlcoholWaste  \\\n",
       "0                  0.0       0.0           0.0      0.0           0.0   \n",
       "1                  0.0       0.0           0.0      0.0           0.0   \n",
       "2                  0.0       0.0           0.0      0.0           0.0   \n",
       "3                  0.0       0.0           0.0     13.0           0.0   \n",
       "4                  0.0       0.0           0.0     16.0           0.0   \n",
       "\n",
       "   ChineseMedicineWaste  EnergyGrass  BananaFruitShafts  LemonWaste  \\\n",
       "0                   0.0          0.0                0.0         0.0   \n",
       "1                   0.0          0.0                0.0         0.0   \n",
       "2                   0.0          0.0                0.0         0.0   \n",
       "3                   0.0          0.0                0.0         0.0   \n",
       "4                   0.0          0.0                0.0         0.0   \n",
       "\n",
       "   Percolate  Other  NaOH  FeCl2  PAM  Defoamer  \n",
       "0        0.0    0.0   0.0    0.0  0.0       0.0  \n",
       "1        0.0    0.0   0.0    0.0  0.0       0.0  \n",
       "2        0.0    0.0   0.0    0.0  0.0       0.0  \n",
       "3        0.0    0.0   0.0    0.0  0.0       0.0  \n",
       "4        0.0    0.0   0.0    0.0  0.0       0.0  "
      ]
     },
     "execution_count": 4,
     "metadata": {},
     "output_type": "execute_result"
    }
   ],
   "source": [
    "# load_hainan_data() is from Hainan_Data_Cleaning and it loads hainan data\n",
    "df = load_hainan_data()\n",
    "shift= 15\n",
    "df_ts = timeshift_df(df, shift)\n",
    "\n",
    "df_ts.columns.values\n",
    "df_ts_relfeatures = df_ts.drop(['Year', 'Month', 'Day','BioCNG', 'LiquidFertilizer',\n",
    "       'SolidFertilizer', 'WasteWater', 'SolidResidues','ProjectElectricity',\n",
    "       'OfficeElectricity', 'Water', 'Diesel'], axis=1)\n",
    "\n",
    "print(df_ts_relfeatures.shape[0])\n",
    "df_ts_relfeatures = df_ts_relfeatures.apply(pd.to_numeric, errors='coerce')\n",
    "df_ts_relfeatures = df_ts_relfeatures.dropna()\n",
    "print(df_ts_relfeatures.shape[0])\n",
    "\n",
    "roll = 39\n",
    "roll_df = rollingsum(df_ts_relfeatures, roll)\n",
    "print(roll_df.shape[0])\n",
    "df_ts_relfeatures.head()"
   ]
  },
  {
   "cell_type": "code",
   "execution_count": 5,
   "metadata": {},
   "outputs": [
    {
     "name": "stdout",
     "output_type": "stream",
     "text": [
      "Pig Manure Sum: 934521.119\n",
      "Cassava Sum: 490357.14\n",
      "Fish Wastewater Sum: 110973.32\n",
      "Kitchen Food Waste Sum: 749775.87\n",
      "Municipal Fecal Waste Sum: 1364037.438\n",
      "Tea Waste Sum: 45081.36\n",
      "Chicken Waste Sum: 301504.06\n",
      "Bagasse Sum: 662474.276\n",
      "Alcohol Waste Sum: 35796.54\n",
      "Chinese Medicine Waste Sum: 11399.31\n",
      "Energy Grass Sum: 3633.24\n",
      "Banana Fruit Shafts Sum: 26137.8\n",
      "Lemon Waste Sum: 17693.34\n",
      "Percolate Sum: 4129096.3\n",
      "Other Sum: 146562.52\n",
      "NaOH Sum: 7287900.0809\n",
      "FeCl2 Sum: 916110.0\n",
      "PAM Sum: 81900.0\n",
      "Defoamer Sum: 838.5\n"
     ]
    }
   ],
   "source": [
    "# FEATURE ENGINEERING GOES HERE\n",
    "\n",
    "# roll_df.head()\n",
    "\n",
    "pigsum = sum(roll_df.PigManure)\n",
    "print(\"Pig Manure Sum:\", pigsum)\n",
    "cassavasum = sum(roll_df.Cassava)\n",
    "print(\"Cassava Sum:\", cassavasum)\n",
    "fishsum = sum(roll_df.FishWastewater)\n",
    "print(\"Fish Wastewater Sum:\", fishsum)\n",
    "kitchensum = sum(roll_df.KitchenFoodWaste)\n",
    "print(\"Kitchen Food Waste Sum:\", kitchensum)\n",
    "mfwsum = sum(roll_df.MunicipalFecalWaste)\n",
    "print(\"Municipal Fecal Waste Sum:\", mfwsum)\n",
    "teasum = sum(roll_df.TeaWaste)\n",
    "print(\"Tea Waste Sum:\", teasum)\n",
    "chickensum = sum(roll_df.ChickenWaste)\n",
    "print(\"Chicken Waste Sum:\", chickensum)\n",
    "bagsum = sum(roll_df.Bagasse)\n",
    "print(\"Bagasse Sum:\", bagsum)\n",
    "alcsum = sum(roll_df.AlcoholWaste)\n",
    "print(\"Alcohol Waste Sum:\", alcsum)\n",
    "cmwsum = sum(roll_df.ChineseMedicineWaste)\n",
    "print(\"Chinese Medicine Waste Sum:\", cmwsum)\n",
    "grasssum = sum(roll_df.EnergyGrass)\n",
    "print(\"Energy Grass Sum:\", grasssum)\n",
    "bfssum = sum(roll_df.BananaFruitShafts)\n",
    "print(\"Banana Fruit Shafts Sum:\", bfssum)\n",
    "lwsum = sum(roll_df.LemonWaste)\n",
    "print(\"Lemon Waste Sum:\", lwsum)\n",
    "percsum = sum(roll_df.Percolate)\n",
    "print(\"Percolate Sum:\", percsum)\n",
    "othersum = sum(roll_df.Other)\n",
    "print(\"Other Sum:\", othersum)\n",
    "naohsum = sum(roll_df.NaOH)\n",
    "print(\"NaOH Sum:\", naohsum)\n",
    "fecl2sum = sum(roll_df.FeCl2)\n",
    "print(\"FeCl2 Sum:\", fecl2sum)\n",
    "pamsum = sum(roll_df.PAM)\n",
    "print(\"PAM Sum:\", pamsum)\n",
    "defoamersum = sum(roll_df.Defoamer)\n",
    "print(\"Defoamer Sum:\", defoamersum)"
   ]
  },
  {
   "cell_type": "code",
   "execution_count": 6,
   "metadata": {
    "collapsed": true
   },
   "outputs": [],
   "source": [
    "roll_df['Sum1'] = roll_df.ChineseMedicineWaste + roll_df.AlcoholWaste + roll_df.EnergyGrass + roll_df.BananaFruitShafts + roll_df.LemonWaste\n",
    "roll_df['Sum2'] = roll_df.FishWastewater + roll_df.TeaWaste + roll_df.ChickenWaste\n",
    "roll_df['Sum3'] = roll_df.PAM + roll_df.Defoamer + roll_df.Other"
   ]
  },
  {
   "cell_type": "code",
   "execution_count": 7,
   "metadata": {
    "collapsed": true
   },
   "outputs": [],
   "source": [
    "df_final = roll_df.drop(['ChineseMedicineWaste', 'AlcoholWaste', 'EnergyGrass','BananaFruitShafts', 'LemonWaste',\n",
    "       'FishWastewater', 'TeaWaste', 'ChickenWaste','PAM',\n",
    "       'Defoamer', 'Other'], axis=1)"
   ]
  },
  {
   "cell_type": "code",
   "execution_count": 32,
   "metadata": {},
   "outputs": [
    {
     "data": {
      "text/html": [
       "<div>\n",
       "<style>\n",
       "    .dataframe thead tr:only-child th {\n",
       "        text-align: right;\n",
       "    }\n",
       "\n",
       "    .dataframe thead th {\n",
       "        text-align: left;\n",
       "    }\n",
       "\n",
       "    .dataframe tbody tr th {\n",
       "        vertical-align: top;\n",
       "    }\n",
       "</style>\n",
       "<table border=\"1\" class=\"dataframe\">\n",
       "  <thead>\n",
       "    <tr style=\"text-align: right;\">\n",
       "      <th></th>\n",
       "      <th>RawBiogas</th>\n",
       "      <th>PigManure</th>\n",
       "      <th>Cassava</th>\n",
       "      <th>KitchenFoodWaste</th>\n",
       "      <th>MunicipalFecalWaste</th>\n",
       "      <th>Bagasse</th>\n",
       "      <th>Percolate</th>\n",
       "      <th>NaOH</th>\n",
       "      <th>FeCl2</th>\n",
       "      <th>Sum1</th>\n",
       "      <th>Sum2</th>\n",
       "      <th>Sum3</th>\n",
       "    </tr>\n",
       "  </thead>\n",
       "  <tbody>\n",
       "    <tr>\n",
       "      <th>0</th>\n",
       "      <td>141091.0</td>\n",
       "      <td>7051.59</td>\n",
       "      <td>0.0</td>\n",
       "      <td>0.0</td>\n",
       "      <td>0.0</td>\n",
       "      <td>315.07</td>\n",
       "      <td>0.0</td>\n",
       "      <td>5184.8</td>\n",
       "      <td>0.0</td>\n",
       "      <td>0.0</td>\n",
       "      <td>0.0</td>\n",
       "      <td>267.78</td>\n",
       "    </tr>\n",
       "    <tr>\n",
       "      <th>1</th>\n",
       "      <td>144821.0</td>\n",
       "      <td>7058.59</td>\n",
       "      <td>0.0</td>\n",
       "      <td>0.0</td>\n",
       "      <td>0.0</td>\n",
       "      <td>330.07</td>\n",
       "      <td>0.0</td>\n",
       "      <td>5184.8</td>\n",
       "      <td>0.0</td>\n",
       "      <td>0.0</td>\n",
       "      <td>0.0</td>\n",
       "      <td>267.78</td>\n",
       "    </tr>\n",
       "    <tr>\n",
       "      <th>2</th>\n",
       "      <td>150021.0</td>\n",
       "      <td>7062.44</td>\n",
       "      <td>0.0</td>\n",
       "      <td>0.0</td>\n",
       "      <td>0.0</td>\n",
       "      <td>334.57</td>\n",
       "      <td>0.0</td>\n",
       "      <td>5184.8</td>\n",
       "      <td>0.0</td>\n",
       "      <td>0.0</td>\n",
       "      <td>0.0</td>\n",
       "      <td>267.78</td>\n",
       "    </tr>\n",
       "    <tr>\n",
       "      <th>3</th>\n",
       "      <td>154783.0</td>\n",
       "      <td>7069.96</td>\n",
       "      <td>0.0</td>\n",
       "      <td>0.0</td>\n",
       "      <td>0.0</td>\n",
       "      <td>339.57</td>\n",
       "      <td>0.0</td>\n",
       "      <td>5184.8</td>\n",
       "      <td>0.0</td>\n",
       "      <td>0.0</td>\n",
       "      <td>0.0</td>\n",
       "      <td>267.78</td>\n",
       "    </tr>\n",
       "    <tr>\n",
       "      <th>4</th>\n",
       "      <td>154783.0</td>\n",
       "      <td>7055.06</td>\n",
       "      <td>0.0</td>\n",
       "      <td>0.0</td>\n",
       "      <td>0.0</td>\n",
       "      <td>344.07</td>\n",
       "      <td>0.0</td>\n",
       "      <td>5184.8</td>\n",
       "      <td>0.0</td>\n",
       "      <td>0.0</td>\n",
       "      <td>0.0</td>\n",
       "      <td>267.78</td>\n",
       "    </tr>\n",
       "  </tbody>\n",
       "</table>\n",
       "</div>"
      ],
      "text/plain": [
       "   RawBiogas  PigManure  Cassava  KitchenFoodWaste  MunicipalFecalWaste  \\\n",
       "0   141091.0    7051.59      0.0               0.0                  0.0   \n",
       "1   144821.0    7058.59      0.0               0.0                  0.0   \n",
       "2   150021.0    7062.44      0.0               0.0                  0.0   \n",
       "3   154783.0    7069.96      0.0               0.0                  0.0   \n",
       "4   154783.0    7055.06      0.0               0.0                  0.0   \n",
       "\n",
       "   Bagasse  Percolate    NaOH  FeCl2  Sum1  Sum2    Sum3  \n",
       "0   315.07        0.0  5184.8    0.0   0.0   0.0  267.78  \n",
       "1   330.07        0.0  5184.8    0.0   0.0   0.0  267.78  \n",
       "2   334.57        0.0  5184.8    0.0   0.0   0.0  267.78  \n",
       "3   339.57        0.0  5184.8    0.0   0.0   0.0  267.78  \n",
       "4   344.07        0.0  5184.8    0.0   0.0   0.0  267.78  "
      ]
     },
     "execution_count": 32,
     "metadata": {},
     "output_type": "execute_result"
    }
   ],
   "source": [
    "df_final.head()"
   ]
  },
  {
   "cell_type": "code",
   "execution_count": 43,
   "metadata": {},
   "outputs": [],
   "source": [
    "models = []\n",
    "mean_predictions = []\n",
    "midpoint_predictions = []\n",
    "for i in np.arange(0,46):\n",
    "    bin_means = []\n",
    "    bin_midpoints = []\n",
    "    buckets=i+5\n",
    "    x_train_c, y_train_c, x_test_c, y_test_c, bins_c = test_train_for_classification(df_final, num_buckets = buckets)\n",
    "    flat_bins = bins_c/roll\n",
    "    rf = RandomForest(x_train_c, y_train_c, x_test_c, y_test_c)\n",
    "    models.append(rf[0])\n",
    "    #print(rf[1])\n",
    "    \n",
    "    output_var = \"RawBiogas\"\n",
    "    x_final = df_final.drop([output_var], axis=1)\n",
    "    y_final = df_final[output_var]/roll\n",
    "\n",
    "    for j in np.arange(0,buckets):\n",
    "        bin_midpoints.append((flat_bins[j] + flat_bins[j+1])/2)\n",
    "        df_bin = df[(df['RawBiogas'] >= flat_bins[j]) & (df['RawBiogas'] <= flat_bins[j+1])]\n",
    "        #print(df_bin['RawBiogas'].mean())\n",
    "        bin_means.append(df_bin['RawBiogas'].mean())\n",
    "\n",
    "    \n",
    "    rf_predictions = rf[0].predict(x_final)\n",
    "    rf_predictions_means = rf_predictions\n",
    "    rf_predictions_midpoints = rf_predictions\n",
    "    #print(bin_means)\n",
    "    for k in np.arange(0, len(rf_predictions)):\n",
    "        for l in np.arange(0,buckets):\n",
    "            if rf_predictions[k] == l:\n",
    "                rf_predictions_means[k] = bin_means[l]\n",
    "                rf_predictions_midpoints[k] = bin_midpoints[l]\n",
    "    \n",
    "    #pred_shift = timeshift_df2(pd.DataFrame(rf_predictions), shift, index=1)\n",
    "    #rf_predictions = pred_shift.values\n",
    "    mean_predictions.append(rf_predictions_means)\n",
    "    midpoint_predictions.append(rf_predictions_midpoints)"
   ]
  },
  {
   "cell_type": "code",
   "execution_count": 25,
   "metadata": {},
   "outputs": [
    {
     "name": "stdout",
     "output_type": "stream",
     "text": [
      "[ 3646  3777  3777 ..., 17701 17701 17701]\n"
     ]
    }
   ],
   "source": [
    "import matplotlib.pyplot as plt\n",
    "%matplotlib inline\n",
    "print(predictions[95])"
   ]
  },
  {
   "cell_type": "code",
   "execution_count": 44,
   "metadata": {},
   "outputs": [],
   "source": [
    "RMSE_array_means=[]\n",
    "for m in np.arange(0,len(mean_predictions)):\n",
    "    se = 0;\n",
    "    for n in np.arange(0,len(mean_predictions[m])):\n",
    "        se = se + (y_final[n] - mean_predictions[m][n])**2\n",
    "    RMSE = (se/len(mean_predictions[m]))**0.5\n",
    "    RMSE_array_means.append(RMSE)"
   ]
  },
  {
   "cell_type": "code",
   "execution_count": 45,
   "metadata": {
    "collapsed": true
   },
   "outputs": [],
   "source": [
    "RMSE_array_midpoints=[]\n",
    "for m in np.arange(0,len(midpoint_predictions)):\n",
    "    se = 0;\n",
    "    for n in np.arange(0,len(midpoint_predictions[m])):\n",
    "        se = se + (y_final[n] - midpoint_predictions[m][n])**2\n",
    "    RMSE = (se/len(midpoint_predictions[m]))**0.5\n",
    "    RMSE_array_midpoints.append(RMSE)"
   ]
  },
  {
   "cell_type": "code",
   "execution_count": 52,
   "metadata": {},
   "outputs": [
    {
     "data": {
      "text/plain": [
       "<matplotlib.legend.Legend at 0x1f358fbab70>"
      ]
     },
     "execution_count": 52,
     "metadata": {},
     "output_type": "execute_result"
    },
    {
     "data": {
      "image/png": "[encoded data removed]",
      "text/plain": [
       "<matplotlib.figure.Figure at 0x1f35a11fc50>"
      ]
     },
     "metadata": {},
     "output_type": "display_data"
    }
   ],
   "source": [
    "plt.plot(RMSE_array_means)\n",
    "plt.plot(RMSE_array_midpoints)\n",
    "plt.legend(labels=('means', 'midpoints'))"
   ]
  },
  {
   "cell_type": "code",
   "execution_count": 56,
   "metadata": {
    "scrolled": true
   },
   "outputs": [
    {
     "data": {
      "image/png": "[encoded data removed]",
      "text/plain": [
       "<matplotlib.figure.Figure at 0x1f35a48f320>"
      ]
     },
     "metadata": {},
     "output_type": "display_data"
    }
   ],
   "source": [
    "plt.plot(y_final);\n",
    "plt.plot(midpoint_predictions[0]);\n",
    "plt.plot(mean_predictions[0]);"
   ]
  },
  {
   "cell_type": "code",
   "execution_count": 55,
   "metadata": {},
   "outputs": [
    {
     "data": {
      "image/png": "[encoded data removed]",
      "text/plain": [
       "<matplotlib.figure.Figure at 0x1f35a3ea2b0>"
      ]
     },
     "metadata": {},
     "output_type": "display_data"
    }
   ],
   "source": [
    "plt.plot(y_final);\n",
    "plt.plot(predictions[5]);"
   ]
  },
  {
   "cell_type": "code",
   "execution_count": null,
   "metadata": {
    "collapsed": true
   },
   "outputs": [],
   "source": []
  }
 ],
 "metadata": {
  "kernelspec": {
   "display_name": "Python 3",
   "language": "python",
   "name": "python3"
  },
  "language_info": {
   "codemirror_mode": {
    "name": "ipython",
    "version": 3
   },
   "file_extension": ".py",
   "mimetype": "text/x-python",
   "name": "python",
   "nbconvert_exporter": "python",
   "pygments_lexer": "ipython3",
   "version": "3.6.2"
  }
 },
 "nbformat": 4,
 "nbformat_minor": 2
}
