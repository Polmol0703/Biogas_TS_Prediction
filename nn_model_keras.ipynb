{
 "cells": [
  {
   "cell_type": "code",
   "execution_count": 7,
   "metadata": {
    "collapsed": true
   },
   "outputs": [],
   "source": [
    "# conda install -c conda-forge keras \n",
    "# conda install -c anaconda pydot \n",
    "\n",
    "\n",
    "import keras\n",
    "from keras.models import Sequential\n",
    "from keras.layers import Dense\n",
    "from keras import metrics"
   ]
  },
  {
   "cell_type": "code",
   "execution_count": 8,
   "metadata": {},
   "outputs": [
    {
     "data": {
      "text/plain": [
       "'2.1.5'"
      ]
     },
     "execution_count": 8,
     "metadata": {},
     "output_type": "execute_result"
    }
   ],
   "source": [
    "keras.__version__"
   ]
  },
  {
   "cell_type": "code",
   "execution_count": 9,
   "metadata": {
    "collapsed": true
   },
   "outputs": [],
   "source": [
    "def load_mnist_data():\n",
    "\n",
    "    # Read input_data (not as one_hot)\n",
    "    from tensorflow.examples.tutorials.mnist import input_data\n",
    "\n",
    "    # new folder\n",
    "    mnist = input_data.read_data_sets(\"/tmp/data/\", one_hot=True)\n",
    "\n",
    "    # Assign them to values\n",
    "    x_train = mnist.train.images\n",
    "    x_test = mnist.test.images\n",
    "    y_train = mnist.train.labels.astype(\"int\")\n",
    "    y_test = mnist.test.labels.astype(\"int\")\n",
    "    return x_train, x_test, y_train, y_test"
   ]
  },
  {
   "cell_type": "code",
   "execution_count": 10,
   "metadata": {
    "collapsed": true
   },
   "outputs": [],
   "source": [
    "def run_keras_nn(x_train=None, y_train=None, x_test=None, y_test=None, \\\n",
    "                 hidden_layers=3,layer_neurons=100, activation='relu', \\\n",
    "                 epochs=5, train_batch_size=32, \\\n",
    "                 eval_batch_size=128, learning_rate = 0.01, test_mnist=False):\n",
    "    print(\"Starting keras model.\")\n",
    "    model = Sequential()\n",
    "    \n",
    "    if test_mnist:\n",
    "        x_train, x_test, y_train, y_test = load_mnist_data()\n",
    "    \n",
    "    for data in [x_train, x_test, y_train, y_test]:\n",
    "        if data is None:\n",
    "            raise Exception(\"Train and test data not properly specified.\")            \n",
    "\n",
    "    n_inputs  = x_train.shape[1]\n",
    "    n_outputs = y_train.shape[1]\n",
    "    print(n_inputs)\n",
    "    print(n_outputs)\n",
    "\n",
    "    \n",
    "    model.add(Dense(units=layer_neurons, activation=activation, input_dim=n_inputs))\n",
    "    # Add Layers\n",
    "    for layer in range(hidden_layers):\n",
    "        model.add(Dense(units=layer_neurons, activation=activation))\n",
    "    \n",
    "    model.add(Dense(units=n_outputs, activation='softmax'))\n",
    "\n",
    "\n",
    "    # Compile model (with loss, optimizer and metrics)\n",
    "    model.compile(loss=keras.losses.categorical_crossentropy,\n",
    "                  optimizer=keras.optimizers.SGD(lr=learning_rate, momentum=0.9, nesterov=True),\n",
    "                  metrics=[metrics.mae, metrics.categorical_accuracy])\n",
    "\n",
    "    # train model\n",
    "    model.fit(x_train, y_train, epochs=epochs, batch_size=train_batch_size)\n",
    "\n",
    "    # get loss and metrics\n",
    "    loss_and_metrics = model.evaluate(x_test, y_test, batch_size=eval_batch_size)\n",
    "    print(loss_and_metrics)\n",
    "    return loss_and_metrics"
   ]
  },
  {
   "cell_type": "code",
   "execution_count": 11,
   "metadata": {},
   "outputs": [
    {
     "name": "stdout",
     "output_type": "stream",
     "text": [
      "Starting keras model.\n",
      "Extracting /tmp/data/train-images-idx3-ubyte.gz\n",
      "Extracting /tmp/data/train-labels-idx1-ubyte.gz\n",
      "Extracting /tmp/data/t10k-images-idx3-ubyte.gz\n",
      "Extracting /tmp/data/t10k-labels-idx1-ubyte.gz\n",
      "784\n",
      "10\n",
      "Epoch 1/5\n",
      "55000/55000 [==============================] - 7s 133us/step - loss: 0.3168 - mean_absolute_error: 0.0297 - categorical_accuracy: 0.9016\n",
      "Epoch 2/5\n",
      "55000/55000 [==============================] - 7s 125us/step - loss: 0.1222 - mean_absolute_error: 0.0115 - categorical_accuracy: 0.9629\n",
      "Epoch 3/5\n",
      "55000/55000 [==============================] - 7s 126us/step - loss: 0.0886 - mean_absolute_error: 0.0084 - categorical_accuracy: 0.9719\n",
      "Epoch 4/5\n",
      "55000/55000 [==============================] - 7s 127us/step - loss: 0.0697 - mean_absolute_error: 0.0066 - categorical_accuracy: 0.9781\n",
      "Epoch 5/5\n",
      "55000/55000 [==============================] - 7s 130us/step - loss: 0.0598 - mean_absolute_error: 0.0057 - categorical_accuracy: 0.9808\n",
      "10000/10000 [==============================] - 0s 28us/step\n",
      "[0.098925910652242599, 0.0071418672074098138, 0.97160000000000002]\n"
     ]
    }
   ],
   "source": [
    "# l_and_m = run_keras_nn(test_mnist=True)"
   ]
  },
  {
   "cell_type": "code",
   "execution_count": 12,
   "metadata": {},
   "outputs": [
    {
     "name": "stdout",
     "output_type": "stream",
     "text": [
      "[0.098925910652242599, 0.0071418672074098138, 0.97160000000000002]\n"
     ]
    }
   ],
   "source": [
    "# print(l_and_m)"
   ]
  },
  {
   "cell_type": "code",
   "execution_count": 13,
   "metadata": {
    "collapsed": true
   },
   "outputs": [],
   "source": [
    "# Feed batch manually\n",
    "# model.train_on_batch(x_batch, y_batch)\n"
   ]
  },
  {
   "cell_type": "code",
   "execution_count": 14,
   "metadata": {
    "collapsed": true
   },
   "outputs": [],
   "source": [
    "# classes = model.predict(x_test, batch_size=128)"
   ]
  },
  {
   "cell_type": "code",
   "execution_count": 15,
   "metadata": {
    "collapsed": true
   },
   "outputs": [],
   "source": [
    "# x_train, x_test, y_train, y_test = load_mnist_data()"
   ]
  },
  {
   "cell_type": "code",
   "execution_count": 16,
   "metadata": {
    "collapsed": true
   },
   "outputs": [],
   "source": [
    "# print(type(y_train))\n",
    "# y_train"
   ]
  },
  {
   "cell_type": "code",
   "execution_count": null,
   "metadata": {
    "collapsed": true
   },
   "outputs": [],
   "source": []
  }
 ],
 "metadata": {
  "kernelspec": {
   "display_name": "Python 3",
   "language": "python",
   "name": "python3"
  },
  "language_info": {
   "codemirror_mode": {
    "name": "ipython",
    "version": 3
   },
   "file_extension": ".py",
   "mimetype": "text/x-python",
   "name": "python",
   "nbconvert_exporter": "python",
   "pygments_lexer": "ipython3",
   "version": "3.6.3"
  }
 },
 "nbformat": 4,
 "nbformat_minor": 2
}
