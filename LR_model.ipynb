{
 "cells": [
  {
   "cell_type": "code",
   "execution_count": 1,
   "metadata": {
    "collapsed": true
   },
   "outputs": [
    {
     "name": "stderr",
     "output_type": "stream",
     "text": [
      "C:\\Users\\molin\\Anaconda3\\lib\\site-packages\\statsmodels\\compat\\pandas.py:56: FutureWarning: The pandas.core.datetools module is deprecated and will be removed in a future version. Please use the pandas.tseries module instead.\n",
      "  from pandas.core import datetools\n"
     ]
    }
   ],
   "source": [
    "import pandas as pd\n",
    "import numpy as np\n",
    "import matplotlib.pyplot as plt\n",
    "import seaborn as sns\n",
    "from string import ascii_letters\n",
    "from sklearn import linear_model\n",
    "import statsmodels.api as sm\n",
    "from scipy import stats\n",
    "%matplotlib inline\n",
    "from sklearn.metrics import mean_absolute_error\n",
    "from sklearn.metrics import mean_squared_error"
   ]
  },
  {
   "cell_type": "code",
   "execution_count": 2,
   "metadata": {
    "collapsed": true
   },
   "outputs": [],
   "source": [
    "def run_lm(x_train = None, y_train = None, x_test = None, y_test = None):\n",
    "    \n",
    "    np.random.seed(1337)\n",
    "    print(\"Starting linear regression model.\")\n",
    "    lm = linear_model.LinearRegression()\n",
    "    model = lm.fit(x_train,y_train)\n",
    "    \n",
    "    x_train2 = sm.add_constant(x_train)\n",
    "    est = sm.OLS(y_train, x_train2)\n",
    "    est2 = est.fit()\n",
    "    print(est2.summary())\n",
    "    \n",
    "    y_train_pred = lm.predict(x_train)\n",
    "    train_error = mean_absolute_error(y_train, y_train_pred)\n",
    "    print(\"The mean absolute error of linear regression on training set is: \", train_error)\n",
    "    \n",
    "    y_test_pred = lm.predict(x_test)\n",
    "    test_error = mean_absolute_error(y_test, y_test_pred)\n",
    "    test_error_relative = test_error/np.mean(y_train)\n",
    "    r_squared = lm.score(x_test, y_test)\n",
    "    print(\"The mean absolute error of linear regression test set is: \", test_error)\n",
    "    return [train_error, test_error, r_squared, test_error_relative]"
   ]
  },
  {
   "cell_type": "code",
   "execution_count": 3,
   "metadata": {
    "collapsed": true
   },
   "outputs": [],
   "source": [
    "def run_lm_quick(x_train = None, y_train = None, x_test = None, y_test = None):\n",
    "    \n",
    "    np.random.seed(1337)\n",
    "    #print(\"Starting linear regression model.\")\n",
    "    lm = linear_model.LinearRegression()\n",
    "    model = lm.fit(x_train,y_train)\n",
    "    \n",
    "    #x_train2 = sm.add_constant(x_train)\n",
    "    #est = sm.OLS(y_train, x_train2)\n",
    "    #est2 = est.fit()\n",
    "    #print(est2.summary())\n",
    "    \n",
    "    y_train_pred = lm.predict(x_train)\n",
    "    train_error = mean_absolute_error(y_train, y_train_pred)\n",
    "    #print(\"The mean absolute error of linear regression on training set is: \", train_error)\n",
    "    \n",
    "    y_test_pred = lm.predict(x_test)\n",
    "    test_error = mean_absolute_error(y_test, y_test_pred)\n",
    "    test_error_relative = test_error/np.mean(y_train)\n",
    "    r_squared = lm.score(x_test, y_test)\n",
    "    #print(\"The mean absolute error of linear regression test set is: \", test_error)\n",
    "    return [train_error, test_error, r_squared, test_error_relative]"
   ]
  },
  {
   "cell_type": "code",
   "execution_count": 9,
   "metadata": {
    "collapsed": true
   },
   "outputs": [],
   "source": [
    "from sklearn.linear_model import Ridge\n",
    "def run_ridge(x_train, y_train, x_test, y_test, alpha=0.5):\n",
    "    \n",
    "    np.random.seed(1337)\n",
    "    #Fit the model\n",
    "    ridgereg = Ridge(alpha = alpha, normalize = True)\n",
    "    ridgereg.fit(x_train, y_train)\n",
    "    \n",
    "    y_train_pred = ridgereg.predict(x_train)\n",
    "    train_error = mean_absolute_error(y_train, y_train_pred)\n",
    "    #print(\"The mean absolute error of ridge regression on training set is: \", train_error)\n",
    "    \n",
    "    y_test_pred = ridgereg.predict(x_test)\n",
    "    test_error = mean_absolute_error(y_test, y_test_pred)\n",
    "    r_squared = ridgereg.score(x_test, y_test)\n",
    "    #print(\"The mean absolute error of ridge regression test set is: \", test_error)    \n",
    "    \n",
    "    return [train_error, test_error, r_squared]"
   ]
  },
  {
   "cell_type": "code",
   "execution_count": 10,
   "metadata": {
    "collapsed": true
   },
   "outputs": [],
   "source": [
    "from sklearn.linear_model import Lasso\n",
    "def run_lasso(x_train, y_train, x_test, y_test, alpha=0.5):\n",
    "    \n",
    "    np.random.seed(1337)\n",
    "    #Fit the model\n",
    "    lassoreg = Lasso(alpha=alpha,normalize=True, max_iter=1e5)\n",
    "    lassoreg.fit(x_train, y_train)\n",
    "    \n",
    "    y_train_pred = lassoreg.predict(x_train)\n",
    "    train_error = mean_absolute_error(y_train, y_train_pred)\n",
    "    #print(\"The mean absolute error of lasso regression on training set is: \", train_error)\n",
    "    \n",
    "    y_test_pred = lassoreg.predict(x_test)\n",
    "    test_error = mean_absolute_error(y_test, y_test_pred)\n",
    "    r_squared = lassoreg.score(x_test, y_test)\n",
    "    #print(\"The mean absolute error of ridge regression test set is: \", test_error)    \n",
    "    \n",
    "    return [train_error, test_error, r_squared]"
   ]
  },
  {
   "cell_type": "code",
   "execution_count": 6,
   "metadata": {
    "collapsed": true
   },
   "outputs": [],
   "source": [
    "def run_ridge_2(x_train, y_train, x_test, y_test, alpha):\n",
    "    \n",
    "    #Fit the model\n",
    "    ridgereg = Ridge(alpha = alpha, normalize = True)\n",
    "    ridgereg.fit(x_train, y_train)\n",
    "    \n",
    "    y_train_pred = ridgereg.predict(x_train)\n",
    "    train_error = mean_absolute_error(y_train, y_train_pred)\n",
    "    print(\"The mean absolute error of ridge regression on training set is: \", train_error)\n",
    "    \n",
    "    y_test_pred = ridgereg.predict(x_test)\n",
    "    test_error = mean_absolute_error(y_test, y_test_pred)\n",
    "    print(\"The mean absolute error of ridge regression test set is: \", test_error)  \n",
    "        \n",
    "    #Return the result in pre-defined format\n",
    "    rss = sum((y_test_pred - y_test)**2)\n",
    "    ret = [rss]\n",
    "    ret.extend([ridgereg.intercept_])\n",
    "    ret.extend(ridgereg.coef_)\n",
    "    return ret"
   ]
  },
  {
   "cell_type": "code",
   "execution_count": null,
   "metadata": {
    "collapsed": true
   },
   "outputs": [],
   "source": []
  }
 ],
 "metadata": {
  "kernelspec": {
   "display_name": "Python 3",
   "language": "python",
   "name": "python3"
  },
  "language_info": {
   "codemirror_mode": {
    "name": "ipython",
    "version": 3
   },
   "file_extension": ".py",
   "mimetype": "text/x-python",
   "name": "python",
   "nbconvert_exporter": "python",
   "pygments_lexer": "ipython3",
   "version": "3.6.3"
  }
 },
 "nbformat": 4,
 "nbformat_minor": 2
}
