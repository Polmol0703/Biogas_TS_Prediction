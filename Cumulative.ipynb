{
 "cells": [
  {
   "cell_type": "code",
   "execution_count": 1,
   "metadata": {
    "collapsed": true
   },
   "outputs": [],
   "source": [
    "def cumulative(df, time_bucket):\n",
    "    dfnew = df.copy()\n",
    "    length = dfnew.shape[0]\n",
    "    \n",
    "    i = time_bucket - 1\n",
    "    while i <= length:\n",
    "        for x in range(1, time_bucket):\n",
    "                dfnew.iloc[int(i)] = dfnew.iloc[int(i)] + dfnew.iloc[int(i)-int(x)]\n",
    "        i = i + time_bucket \n",
    "\n",
    "\n",
    "    indexes = []\n",
    "    for i in range(length):\n",
    "        if (int(i)+1)%time_bucket != 0:\n",
    "            indexes = indexes + [i]\n",
    "\n",
    "    df_cumul = dfnew.drop(dfnew.index[indexes])\n",
    "    return df_cumul\n",
    "    "
   ]
  },
  {
   "cell_type": "code",
   "execution_count": null,
   "metadata": {
    "collapsed": true
   },
   "outputs": [],
   "source": []
  }
 ],
 "metadata": {
  "kernelspec": {
   "display_name": "Python 3",
   "language": "python",
   "name": "python3"
  },
  "language_info": {
   "codemirror_mode": {
    "name": "ipython",
    "version": 3
   },
   "file_extension": ".py",
   "mimetype": "text/x-python",
   "name": "python",
   "nbconvert_exporter": "python",
   "pygments_lexer": "ipython3",
   "version": "3.6.3"
  }
 },
 "nbformat": 4,
 "nbformat_minor": 2
}
