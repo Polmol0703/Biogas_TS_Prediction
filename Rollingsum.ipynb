{
 "cells": [
  {
   "cell_type": "code",
   "execution_count": 3,
   "metadata": {
    "collapsed": true
   },
   "outputs": [],
   "source": [
    "def rollingsum(df, time_bucket):\n",
    "    length = df.shape[0]\n",
    "    df_rollingsum = df.drop(df.index[range(length-time_bucket, length)])\n",
    "    i = 0\n",
    "    for i in range(length - time_bucket):\n",
    "        df_cut = df.iloc[range(i, time_bucket+i)]\n",
    "        df_rollingsum.iloc[i] = df_cut.sum(axis=0)\n",
    "        \n",
    "    return df_rollingsum"
   ]
  },
  {
   "cell_type": "code",
   "execution_count": 18,
   "metadata": {
    "collapsed": true
   },
   "outputs": [],
   "source": [
    "def cumulative2(df, time_bucket):\n",
    "    length = df.shape[0]\n",
    "    df_cumulative = df.drop(df.index[range(round(length/time_bucket)  , length)])\n",
    "    i = 0\n",
    "    for i in range(round(length/time_bucket)-1):\n",
    "        df_cut = df.iloc[range(i*time_bucket, (i+1)*time_bucket)]\n",
    "        df_cumulative.iloc[i] = df_cut.sum(axis=0)\n",
    "        \n",
    "    return df_cumulative"
   ]
  },
  {
   "cell_type": "code",
   "execution_count": null,
   "metadata": {
    "collapsed": true
   },
   "outputs": [],
   "source": []
  }
 ],
 "metadata": {
  "kernelspec": {
   "display_name": "Python 3",
   "language": "python",
   "name": "python3"
  },
  "language_info": {
   "codemirror_mode": {
    "name": "ipython",
    "version": 3
   },
   "file_extension": ".py",
   "mimetype": "text/x-python",
   "name": "python",
   "nbconvert_exporter": "python",
   "pygments_lexer": "ipython3",
   "version": "3.6.2"
  }
 },
 "nbformat": 4,
 "nbformat_minor": 2
}
