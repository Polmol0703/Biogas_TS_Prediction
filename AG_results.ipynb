{
 "cells": [
  {
   "cell_type": "code",
   "execution_count": null,
   "metadata": {
    "collapsed": true
   },
   "outputs": [],
   "source": [
    "# CONTROL\n",
    "# time_shift = 15 days\n",
    "# rolling_sum = 10 days\n",
    "# Linear Regression - Mean Absolute Error  train: 21597.5568336 test: 19971.1074232\n",
    "# Ridge Regression - Mean Absolute Error  train: 21597.5568336 test: 19971.1074232\n",
    "# Logistic Model - Accuracy: 0.580071174377\n",
    "# Decision Tree - Accuracy: 0.715302491103\n",
    "# Random Forest - Accuracy: 0.811387900356\n",
    "# Naive Bayes - Accuracy: 0.362989323843\n",
    "# Neural Net - Mean Absolute Error: 0.189478514139  Categorial Accuracy: 0.423487543529"
   ]
  },
  {
   "cell_type": "code",
   "execution_count": null,
   "metadata": {
    "collapsed": true
   },
   "outputs": [],
   "source": [
    "# AG_ts3\n",
    "# Linear Regression - Mean Absolute Error  train: 7874.99261695 test: 8166.41564612\n",
    "# Ridge Regression - Mean Absolute Error  train: 7874.99261695 test: 8166.41564612\n",
    "# Logistic Model - Accuracy: 0.439716312057\n",
    "# Decision Tree - Accuracy: 0.382978723404\n",
    "# Random Forest - Accuracy: 0.429078014184\n",
    "# Naive Bayes - Accuracy: 0.27304964539\n",
    "# Neural Net - Mean Absolute Error: 0.193797464383  Categorial Accuracy: 0.404255319994"
   ]
  },
  {
   "cell_type": "code",
   "execution_count": null,
   "metadata": {
    "collapsed": true
   },
   "outputs": [],
   "source": [
    "# AG\n",
    "# time_shift = 18 days\n",
    "# rolling_sum = 20 days\n",
    "\n",
    "# Linear Regression - Mean Absolute Error  train: 36148.2551521 test: 33249.3298954\n",
    "# Ridge Regression - Mean Absolute Error  train: 36148.2551521 test: 33249.3298954\n",
    "# Logistic Model - Accuracy: 0.68345323741\n",
    "# Decision Tree - Accuracy: 0.86690647482\n",
    "# Random Forest - Accuracy: 0.888489208633\n",
    "# Naive Bayes - Accuracy: 0.496402877698\n",
    "# Neural Net - Mean Absolute Error: 0.150923178243  Categorial Accuracy: 0.636690645338"
   ]
  },
  {
   "cell_type": "code",
   "execution_count": null,
   "metadata": {
    "collapsed": true
   },
   "outputs": [],
   "source": [
    "# AG\n",
    "# (exact same as above)\n",
    "# time_shift = 18 days\n",
    "# rolling_sum = 20 days\n",
    "\n",
    "# Linear Regression - Mean Absolute Error  train: 35340.9791677 test: 35597.074431\n",
    "# Ridge Regression - Mean Absolute Error  train: 35340.9791677 test: 35597.074431\n",
    "# Logistic Model - Accuracy: 0.694244604317\n",
    "# Decision Tree - Accuracy: 0.881294964029\n",
    "# Random Forest - Accuracy: 0.913669064748\n",
    "# Naive Bayes - Accuracy: 0.510791366906\n",
    "# Neural Net - Mean Absolute Error: 0.153570478661  Categorial Accuracy: 0.55755395469"
   ]
  },
  {
   "cell_type": "code",
   "execution_count": null,
   "metadata": {
    "collapsed": true
   },
   "outputs": [],
   "source": [
    "# AG\n",
    "# time_shift = 18 days\n",
    "# rolling_sum = 25 days\n",
    "\n",
    "# Linear Regression - Mean Absolute Error  train: 39325.9837324 test: 40611.9119083\n",
    "# Ridge Regression - Mean Absolute Error  train: 39325.9837324 test: 40611.9119083\n",
    "# Logistic Model - Accuracy: 0.765342960289\n",
    "# Decision Tree - Accuracy: 0.873646209386\n",
    "# Random Forest - Accuracy: 0.895306859206\n",
    "# Naive Bayes - Accuracy: 0.559566787004\n",
    "# Neural Net - Mean Absolute Error: 0.14052526174  Categorial Accuracy: 0.606498195053"
   ]
  },
  {
   "cell_type": "code",
   "execution_count": null,
   "metadata": {
    "collapsed": true
   },
   "outputs": [],
   "source": [
    "# AG\n",
    "# (exact same as above)\n",
    "# time_shift = 18 days\n",
    "# rolling_sum = 25 days\n",
    "\n",
    "# Linear Regression - Mean Absolute Error  train: 40120.9645132 test: 40207.2037367\n",
    "# Ridge Regression - Mean Absolute Error  train: 40120.9645132 test: 40207.2037367\n",
    "# Logistic Model - Accuracy: 0.73285198556\n",
    "# Decision Tree - Accuracy: 0.862815884477\n",
    "# Random Forest - Accuracy: 0.913357400722\n",
    "# Naive Bayes - Accuracy: 0.563176895307\n",
    "# Neural Net - Mean Absolute Error: 0.150682357567  Categorial Accuracy: 0.595667871973"
   ]
  },
  {
   "cell_type": "code",
   "execution_count": null,
   "metadata": {
    "collapsed": true
   },
   "outputs": [],
   "source": [
    "# AG\n",
    "# time_shift = 18 days\n",
    "# rolling_sum = 30 days\n",
    "\n",
    "# Linear Regression - Mean Absolute Error  train: 42778.4900435 test: 44269.6954691\n",
    "# Ridge Regression - Mean Absolute Error  train: 42778.4900435 test: 44269.6954691\n",
    "# Logistic Model - Accuracy: 0.775362318841\n",
    "# Decision Tree - Accuracy: 0.923913043478\n",
    "# Random Forest - Accuracy: 0.93115942029\n",
    "# Naive Bayes - Accuracy: 0.565217391304\n",
    "# Neural Net - Mean Absolute Error: 0.146118229714  Categorial Accuracy: 0.572463767252"
   ]
  },
  {
   "cell_type": "code",
   "execution_count": null,
   "metadata": {
    "collapsed": true
   },
   "outputs": [],
   "source": [
    "# AG\n",
    "# (exact same as above)\n",
    "# time_shift = 18 days\n",
    "# rolling_sum = 30 days\n",
    "\n",
    "# Linear Regression - Mean Absolute Error  train: 41780.8610334 test: 46701.6035645\n",
    "# Ridge Regression - Mean Absolute Error  train: 41780.8610334 test: 46701.6035645\n",
    "# Logistic Model - Accuracy: 0.778985507246\n",
    "# Decision Tree - Accuracy: 0.934782608696\n",
    "# Random Forest - Accuracy: 0.927536231884\n",
    "# Naive Bayes - Accuracy: 0.594202898551\n",
    "# Neural Net - Mean Absolute Error: 0.150297584741  Categorial Accuracy: 0.565217391304"
   ]
  },
  {
   "cell_type": "code",
   "execution_count": null,
   "metadata": {
    "collapsed": true
   },
   "outputs": [],
   "source": [
    "# AG\n",
    "# time_shift = 15 days\n",
    "# rolling_sum = 30 days\n",
    "\n",
    "# Linear Regression - Mean Absolute Error  train: 39689.6776303 test: 39759.0300649\n",
    "# Ridge Regression - Mean Absolute Error  train: 39689.6776303 test: 39759.0300649\n",
    "# Logistic Model - Accuracy: 0.776173285199\n",
    "# Decision Tree - Accuracy: 0.906137184116\n",
    "# Random Forest - Accuracy: 0.916967509025\n",
    "# Naive Bayes - Accuracy: 0.592057761733\n",
    "# Neural Net - Mean Absolute Error: 0.145657121167  Categorial Accuracy: 0.548736463385"
   ]
  },
  {
   "cell_type": "code",
   "execution_count": null,
   "metadata": {
    "collapsed": true
   },
   "outputs": [],
   "source": [
    "# AG\n",
    "# (exact same as above)\n",
    "# time_shift = 15 days\n",
    "# rolling_sum = 30 days\n",
    "\n",
    "# Linear Regression - Mean Absolute Error  train: 39101.6084487 test: 41625.252685\n",
    "# Ridge Regression - Mean Absolute Error  train: 39101.6084487 test: 41625.252685\n",
    "# Logistic Model - Accuracy: 0.754512635379\n",
    "# Decision Tree - Accuracy: 0.898916967509\n",
    "# Random Forest - Accuracy: 0.920577617329\n",
    "# Naive Bayes - Accuracy: 0.599277978339\n",
    "# Neural Net - Mean Absolute Error: 0.14480309382  Categorial Accuracy: 0.592057763885"
   ]
  },
  {
   "cell_type": "code",
   "execution_count": null,
   "metadata": {
    "collapsed": true
   },
   "outputs": [],
   "source": [
    "# AG\n",
    "# time_shift = 21 days\n",
    "# rolling_sum = 30 days\n",
    "\n",
    "# Linear Regression - Mean Absolute Error  train: 45696.3250622 test: 47422.576779\n",
    "# Ridge Regression - Mean Absolute Error  train: 45696.3250622 test: 47422.576779\n",
    "# Logistic Model - Accuracy: 0.797101449275\n",
    "# Decision Tree - Accuracy: 0.923913043478\n",
    "# Random Forest - Accuracy: 0.952898550725\n",
    "# Naive Bayes - Accuracy: 0.561594202899\n",
    "# Neural Net - Mean Absolute Error: 0.145214224207  Categorial Accuracy: 0.583333334197"
   ]
  },
  {
   "cell_type": "code",
   "execution_count": null,
   "metadata": {
    "collapsed": true
   },
   "outputs": [],
   "source": [
    "# AG\n",
    "# (exact same as above)\n",
    "# time_shift = 21 days\n",
    "# rolling_sum = 30 days\n",
    "\n",
    "# Linear Regression - Mean Absolute Error  train: 45777.3933696 test: 47234.9504732\n",
    "# Ridge Regression - Mean Absolute Error  train: 45777.3933696 test: 47234.9504732\n",
    "# Logistic Model - Accuracy: 0.735507246377\n",
    "# Decision Tree - Accuracy: 0.902173913043\n",
    "# Random Forest - Accuracy: 0.942028985507\n",
    "# Naive Bayes - Accuracy: 0.601449275362\n",
    "# Neural Net - Mean Absolute Error: 0.141194321107  Categorial Accuracy: 0.597826088684"
   ]
  },
  {
   "cell_type": "code",
   "execution_count": null,
   "metadata": {
    "collapsed": true
   },
   "outputs": [],
   "source": [
    "# AG\n",
    "# drop 2ndary inputs - NaOH, FeCl2, PAM, Defoamer\n",
    "# time_shift = 21 days\n",
    "# rolling_sum = 30 days\n",
    "\n",
    "# Linear Regression - Mean Absolute Error  train: 48814.6233987 test: 49282.7329365\n",
    "# Ridge Regression - Mean Absolute Error  train: 48814.6233987 test: 49282.7329365\n",
    "# Logistic Model - Accuracy: 0.692028985507\n",
    "# Decision Tree - Accuracy: 0.913043478261\n",
    "# Random Forest - Accuracy: 0.923913043478\n",
    "# Naive Bayes - Accuracy: 0.532608695652\n",
    "# Neural Net - Mean Absolute Error: 0.171414843936  Categorial Accuracy: 0.492753623188"
   ]
  },
  {
   "cell_type": "code",
   "execution_count": null,
   "metadata": {
    "collapsed": true
   },
   "outputs": [],
   "source": [
    "# AG\n",
    "# (exact same as above)\n",
    "# drop 2ndary inputs - NaOH, FeCl2, PAM, Defoamer\n",
    "# time_shift = 21 days\n",
    "# rolling_sum = 30 days\n",
    "\n",
    "# Linear Regression - Mean Absolute Error  train: 49344.4982272 test: 48714.3872992\n",
    "# Ridge Regression - Mean Absolute Error  train: 49344.4982272 test: 48714.3872992\n",
    "# Logistic Model - Accuracy: 0.688405797101\n",
    "# Decision Tree - Accuracy: 0.920289855072\n",
    "# Random Forest - Accuracy: 0.945652173913\n",
    "# Naive Bayes - Accuracy: 0.518115942029\n",
    "# Neural Net - Mean Absolute Error: 0.165349615225  Categorial Accuracy: 0.478260868701"
   ]
  },
  {
   "cell_type": "code",
   "execution_count": null,
   "metadata": {},
   "outputs": [],
   "source": [
    "# AG\n",
    "# time_shift = 20 days\n",
    "# rolling_sum = 30 days\n",
    "\n",
    "# Linear Regression - Mean Absolute Error  train: 43636.4742775 test: 48674.7002255\n",
    "# Ridge Regression - Mean Absolute Error  train: 43636.4742775 test: 48674.7002255\n",
    "# Logistic Model - Accuracy: 0.768115942029\n",
    "# Decision Tree - Accuracy: 0.898550724638\n",
    "# Random Forest - Accuracy: 0.949275362319\n",
    "# Naive Bayes - Accuracy: 0.557971014493\n",
    "# Neural Net - Mean Absolute Error: 0.136339267095  Categorial Accuracy: 0.630434783473"
   ]
  },
  {
   "cell_type": "code",
   "execution_count": null,
   "metadata": {},
   "outputs": [],
   "source": [
    "# AG\n",
    "# (exact same as above)\n",
    "# time_shift = 20 days\n",
    "# rolling_sum = 30 days\n",
    "# Linear Regression - Mean Absolute Error  train: 44908.5427556 test: 45021.5739211\n",
    "# Ridge Regression - Mean Absolute Error  train: 44908.5427556 test: 45021.5739211\n",
    "# Logistic Model - Accuracy: 0.735507246377\n",
    "# Decision Tree - Accuracy: 0.93115942029\n",
    "# Random Forest - Accuracy: 0.938405797101\n",
    "# Naive Bayes - Accuracy: 0.576086956522\n",
    "# Neural Net - Mean Absolute Error: 0.141041278623  Categorial Accuracy: 0.615942030713"
   ]
  },
  {
   "cell_type": "code",
   "execution_count": null,
   "metadata": {},
   "outputs": [],
   "source": [
    "# AG\n",
    "# time_shift = 20 days\n",
    "# rolling_sum = 20 days\n",
    "\n",
    "# Linear Regression - Mean Absolute Error  train: 36643.3904894 test: 36658.1034621\n",
    "# Ridge Regression - Mean Absolute Error  train: 36643.3904894 test: 36658.1034621\n",
    "# Logistic Model - Accuracy: 0.640287769784\n",
    "# Decision Tree - Accuracy: 0.848920863309\n",
    "# Random Forest - Accuracy: 0.884892086331\n",
    "# Naive Bayes - Accuracy: 0.492805755396\n",
    "# Neural Net - Mean Absolute Error: 0.165282040727  Categorial Accuracy: 0.510791364762"
   ]
  },
  {
   "cell_type": "code",
   "execution_count": null,
   "metadata": {},
   "outputs": [],
   "source": [
    "# AG\n",
    "# (exact same as above)\n",
    "# time_shift = 20 days\n",
    "# rolling_sum = 20 days\n",
    "\n",
    "# Linear Regression - Mean Absolute Error  train: 36336.2789594 test: 36278.310645\n",
    "# Ridge Regression - Mean Absolute Error  train: 36336.2789594 test: 36278.310645\n",
    "# Logistic Model - Accuracy: 0.701438848921\n",
    "# Decision Tree - Accuracy: 0.845323741007\n",
    "# Random Forest - Accuracy: 0.928057553957\n",
    "# Naive Bayes - Accuracy: 0.467625899281\n",
    "# Neural Net - Mean Absolute Error: 0.146874763715  Categorial Accuracy: 0.625899281433"
   ]
  },
  {
   "cell_type": "code",
   "execution_count": null,
   "metadata": {},
   "outputs": [],
   "source": [
    "# AG\n",
    "# time_shift = 30 days\n",
    "# rolling_sum = 35 days\n",
    "\n",
    "# Linear Regression - Mean Absolute Error  train: 54616.9020432 test: 56638.0162025\n",
    "# Ridge Regression - Mean Absolute Error  train: 54616.9020432 test: 56638.0162025\n",
    "# Logistic Model - Accuracy: 0.765567765568\n",
    "# Decision Tree - Accuracy: 0.893772893773\n",
    "# Random Forest - Accuracy: 0.92673992674\n",
    "# Naive Bayes - Accuracy: 0.516483516484\n",
    "# Neural Net - Mean Absolute Error: 0.15741277265  Categorial Accuracy: 0.501831501941"
   ]
  },
  {
   "cell_type": "code",
   "execution_count": null,
   "metadata": {},
   "outputs": [],
   "source": [
    "# AG\n",
    "# (exact same as above)\n",
    "# time_shift = 30 days\n",
    "# rolling_sum = 35 days\n",
    "\n",
    "# Linear Regression - Mean Absolute Error  train: 55180.7369809 test: 53997.6168546\n",
    "# Ridge Regression - Mean Absolute Error  train: 55180.7369809 test: 53997.6168546\n",
    "# Logistic Model - Accuracy: 0.787545787546\n",
    "# Decision Tree - Accuracy: 0.948717948718\n",
    "# Random Forest - Accuracy: 0.948717948718\n",
    "# Naive Bayes - Accuracy: 0.549450549451\n",
    "# Neural Net - Mean Absolute Error: 0.136751143705  Categorial Accuracy: 0.615384616913\n",
    "# XGBoost - Accuracy:  0.952380952381"
   ]
  },
  {
   "cell_type": "code",
   "execution_count": null,
   "metadata": {},
   "outputs": [],
   "source": [
    "# AG\n",
    "# time_shift = 35 days\n",
    "# rolling_sum = 37 days\n",
    "\n",
    "# Linear Regression - Mean Absolute Error  train: 57561.0829022 test: 59893.5935421\n",
    "# Ridge Regression - Mean Absolute Error  train: 57561.0829022 test: 59893.5935421\n",
    "# Logistic Model - Accuracy: 0.772058823529\n",
    "# Decision Tree - Accuracy: 0.922794117647\n",
    "# Random Forest - Accuracy: 0.933823529412\n",
    "# Naive Bayes - Accuracy: 0.507352941176\n",
    "# Neural Net - Mean Absolute Error: 0.144691929221  Categorial Accuracy: 0.595588235294\n",
    "# XGBoost - Accuracy:  0.941176470588"
   ]
  }
 ],
 "metadata": {
  "kernelspec": {
   "display_name": "Python 3",
   "language": "python",
   "name": "python3"
  },
  "language_info": {
   "codemirror_mode": {
    "name": "ipython",
    "version": 3
   },
   "file_extension": ".py",
   "mimetype": "text/x-python",
   "name": "python",
   "nbconvert_exporter": "python",
   "pygments_lexer": "ipython3",
   "version": "3.6.0"
  }
 },
 "nbformat": 4,
 "nbformat_minor": 2
}
