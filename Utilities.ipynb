{
 "cells": [
  {
   "cell_type": "code",
   "execution_count": 1,
   "metadata": {},
   "outputs": [
    {
     "name": "stdout",
     "output_type": "stream",
     "text": [
      "importing Jupyter notebook from Stratified_Split.ipynb\n"
     ]
    }
   ],
   "source": [
    "from import_notebooks import *\n",
    "\n",
    "import pandas as pd\n",
    "import numpy as np\n",
    "\n",
    "from Stratified_Split import *\n",
    "from sklearn.model_selection import train_test_split"
   ]
  },
  {
   "cell_type": "code",
   "execution_count": 2,
   "metadata": {
    "collapsed": true
   },
   "outputs": [],
   "source": [
    "def test_train_for_classification(df_final, output_var=\"RawBiogas\", num_buckets = 7, one_hot=False):\n",
    "    x = df_final.drop([output_var], axis=1)\n",
    "    y = df_final[output_var]\n",
    "    # Bucketing function\n",
    "    # y2 = pd.qcut(y,7, labels=[\"bottom\", \"low\", \"lower mid\", \"mid\", \"upper mid\", \"high\", \"top\"])\n",
    "\n",
    "#     num_buckets = 7\n",
    "    y2, bins = pd.qcut(y,num_buckets, retbins=True, labels=range(0,num_buckets))\n",
    "    x_train, x_test, y_train, y_test = Stratified_Split(x,y2)\n",
    "    # y_train\n",
    "\n",
    "    if one_hot:\n",
    "        y_train = pd.get_dummies(y_train)\n",
    "        y_test = pd.get_dummies(y_test)\n",
    "\n",
    "    # convert to nd array\n",
    "    x_train = x_train.values\n",
    "    x_test = x_test.values\n",
    "\n",
    "    # print(x_train, x_test, y_train, y_test)\n",
    "    return x_train, y_train, x_test, y_test, bins"
   ]
  },
  {
   "cell_type": "code",
   "execution_count": 3,
   "metadata": {
    "collapsed": true
   },
   "outputs": [],
   "source": [
    "def test_train_for_regression(df_final, output_var=\"RawBiogas\", split=0.2):\n",
    "    x = df_final.drop([output_var], axis=1)\n",
    "    y = df_final[output_var]\n",
    "    x_train, x_test, y_train, y_test = train_test_split(x, y, test_size=split)\n",
    "    return x_train, y_train,x_test, y_test"
   ]
  }
 ],
 "metadata": {
  "kernelspec": {
   "display_name": "Python 3",
   "language": "python",
   "name": "python3"
  },
  "language_info": {
   "codemirror_mode": {
    "name": "ipython",
    "version": 3
   },
   "file_extension": ".py",
   "mimetype": "text/x-python",
   "name": "python",
   "nbconvert_exporter": "python",
   "pygments_lexer": "ipython3",
   "version": "3.6.3"
  }
 },
 "nbformat": 4,
 "nbformat_minor": 2
}
